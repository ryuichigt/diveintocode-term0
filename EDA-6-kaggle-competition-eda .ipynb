{
 "cells": [
  {
   "cell_type": "markdown",
   "metadata": {},
   "source": [
    "# Kaggle HomeCredit EDA "
   ]
  },
  {
   "cell_type": "markdown",
   "metadata": {},
   "source": [
    "# 前書き\n",
    "\n",
    "コンペティションの説明\n",
    "\n",
    "不十分な、または存在しないクレジット履歴のために、多くの人々が融資を受けるのに苦労しています。 そして、残念なことに、この人口は、信頼できない貸し手によってしばしば利用されます。\n",
    "\n",
    "ホームクレジットは、肯定的で安全な借入経験を提供することによって、非銀行人口の財政的包摂を広げるよう努める。 この不十分な人口が積極的なローン経験を持っていることを確認するために、ホームクレジットは、顧客の返済能力を予測するために、電話や取引情報を含むさまざまな代替データを利用しています。\n",
    "\n",
    "ホームクレジットは現在、これらの予測を行うためにさまざまな統計的方法や機械学習方法を使用していますが、彼らは彼らのデータの潜在能力を最大限に発揮させるためにKagglersに挑戦しています。 そうすることで、返済可能なクライアントが拒絶されないこと、およびクライアントが成功するためのプリンシパル、成熟度、返済カレンダーでローンが提供されることが保証されます。\n",
    "\n",
    "________\n",
    "\n"
   ]
  },
  {
   "cell_type": "markdown",
   "metadata": {},
   "source": [
    "このカーネルは、EDAを目的として作業を進めていきます。\n",
    "\n",
    "作業工程は\n",
    "\n",
    "①問題の定義。  \n",
    "②訓練データを取得する。  \n",
    "③データを整理し、準備し、浄化する。  \n",
    "④分析し、パターンを特定し、データを探索する。  \n",
    "⑤モデル、予測し、問題を解決する。  \n",
    "⑥問題を解決し、報告し、提示する。  \n",
    "\n",
    "上記の手順で実行していきます。"
   ]
  },
  {
   "cell_type": "markdown",
   "metadata": {},
   "source": [
    "# ①質問または問題の定義。\n",
    "\n",
    "まず始めに、ファイルの全体構造をみていきましょう。  \n",
    "\n",
    "各ファイルの中身などはkaggleで確認してください。  \n",
    "https://www.kaggle.com/c/home-credit-default-risk/data"
   ]
  },
  {
   "cell_type": "markdown",
   "metadata": {},
   "source": [
    "![image](https://storage.googleapis.com/kaggle-media/competitions/\n",
    "home-credit/home_credit.png)"
   ]
  },
  {
   "cell_type": "markdown",
   "metadata": {},
   "source": [
    "図をみて見ましょう。  \n",
    "今回のコンペティションでは、とても多くのファイルが用意されています。  \n",
    "下の階層のデータにはトランザクションデータなどもあり、とても大量のデータ量となってます。  \n",
    "kaggleで上位を目指すには全てのデータを使わないと難しいかもしれませんが、データ量が膨大なため今回はapplication_trainを中心にデータ探索を行なっていきます。  \n",
    "また今回の目標はtrainデータで学習できる所まで、データを整えていきたいと思います。  \n",
    "\n",
    "そして今回のデータには、専門的な用語が数多く存在しますので分からない特徴などはデータセットにあるHomeCredit_columns_description.csvを確認し、しっかり理解してからEDAに臨みましょう。"
   ]
  },
  {
   "cell_type": "markdown",
   "metadata": {},
   "source": [
    "# ②訓練データを取得する。"
   ]
  },
  {
   "cell_type": "markdown",
   "metadata": {},
   "source": [
    "それでは始めに、必要なライブラリをインポートしていきます。  \n",
    "また今回はcsvファイルはpandasを使い読み込みます。"
   ]
  },
  {
   "cell_type": "code",
   "execution_count": 1,
   "metadata": {
    "collapsed": false
   },
   "outputs": [
    {
     "name": "stderr",
     "output_type": "stream",
     "text": [
      "/Users/ishikawaryuuichi/.pyenv/versions/anaconda3-4.3.0/lib/python3.6/importlib/_bootstrap.py:205: RuntimeWarning: numpy.dtype size changed, may indicate binary incompatibility. Expected 96, got 88\n",
      "  return f(*args, **kwds)\n"
     ]
    }
   ],
   "source": [
    "import pandas as pd\n",
    "import numpy as np\n",
    "import seaborn as sns\n",
    "import matplotlib.pyplot as plt\n",
    "%matplotlib inline \n",
    "#matplotlibをjupyternotebookで動かす際はこちらのコードを実行してください。\n"
   ]
  },
  {
   "cell_type": "markdown",
   "metadata": {},
   "source": [
    "これでデータを確認するためのライブラリが揃いました。  \n",
    "次にデータをインポートしていきましょう。  \n",
    "今回は数あるデータの中で\"application_train\"のデータ探索を行なっていきます。  \n",
    "このデータは顧客のプロファイルなどの情報が入っておりここからでもある程度のモデルを作ることができます。"
   ]
  },
  {
   "cell_type": "code",
   "execution_count": 2,
   "metadata": {
    "collapsed": true
   },
   "outputs": [],
   "source": [
    "train = pd.read_csv(\"input/application_train.csv\")\n",
    "test = pd.read_csv(\"input/application_test.csv\")"
   ]
  },
  {
   "cell_type": "markdown",
   "metadata": {},
   "source": [
    "これでデータのインポートができました。  \n",
    "まず始めに、データの量や特徴量を確認していきましょう。  \n",
    "もしデータ量を確認せず特徴を順番に確認してしまうと時間がかかってしまうこともあります。  \n",
    "まずはデータ全体から問題を洗い出すことが大切です。  \n",
    "では実際にデータを確認していきましょう。"
   ]
  },
  {
   "cell_type": "markdown",
   "metadata": {},
   "source": [
    "# ③データを整理し、準備し、浄化する。"
   ]
  },
  {
   "cell_type": "code",
   "execution_count": 3,
   "metadata": {
    "collapsed": false
   },
   "outputs": [
    {
     "data": {
      "text/html": [
       "<div>\n",
       "<style scoped>\n",
       "    .dataframe tbody tr th:only-of-type {\n",
       "        vertical-align: middle;\n",
       "    }\n",
       "\n",
       "    .dataframe tbody tr th {\n",
       "        vertical-align: top;\n",
       "    }\n",
       "\n",
       "    .dataframe thead th {\n",
       "        text-align: right;\n",
       "    }\n",
       "</style>\n",
       "<table border=\"1\" class=\"dataframe\">\n",
       "  <thead>\n",
       "    <tr style=\"text-align: right;\">\n",
       "      <th></th>\n",
       "      <th>SK_ID_CURR</th>\n",
       "      <th>TARGET</th>\n",
       "      <th>NAME_CONTRACT_TYPE</th>\n",
       "      <th>CODE_GENDER</th>\n",
       "      <th>FLAG_OWN_CAR</th>\n",
       "      <th>FLAG_OWN_REALTY</th>\n",
       "      <th>CNT_CHILDREN</th>\n",
       "      <th>AMT_INCOME_TOTAL</th>\n",
       "      <th>AMT_CREDIT</th>\n",
       "      <th>AMT_ANNUITY</th>\n",
       "      <th>...</th>\n",
       "      <th>FLAG_DOCUMENT_18</th>\n",
       "      <th>FLAG_DOCUMENT_19</th>\n",
       "      <th>FLAG_DOCUMENT_20</th>\n",
       "      <th>FLAG_DOCUMENT_21</th>\n",
       "      <th>AMT_REQ_CREDIT_BUREAU_HOUR</th>\n",
       "      <th>AMT_REQ_CREDIT_BUREAU_DAY</th>\n",
       "      <th>AMT_REQ_CREDIT_BUREAU_WEEK</th>\n",
       "      <th>AMT_REQ_CREDIT_BUREAU_MON</th>\n",
       "      <th>AMT_REQ_CREDIT_BUREAU_QRT</th>\n",
       "      <th>AMT_REQ_CREDIT_BUREAU_YEAR</th>\n",
       "    </tr>\n",
       "  </thead>\n",
       "  <tbody>\n",
       "    <tr>\n",
       "      <th>0</th>\n",
       "      <td>100002</td>\n",
       "      <td>1</td>\n",
       "      <td>Cash loans</td>\n",
       "      <td>M</td>\n",
       "      <td>N</td>\n",
       "      <td>Y</td>\n",
       "      <td>0</td>\n",
       "      <td>202500.0</td>\n",
       "      <td>406597.5</td>\n",
       "      <td>24700.5</td>\n",
       "      <td>...</td>\n",
       "      <td>0</td>\n",
       "      <td>0</td>\n",
       "      <td>0</td>\n",
       "      <td>0</td>\n",
       "      <td>0.0</td>\n",
       "      <td>0.0</td>\n",
       "      <td>0.0</td>\n",
       "      <td>0.0</td>\n",
       "      <td>0.0</td>\n",
       "      <td>1.0</td>\n",
       "    </tr>\n",
       "    <tr>\n",
       "      <th>1</th>\n",
       "      <td>100003</td>\n",
       "      <td>0</td>\n",
       "      <td>Cash loans</td>\n",
       "      <td>F</td>\n",
       "      <td>N</td>\n",
       "      <td>N</td>\n",
       "      <td>0</td>\n",
       "      <td>270000.0</td>\n",
       "      <td>1293502.5</td>\n",
       "      <td>35698.5</td>\n",
       "      <td>...</td>\n",
       "      <td>0</td>\n",
       "      <td>0</td>\n",
       "      <td>0</td>\n",
       "      <td>0</td>\n",
       "      <td>0.0</td>\n",
       "      <td>0.0</td>\n",
       "      <td>0.0</td>\n",
       "      <td>0.0</td>\n",
       "      <td>0.0</td>\n",
       "      <td>0.0</td>\n",
       "    </tr>\n",
       "    <tr>\n",
       "      <th>2</th>\n",
       "      <td>100004</td>\n",
       "      <td>0</td>\n",
       "      <td>Revolving loans</td>\n",
       "      <td>M</td>\n",
       "      <td>Y</td>\n",
       "      <td>Y</td>\n",
       "      <td>0</td>\n",
       "      <td>67500.0</td>\n",
       "      <td>135000.0</td>\n",
       "      <td>6750.0</td>\n",
       "      <td>...</td>\n",
       "      <td>0</td>\n",
       "      <td>0</td>\n",
       "      <td>0</td>\n",
       "      <td>0</td>\n",
       "      <td>0.0</td>\n",
       "      <td>0.0</td>\n",
       "      <td>0.0</td>\n",
       "      <td>0.0</td>\n",
       "      <td>0.0</td>\n",
       "      <td>0.0</td>\n",
       "    </tr>\n",
       "    <tr>\n",
       "      <th>3</th>\n",
       "      <td>100006</td>\n",
       "      <td>0</td>\n",
       "      <td>Cash loans</td>\n",
       "      <td>F</td>\n",
       "      <td>N</td>\n",
       "      <td>Y</td>\n",
       "      <td>0</td>\n",
       "      <td>135000.0</td>\n",
       "      <td>312682.5</td>\n",
       "      <td>29686.5</td>\n",
       "      <td>...</td>\n",
       "      <td>0</td>\n",
       "      <td>0</td>\n",
       "      <td>0</td>\n",
       "      <td>0</td>\n",
       "      <td>NaN</td>\n",
       "      <td>NaN</td>\n",
       "      <td>NaN</td>\n",
       "      <td>NaN</td>\n",
       "      <td>NaN</td>\n",
       "      <td>NaN</td>\n",
       "    </tr>\n",
       "    <tr>\n",
       "      <th>4</th>\n",
       "      <td>100007</td>\n",
       "      <td>0</td>\n",
       "      <td>Cash loans</td>\n",
       "      <td>M</td>\n",
       "      <td>N</td>\n",
       "      <td>Y</td>\n",
       "      <td>0</td>\n",
       "      <td>121500.0</td>\n",
       "      <td>513000.0</td>\n",
       "      <td>21865.5</td>\n",
       "      <td>...</td>\n",
       "      <td>0</td>\n",
       "      <td>0</td>\n",
       "      <td>0</td>\n",
       "      <td>0</td>\n",
       "      <td>0.0</td>\n",
       "      <td>0.0</td>\n",
       "      <td>0.0</td>\n",
       "      <td>0.0</td>\n",
       "      <td>0.0</td>\n",
       "      <td>0.0</td>\n",
       "    </tr>\n",
       "  </tbody>\n",
       "</table>\n",
       "<p>5 rows × 122 columns</p>\n",
       "</div>"
      ],
      "text/plain": [
       "   SK_ID_CURR  TARGET NAME_CONTRACT_TYPE CODE_GENDER FLAG_OWN_CAR  \\\n",
       "0      100002       1         Cash loans           M            N   \n",
       "1      100003       0         Cash loans           F            N   \n",
       "2      100004       0    Revolving loans           M            Y   \n",
       "3      100006       0         Cash loans           F            N   \n",
       "4      100007       0         Cash loans           M            N   \n",
       "\n",
       "  FLAG_OWN_REALTY  CNT_CHILDREN  AMT_INCOME_TOTAL  AMT_CREDIT  AMT_ANNUITY  \\\n",
       "0               Y             0          202500.0    406597.5      24700.5   \n",
       "1               N             0          270000.0   1293502.5      35698.5   \n",
       "2               Y             0           67500.0    135000.0       6750.0   \n",
       "3               Y             0          135000.0    312682.5      29686.5   \n",
       "4               Y             0          121500.0    513000.0      21865.5   \n",
       "\n",
       "              ...              FLAG_DOCUMENT_18 FLAG_DOCUMENT_19  \\\n",
       "0             ...                             0                0   \n",
       "1             ...                             0                0   \n",
       "2             ...                             0                0   \n",
       "3             ...                             0                0   \n",
       "4             ...                             0                0   \n",
       "\n",
       "  FLAG_DOCUMENT_20 FLAG_DOCUMENT_21 AMT_REQ_CREDIT_BUREAU_HOUR  \\\n",
       "0                0                0                        0.0   \n",
       "1                0                0                        0.0   \n",
       "2                0                0                        0.0   \n",
       "3                0                0                        NaN   \n",
       "4                0                0                        0.0   \n",
       "\n",
       "  AMT_REQ_CREDIT_BUREAU_DAY  AMT_REQ_CREDIT_BUREAU_WEEK  \\\n",
       "0                       0.0                         0.0   \n",
       "1                       0.0                         0.0   \n",
       "2                       0.0                         0.0   \n",
       "3                       NaN                         NaN   \n",
       "4                       0.0                         0.0   \n",
       "\n",
       "   AMT_REQ_CREDIT_BUREAU_MON  AMT_REQ_CREDIT_BUREAU_QRT  \\\n",
       "0                        0.0                        0.0   \n",
       "1                        0.0                        0.0   \n",
       "2                        0.0                        0.0   \n",
       "3                        NaN                        NaN   \n",
       "4                        0.0                        0.0   \n",
       "\n",
       "   AMT_REQ_CREDIT_BUREAU_YEAR  \n",
       "0                         1.0  \n",
       "1                         0.0  \n",
       "2                         0.0  \n",
       "3                         NaN  \n",
       "4                         0.0  \n",
       "\n",
       "[5 rows x 122 columns]"
      ]
     },
     "execution_count": 3,
     "metadata": {},
     "output_type": "execute_result"
    }
   ],
   "source": [
    "train.head()"
   ]
  },
  {
   "cell_type": "markdown",
   "metadata": {},
   "source": [
    "なんとjupyternotebookのデフォルト設定では途切れてしまうほど特徴が多いではないですか！  \n",
    "これをシラミ潰しに確認して行くことはとても非効率です。  \n",
    "データが多いことをさらに確認するために、データ数を確認して見ましょう。"
   ]
  },
  {
   "cell_type": "code",
   "execution_count": 4,
   "metadata": {
    "collapsed": false
   },
   "outputs": [
    {
     "data": {
      "text/plain": [
       "(307511, 122)"
      ]
     },
     "execution_count": 4,
     "metadata": {},
     "output_type": "execute_result"
    }
   ],
   "source": [
    "train.shape"
   ]
  },
  {
   "cell_type": "markdown",
   "metadata": {},
   "source": [
    "このデータには307511のデータ量と122の特徴量があることがわかりました。  \n",
    "誰もが通るチュートリアルのBostonやTitanicはここまでの特徴量がないのでとても悩ましいです。  \n",
    "ここまで特量量が多いとまず何をすればいいのか分からなくなります・・・・  \n",
    "\n",
    "そこで、まず私が考えるのはどうすれば学習できる形になるかを考えることです。  \n",
    "そしてtrainデータを見てみると真っ先に文字列（カテゴリ変数）があることに気がつきました。  \n",
    "カテゴリ変数の特徴が混じっていては、基本的なモデルでの学習ができません。  \n",
    "実際にどの特徴がカテゴリ変数なのか確認していきましょう。"
   ]
  },
  {
   "cell_type": "code",
   "execution_count": 5,
   "metadata": {
    "collapsed": false
   },
   "outputs": [
    {
     "data": {
      "text/plain": [
       "SK_ID_CURR                      int64\n",
       "TARGET                          int64\n",
       "NAME_CONTRACT_TYPE             object\n",
       "CODE_GENDER                    object\n",
       "FLAG_OWN_CAR                   object\n",
       "FLAG_OWN_REALTY                object\n",
       "CNT_CHILDREN                    int64\n",
       "AMT_INCOME_TOTAL              float64\n",
       "AMT_CREDIT                    float64\n",
       "AMT_ANNUITY                   float64\n",
       "AMT_GOODS_PRICE               float64\n",
       "NAME_TYPE_SUITE                object\n",
       "NAME_INCOME_TYPE               object\n",
       "NAME_EDUCATION_TYPE            object\n",
       "NAME_FAMILY_STATUS             object\n",
       "NAME_HOUSING_TYPE              object\n",
       "REGION_POPULATION_RELATIVE    float64\n",
       "DAYS_BIRTH                      int64\n",
       "DAYS_EMPLOYED                   int64\n",
       "DAYS_REGISTRATION             float64\n",
       "DAYS_ID_PUBLISH                 int64\n",
       "OWN_CAR_AGE                   float64\n",
       "FLAG_MOBIL                      int64\n",
       "FLAG_EMP_PHONE                  int64\n",
       "FLAG_WORK_PHONE                 int64\n",
       "FLAG_CONT_MOBILE                int64\n",
       "FLAG_PHONE                      int64\n",
       "FLAG_EMAIL                      int64\n",
       "OCCUPATION_TYPE                object\n",
       "CNT_FAM_MEMBERS               float64\n",
       "                               ...   \n",
       "DEF_30_CNT_SOCIAL_CIRCLE      float64\n",
       "OBS_60_CNT_SOCIAL_CIRCLE      float64\n",
       "DEF_60_CNT_SOCIAL_CIRCLE      float64\n",
       "DAYS_LAST_PHONE_CHANGE        float64\n",
       "FLAG_DOCUMENT_2                 int64\n",
       "FLAG_DOCUMENT_3                 int64\n",
       "FLAG_DOCUMENT_4                 int64\n",
       "FLAG_DOCUMENT_5                 int64\n",
       "FLAG_DOCUMENT_6                 int64\n",
       "FLAG_DOCUMENT_7                 int64\n",
       "FLAG_DOCUMENT_8                 int64\n",
       "FLAG_DOCUMENT_9                 int64\n",
       "FLAG_DOCUMENT_10                int64\n",
       "FLAG_DOCUMENT_11                int64\n",
       "FLAG_DOCUMENT_12                int64\n",
       "FLAG_DOCUMENT_13                int64\n",
       "FLAG_DOCUMENT_14                int64\n",
       "FLAG_DOCUMENT_15                int64\n",
       "FLAG_DOCUMENT_16                int64\n",
       "FLAG_DOCUMENT_17                int64\n",
       "FLAG_DOCUMENT_18                int64\n",
       "FLAG_DOCUMENT_19                int64\n",
       "FLAG_DOCUMENT_20                int64\n",
       "FLAG_DOCUMENT_21                int64\n",
       "AMT_REQ_CREDIT_BUREAU_HOUR    float64\n",
       "AMT_REQ_CREDIT_BUREAU_DAY     float64\n",
       "AMT_REQ_CREDIT_BUREAU_WEEK    float64\n",
       "AMT_REQ_CREDIT_BUREAU_MON     float64\n",
       "AMT_REQ_CREDIT_BUREAU_QRT     float64\n",
       "AMT_REQ_CREDIT_BUREAU_YEAR    float64\n",
       "Length: 122, dtype: object"
      ]
     },
     "execution_count": 5,
     "metadata": {},
     "output_type": "execute_result"
    }
   ],
   "source": [
    "train.dtypes"
   ]
  },
  {
   "cell_type": "markdown",
   "metadata": {},
   "source": [
    "ん〜、これではよく分からないので分かりやすく可視化していきましょう。"
   ]
  },
  {
   "cell_type": "code",
   "execution_count": 6,
   "metadata": {
    "collapsed": false
   },
   "outputs": [
    {
     "data": {
      "image/png": "[encoded data removed]",
      "text/plain": [
       "<matplotlib.figure.Figure at 0x112538550>"
      ]
     },
     "metadata": {},
     "output_type": "display_data"
    }
   ],
   "source": [
    "# train_type = pd.DataFrame(train.dtypes.value_counts())\n",
    "# colorlist = [\"r\", \"g\", \"b\"]\n",
    "# train_type.T.plot.bar(color = colorlist,width=2.1)\n",
    "# plt.title(\"object type\")\n",
    "\n",
    "train.dtypes.value_counts().plot.bar()\n",
    "plt.title(\"object type\")\n",
    "plt.show()"
   ]
  },
  {
   "cell_type": "code",
   "execution_count": 7,
   "metadata": {
    "collapsed": false
   },
   "outputs": [
    {
     "data": {
      "image/png": "[encoded data removed]",
      "text/plain": [
       "<matplotlib.figure.Figure at 0x118f30898>"
      ]
     },
     "metadata": {},
     "output_type": "display_data"
    }
   ],
   "source": [
    "plt.title(\"object type\")\n",
    "plt.pie(train.dtypes.value_counts(), labels=[\"float\",\"int\",\"object\"], counterclock=False, startangle=90 , autopct=\"%1.1f%%\")\n",
    "plt.axis('equal')\n",
    "plt.show()"
   ]
  },
  {
   "cell_type": "markdown",
   "metadata": {},
   "source": [
    "これで名前や性別などで、文字列が20項目ほど使われていることがわかりました。  \n",
    "これでは学習することができません。  \n",
    "この問題を解決するために今回はラベルエンコーダーとダミー変数を使っていきます。  \n",
    "ラベルエンコーダーは文字列に番号を割り当てていく手法です。  \n",
    "ダミー変数とはその文字列の名前を特徴として追加し、該当するものに１そうでないものを0にします。  \n",
    "このダミー変数は文字列の種類だけ特徴が増えます。\n",
    "\n",
    "今回は性別など２種類しかないものだけラベルエンコーダーを採用し、カテゴリ変数の種類が複数存在する特徴に対してはダミー変数を使用します。  \n",
    "そしてカテゴリ変数を含む特徴が多いので、関数化し短略化します。\n"
   ]
  },
  {
   "cell_type": "code",
   "execution_count": 8,
   "metadata": {
    "collapsed": true
   },
   "outputs": [],
   "source": [
    "from sklearn.preprocessing import LabelEncoder\n",
    "le = LabelEncoder()\n",
    "\n",
    "def les(data):\n",
    "    \n",
    "    for col in data:\n",
    "        if data[col].dtype == \"object\":\n",
    "            if len(list(data[col].unique())) <= 2:\n",
    "                le.fit(data[col])\n",
    "            \n",
    "                data[col] = le.transform(data[col])\n",
    "                \n",
    "    data = pd.get_dummies(data)\n",
    "    return data"
   ]
  },
  {
   "cell_type": "markdown",
   "metadata": {},
   "source": [
    "この関数で、カテゴリ変数の種類が２つ以下の特徴にだけラベルエンコーダが適用され、カテゴリ変数の種類が3つ以上の特徴にはダミー変数が適用される関数を作ることができました。　　\n",
    "実際にこの関数を使いカテゴリ変数を数値変数に変えていきましょう。"
   ]
  },
  {
   "cell_type": "code",
   "execution_count": 9,
   "metadata": {
    "collapsed": true
   },
   "outputs": [],
   "source": [
    "train = les(train)\n",
    "test = les(test)"
   ]
  },
  {
   "cell_type": "code",
   "execution_count": 10,
   "metadata": {
    "collapsed": false
   },
   "outputs": [
    {
     "data": {
      "text/html": [
       "<div>\n",
       "<style scoped>\n",
       "    .dataframe tbody tr th:only-of-type {\n",
       "        vertical-align: middle;\n",
       "    }\n",
       "\n",
       "    .dataframe tbody tr th {\n",
       "        vertical-align: top;\n",
       "    }\n",
       "\n",
       "    .dataframe thead th {\n",
       "        text-align: right;\n",
       "    }\n",
       "</style>\n",
       "<table border=\"1\" class=\"dataframe\">\n",
       "  <thead>\n",
       "    <tr style=\"text-align: right;\">\n",
       "      <th></th>\n",
       "      <th>SK_ID_CURR</th>\n",
       "      <th>TARGET</th>\n",
       "      <th>NAME_CONTRACT_TYPE</th>\n",
       "      <th>FLAG_OWN_CAR</th>\n",
       "      <th>FLAG_OWN_REALTY</th>\n",
       "      <th>CNT_CHILDREN</th>\n",
       "      <th>AMT_INCOME_TOTAL</th>\n",
       "      <th>AMT_CREDIT</th>\n",
       "      <th>AMT_ANNUITY</th>\n",
       "      <th>AMT_GOODS_PRICE</th>\n",
       "      <th>...</th>\n",
       "      <th>HOUSETYPE_MODE_terraced house</th>\n",
       "      <th>WALLSMATERIAL_MODE_Block</th>\n",
       "      <th>WALLSMATERIAL_MODE_Mixed</th>\n",
       "      <th>WALLSMATERIAL_MODE_Monolithic</th>\n",
       "      <th>WALLSMATERIAL_MODE_Others</th>\n",
       "      <th>WALLSMATERIAL_MODE_Panel</th>\n",
       "      <th>WALLSMATERIAL_MODE_Stone, brick</th>\n",
       "      <th>WALLSMATERIAL_MODE_Wooden</th>\n",
       "      <th>EMERGENCYSTATE_MODE_No</th>\n",
       "      <th>EMERGENCYSTATE_MODE_Yes</th>\n",
       "    </tr>\n",
       "  </thead>\n",
       "  <tbody>\n",
       "    <tr>\n",
       "      <th>0</th>\n",
       "      <td>100002</td>\n",
       "      <td>1</td>\n",
       "      <td>0</td>\n",
       "      <td>0</td>\n",
       "      <td>1</td>\n",
       "      <td>0</td>\n",
       "      <td>202500.0</td>\n",
       "      <td>406597.5</td>\n",
       "      <td>24700.5</td>\n",
       "      <td>351000.0</td>\n",
       "      <td>...</td>\n",
       "      <td>0</td>\n",
       "      <td>0</td>\n",
       "      <td>0</td>\n",
       "      <td>0</td>\n",
       "      <td>0</td>\n",
       "      <td>0</td>\n",
       "      <td>1</td>\n",
       "      <td>0</td>\n",
       "      <td>1</td>\n",
       "      <td>0</td>\n",
       "    </tr>\n",
       "    <tr>\n",
       "      <th>1</th>\n",
       "      <td>100003</td>\n",
       "      <td>0</td>\n",
       "      <td>0</td>\n",
       "      <td>0</td>\n",
       "      <td>0</td>\n",
       "      <td>0</td>\n",
       "      <td>270000.0</td>\n",
       "      <td>1293502.5</td>\n",
       "      <td>35698.5</td>\n",
       "      <td>1129500.0</td>\n",
       "      <td>...</td>\n",
       "      <td>0</td>\n",
       "      <td>1</td>\n",
       "      <td>0</td>\n",
       "      <td>0</td>\n",
       "      <td>0</td>\n",
       "      <td>0</td>\n",
       "      <td>0</td>\n",
       "      <td>0</td>\n",
       "      <td>1</td>\n",
       "      <td>0</td>\n",
       "    </tr>\n",
       "    <tr>\n",
       "      <th>2</th>\n",
       "      <td>100004</td>\n",
       "      <td>0</td>\n",
       "      <td>1</td>\n",
       "      <td>1</td>\n",
       "      <td>1</td>\n",
       "      <td>0</td>\n",
       "      <td>67500.0</td>\n",
       "      <td>135000.0</td>\n",
       "      <td>6750.0</td>\n",
       "      <td>135000.0</td>\n",
       "      <td>...</td>\n",
       "      <td>0</td>\n",
       "      <td>0</td>\n",
       "      <td>0</td>\n",
       "      <td>0</td>\n",
       "      <td>0</td>\n",
       "      <td>0</td>\n",
       "      <td>0</td>\n",
       "      <td>0</td>\n",
       "      <td>0</td>\n",
       "      <td>0</td>\n",
       "    </tr>\n",
       "    <tr>\n",
       "      <th>3</th>\n",
       "      <td>100006</td>\n",
       "      <td>0</td>\n",
       "      <td>0</td>\n",
       "      <td>0</td>\n",
       "      <td>1</td>\n",
       "      <td>0</td>\n",
       "      <td>135000.0</td>\n",
       "      <td>312682.5</td>\n",
       "      <td>29686.5</td>\n",
       "      <td>297000.0</td>\n",
       "      <td>...</td>\n",
       "      <td>0</td>\n",
       "      <td>0</td>\n",
       "      <td>0</td>\n",
       "      <td>0</td>\n",
       "      <td>0</td>\n",
       "      <td>0</td>\n",
       "      <td>0</td>\n",
       "      <td>0</td>\n",
       "      <td>0</td>\n",
       "      <td>0</td>\n",
       "    </tr>\n",
       "    <tr>\n",
       "      <th>4</th>\n",
       "      <td>100007</td>\n",
       "      <td>0</td>\n",
       "      <td>0</td>\n",
       "      <td>0</td>\n",
       "      <td>1</td>\n",
       "      <td>0</td>\n",
       "      <td>121500.0</td>\n",
       "      <td>513000.0</td>\n",
       "      <td>21865.5</td>\n",
       "      <td>513000.0</td>\n",
       "      <td>...</td>\n",
       "      <td>0</td>\n",
       "      <td>0</td>\n",
       "      <td>0</td>\n",
       "      <td>0</td>\n",
       "      <td>0</td>\n",
       "      <td>0</td>\n",
       "      <td>0</td>\n",
       "      <td>0</td>\n",
       "      <td>0</td>\n",
       "      <td>0</td>\n",
       "    </tr>\n",
       "  </tbody>\n",
       "</table>\n",
       "<p>5 rows × 243 columns</p>\n",
       "</div>"
      ],
      "text/plain": [
       "   SK_ID_CURR  TARGET  NAME_CONTRACT_TYPE  FLAG_OWN_CAR  FLAG_OWN_REALTY  \\\n",
       "0      100002       1                   0             0                1   \n",
       "1      100003       0                   0             0                0   \n",
       "2      100004       0                   1             1                1   \n",
       "3      100006       0                   0             0                1   \n",
       "4      100007       0                   0             0                1   \n",
       "\n",
       "   CNT_CHILDREN  AMT_INCOME_TOTAL  AMT_CREDIT  AMT_ANNUITY  AMT_GOODS_PRICE  \\\n",
       "0             0          202500.0    406597.5      24700.5         351000.0   \n",
       "1             0          270000.0   1293502.5      35698.5        1129500.0   \n",
       "2             0           67500.0    135000.0       6750.0         135000.0   \n",
       "3             0          135000.0    312682.5      29686.5         297000.0   \n",
       "4             0          121500.0    513000.0      21865.5         513000.0   \n",
       "\n",
       "            ...             HOUSETYPE_MODE_terraced house  \\\n",
       "0           ...                                         0   \n",
       "1           ...                                         0   \n",
       "2           ...                                         0   \n",
       "3           ...                                         0   \n",
       "4           ...                                         0   \n",
       "\n",
       "   WALLSMATERIAL_MODE_Block  WALLSMATERIAL_MODE_Mixed  \\\n",
       "0                         0                         0   \n",
       "1                         1                         0   \n",
       "2                         0                         0   \n",
       "3                         0                         0   \n",
       "4                         0                         0   \n",
       "\n",
       "   WALLSMATERIAL_MODE_Monolithic  WALLSMATERIAL_MODE_Others  \\\n",
       "0                              0                          0   \n",
       "1                              0                          0   \n",
       "2                              0                          0   \n",
       "3                              0                          0   \n",
       "4                              0                          0   \n",
       "\n",
       "   WALLSMATERIAL_MODE_Panel  WALLSMATERIAL_MODE_Stone, brick  \\\n",
       "0                         0                                1   \n",
       "1                         0                                0   \n",
       "2                         0                                0   \n",
       "3                         0                                0   \n",
       "4                         0                                0   \n",
       "\n",
       "   WALLSMATERIAL_MODE_Wooden  EMERGENCYSTATE_MODE_No  EMERGENCYSTATE_MODE_Yes  \n",
       "0                          0                       1                        0  \n",
       "1                          0                       1                        0  \n",
       "2                          0                       0                        0  \n",
       "3                          0                       0                        0  \n",
       "4                          0                       0                        0  \n",
       "\n",
       "[5 rows x 243 columns]"
      ]
     },
     "execution_count": 10,
     "metadata": {},
     "output_type": "execute_result"
    }
   ],
   "source": [
    "train.head()"
   ]
  },
  {
   "cell_type": "markdown",
   "metadata": {},
   "source": [
    "これで簡単にカテゴリ変数を数値変数に変えることができました！  \n",
    "実際にプロットでも確認して見ましょう！"
   ]
  },
  {
   "cell_type": "code",
   "execution_count": 11,
   "metadata": {
    "collapsed": false
   },
   "outputs": [
    {
     "data": {
      "image/png": "[encoded data removed]",
      "text/plain": [
       "<matplotlib.figure.Figure at 0x1134770f0>"
      ]
     },
     "metadata": {},
     "output_type": "display_data"
    }
   ],
   "source": [
    "train.dtypes.value_counts().plot.bar()\n",
    "plt.show()"
   ]
  },
  {
   "cell_type": "markdown",
   "metadata": {},
   "source": [
    "object(カテゴリ変数)がunit8(数値変数）に変わってることが確認できました。  \n",
    "これで1つ目の問題カテゴリ変数の変換が終わりました。  \n",
    "\n",
    "それでは次の問題を見つけていきましょう。    \n",
    "データ探索の際、多くの人が異常値や外れ値の確認をします。  \n",
    "各特徴の統計を出して見ましょう！"
   ]
  },
  {
   "cell_type": "code",
   "execution_count": 12,
   "metadata": {
    "collapsed": false
   },
   "outputs": [
    {
     "data": {
      "text/html": [
       "<div>\n",
       "<style scoped>\n",
       "    .dataframe tbody tr th:only-of-type {\n",
       "        vertical-align: middle;\n",
       "    }\n",
       "\n",
       "    .dataframe tbody tr th {\n",
       "        vertical-align: top;\n",
       "    }\n",
       "\n",
       "    .dataframe thead th {\n",
       "        text-align: right;\n",
       "    }\n",
       "</style>\n",
       "<table border=\"1\" class=\"dataframe\">\n",
       "  <thead>\n",
       "    <tr style=\"text-align: right;\">\n",
       "      <th></th>\n",
       "      <th>SK_ID_CURR</th>\n",
       "      <th>TARGET</th>\n",
       "      <th>NAME_CONTRACT_TYPE</th>\n",
       "      <th>FLAG_OWN_CAR</th>\n",
       "      <th>FLAG_OWN_REALTY</th>\n",
       "      <th>CNT_CHILDREN</th>\n",
       "      <th>AMT_INCOME_TOTAL</th>\n",
       "      <th>AMT_CREDIT</th>\n",
       "      <th>AMT_ANNUITY</th>\n",
       "      <th>AMT_GOODS_PRICE</th>\n",
       "      <th>...</th>\n",
       "      <th>HOUSETYPE_MODE_terraced house</th>\n",
       "      <th>WALLSMATERIAL_MODE_Block</th>\n",
       "      <th>WALLSMATERIAL_MODE_Mixed</th>\n",
       "      <th>WALLSMATERIAL_MODE_Monolithic</th>\n",
       "      <th>WALLSMATERIAL_MODE_Others</th>\n",
       "      <th>WALLSMATERIAL_MODE_Panel</th>\n",
       "      <th>WALLSMATERIAL_MODE_Stone, brick</th>\n",
       "      <th>WALLSMATERIAL_MODE_Wooden</th>\n",
       "      <th>EMERGENCYSTATE_MODE_No</th>\n",
       "      <th>EMERGENCYSTATE_MODE_Yes</th>\n",
       "    </tr>\n",
       "  </thead>\n",
       "  <tbody>\n",
       "    <tr>\n",
       "      <th>count</th>\n",
       "      <td>307511.000000</td>\n",
       "      <td>307511.000000</td>\n",
       "      <td>307511.000000</td>\n",
       "      <td>307511.000000</td>\n",
       "      <td>307511.000000</td>\n",
       "      <td>307511.000000</td>\n",
       "      <td>3.075110e+05</td>\n",
       "      <td>3.075110e+05</td>\n",
       "      <td>307499.000000</td>\n",
       "      <td>3.072330e+05</td>\n",
       "      <td>...</td>\n",
       "      <td>307511.000000</td>\n",
       "      <td>307511.000000</td>\n",
       "      <td>307511.000000</td>\n",
       "      <td>307511.000000</td>\n",
       "      <td>307511.000000</td>\n",
       "      <td>307511.000000</td>\n",
       "      <td>307511.000000</td>\n",
       "      <td>307511.000000</td>\n",
       "      <td>307511.000000</td>\n",
       "      <td>307511.000000</td>\n",
       "    </tr>\n",
       "    <tr>\n",
       "      <th>mean</th>\n",
       "      <td>278180.518577</td>\n",
       "      <td>0.080729</td>\n",
       "      <td>0.095213</td>\n",
       "      <td>0.340108</td>\n",
       "      <td>0.693673</td>\n",
       "      <td>0.417052</td>\n",
       "      <td>1.687979e+05</td>\n",
       "      <td>5.990260e+05</td>\n",
       "      <td>27108.573909</td>\n",
       "      <td>5.383962e+05</td>\n",
       "      <td>...</td>\n",
       "      <td>0.003941</td>\n",
       "      <td>0.030090</td>\n",
       "      <td>0.007466</td>\n",
       "      <td>0.005785</td>\n",
       "      <td>0.005284</td>\n",
       "      <td>0.214757</td>\n",
       "      <td>0.210773</td>\n",
       "      <td>0.017437</td>\n",
       "      <td>0.518446</td>\n",
       "      <td>0.007570</td>\n",
       "    </tr>\n",
       "    <tr>\n",
       "      <th>std</th>\n",
       "      <td>102790.175348</td>\n",
       "      <td>0.272419</td>\n",
       "      <td>0.293509</td>\n",
       "      <td>0.473746</td>\n",
       "      <td>0.460968</td>\n",
       "      <td>0.722121</td>\n",
       "      <td>2.371231e+05</td>\n",
       "      <td>4.024908e+05</td>\n",
       "      <td>14493.737315</td>\n",
       "      <td>3.694465e+05</td>\n",
       "      <td>...</td>\n",
       "      <td>0.062656</td>\n",
       "      <td>0.170835</td>\n",
       "      <td>0.086085</td>\n",
       "      <td>0.075840</td>\n",
       "      <td>0.072501</td>\n",
       "      <td>0.410654</td>\n",
       "      <td>0.407858</td>\n",
       "      <td>0.130892</td>\n",
       "      <td>0.499660</td>\n",
       "      <td>0.086679</td>\n",
       "    </tr>\n",
       "    <tr>\n",
       "      <th>min</th>\n",
       "      <td>100002.000000</td>\n",
       "      <td>0.000000</td>\n",
       "      <td>0.000000</td>\n",
       "      <td>0.000000</td>\n",
       "      <td>0.000000</td>\n",
       "      <td>0.000000</td>\n",
       "      <td>2.565000e+04</td>\n",
       "      <td>4.500000e+04</td>\n",
       "      <td>1615.500000</td>\n",
       "      <td>4.050000e+04</td>\n",
       "      <td>...</td>\n",
       "      <td>0.000000</td>\n",
       "      <td>0.000000</td>\n",
       "      <td>0.000000</td>\n",
       "      <td>0.000000</td>\n",
       "      <td>0.000000</td>\n",
       "      <td>0.000000</td>\n",
       "      <td>0.000000</td>\n",
       "      <td>0.000000</td>\n",
       "      <td>0.000000</td>\n",
       "      <td>0.000000</td>\n",
       "    </tr>\n",
       "    <tr>\n",
       "      <th>25%</th>\n",
       "      <td>189145.500000</td>\n",
       "      <td>0.000000</td>\n",
       "      <td>0.000000</td>\n",
       "      <td>0.000000</td>\n",
       "      <td>0.000000</td>\n",
       "      <td>0.000000</td>\n",
       "      <td>1.125000e+05</td>\n",
       "      <td>2.700000e+05</td>\n",
       "      <td>16524.000000</td>\n",
       "      <td>2.385000e+05</td>\n",
       "      <td>...</td>\n",
       "      <td>0.000000</td>\n",
       "      <td>0.000000</td>\n",
       "      <td>0.000000</td>\n",
       "      <td>0.000000</td>\n",
       "      <td>0.000000</td>\n",
       "      <td>0.000000</td>\n",
       "      <td>0.000000</td>\n",
       "      <td>0.000000</td>\n",
       "      <td>0.000000</td>\n",
       "      <td>0.000000</td>\n",
       "    </tr>\n",
       "    <tr>\n",
       "      <th>50%</th>\n",
       "      <td>278202.000000</td>\n",
       "      <td>0.000000</td>\n",
       "      <td>0.000000</td>\n",
       "      <td>0.000000</td>\n",
       "      <td>1.000000</td>\n",
       "      <td>0.000000</td>\n",
       "      <td>1.471500e+05</td>\n",
       "      <td>5.135310e+05</td>\n",
       "      <td>24903.000000</td>\n",
       "      <td>4.500000e+05</td>\n",
       "      <td>...</td>\n",
       "      <td>0.000000</td>\n",
       "      <td>0.000000</td>\n",
       "      <td>0.000000</td>\n",
       "      <td>0.000000</td>\n",
       "      <td>0.000000</td>\n",
       "      <td>0.000000</td>\n",
       "      <td>0.000000</td>\n",
       "      <td>0.000000</td>\n",
       "      <td>1.000000</td>\n",
       "      <td>0.000000</td>\n",
       "    </tr>\n",
       "    <tr>\n",
       "      <th>75%</th>\n",
       "      <td>367142.500000</td>\n",
       "      <td>0.000000</td>\n",
       "      <td>0.000000</td>\n",
       "      <td>1.000000</td>\n",
       "      <td>1.000000</td>\n",
       "      <td>1.000000</td>\n",
       "      <td>2.025000e+05</td>\n",
       "      <td>8.086500e+05</td>\n",
       "      <td>34596.000000</td>\n",
       "      <td>6.795000e+05</td>\n",
       "      <td>...</td>\n",
       "      <td>0.000000</td>\n",
       "      <td>0.000000</td>\n",
       "      <td>0.000000</td>\n",
       "      <td>0.000000</td>\n",
       "      <td>0.000000</td>\n",
       "      <td>0.000000</td>\n",
       "      <td>0.000000</td>\n",
       "      <td>0.000000</td>\n",
       "      <td>1.000000</td>\n",
       "      <td>0.000000</td>\n",
       "    </tr>\n",
       "    <tr>\n",
       "      <th>max</th>\n",
       "      <td>456255.000000</td>\n",
       "      <td>1.000000</td>\n",
       "      <td>1.000000</td>\n",
       "      <td>1.000000</td>\n",
       "      <td>1.000000</td>\n",
       "      <td>19.000000</td>\n",
       "      <td>1.170000e+08</td>\n",
       "      <td>4.050000e+06</td>\n",
       "      <td>258025.500000</td>\n",
       "      <td>4.050000e+06</td>\n",
       "      <td>...</td>\n",
       "      <td>1.000000</td>\n",
       "      <td>1.000000</td>\n",
       "      <td>1.000000</td>\n",
       "      <td>1.000000</td>\n",
       "      <td>1.000000</td>\n",
       "      <td>1.000000</td>\n",
       "      <td>1.000000</td>\n",
       "      <td>1.000000</td>\n",
       "      <td>1.000000</td>\n",
       "      <td>1.000000</td>\n",
       "    </tr>\n",
       "  </tbody>\n",
       "</table>\n",
       "<p>8 rows × 243 columns</p>\n",
       "</div>"
      ],
      "text/plain": [
       "          SK_ID_CURR         TARGET  NAME_CONTRACT_TYPE   FLAG_OWN_CAR  \\\n",
       "count  307511.000000  307511.000000       307511.000000  307511.000000   \n",
       "mean   278180.518577       0.080729            0.095213       0.340108   \n",
       "std    102790.175348       0.272419            0.293509       0.473746   \n",
       "min    100002.000000       0.000000            0.000000       0.000000   \n",
       "25%    189145.500000       0.000000            0.000000       0.000000   \n",
       "50%    278202.000000       0.000000            0.000000       0.000000   \n",
       "75%    367142.500000       0.000000            0.000000       1.000000   \n",
       "max    456255.000000       1.000000            1.000000       1.000000   \n",
       "\n",
       "       FLAG_OWN_REALTY   CNT_CHILDREN  AMT_INCOME_TOTAL    AMT_CREDIT  \\\n",
       "count    307511.000000  307511.000000      3.075110e+05  3.075110e+05   \n",
       "mean          0.693673       0.417052      1.687979e+05  5.990260e+05   \n",
       "std           0.460968       0.722121      2.371231e+05  4.024908e+05   \n",
       "min           0.000000       0.000000      2.565000e+04  4.500000e+04   \n",
       "25%           0.000000       0.000000      1.125000e+05  2.700000e+05   \n",
       "50%           1.000000       0.000000      1.471500e+05  5.135310e+05   \n",
       "75%           1.000000       1.000000      2.025000e+05  8.086500e+05   \n",
       "max           1.000000      19.000000      1.170000e+08  4.050000e+06   \n",
       "\n",
       "         AMT_ANNUITY  AMT_GOODS_PRICE           ...             \\\n",
       "count  307499.000000     3.072330e+05           ...              \n",
       "mean    27108.573909     5.383962e+05           ...              \n",
       "std     14493.737315     3.694465e+05           ...              \n",
       "min      1615.500000     4.050000e+04           ...              \n",
       "25%     16524.000000     2.385000e+05           ...              \n",
       "50%     24903.000000     4.500000e+05           ...              \n",
       "75%     34596.000000     6.795000e+05           ...              \n",
       "max    258025.500000     4.050000e+06           ...              \n",
       "\n",
       "       HOUSETYPE_MODE_terraced house  WALLSMATERIAL_MODE_Block  \\\n",
       "count                  307511.000000             307511.000000   \n",
       "mean                        0.003941                  0.030090   \n",
       "std                         0.062656                  0.170835   \n",
       "min                         0.000000                  0.000000   \n",
       "25%                         0.000000                  0.000000   \n",
       "50%                         0.000000                  0.000000   \n",
       "75%                         0.000000                  0.000000   \n",
       "max                         1.000000                  1.000000   \n",
       "\n",
       "       WALLSMATERIAL_MODE_Mixed  WALLSMATERIAL_MODE_Monolithic  \\\n",
       "count             307511.000000                  307511.000000   \n",
       "mean                   0.007466                       0.005785   \n",
       "std                    0.086085                       0.075840   \n",
       "min                    0.000000                       0.000000   \n",
       "25%                    0.000000                       0.000000   \n",
       "50%                    0.000000                       0.000000   \n",
       "75%                    0.000000                       0.000000   \n",
       "max                    1.000000                       1.000000   \n",
       "\n",
       "       WALLSMATERIAL_MODE_Others  WALLSMATERIAL_MODE_Panel  \\\n",
       "count              307511.000000             307511.000000   \n",
       "mean                    0.005284                  0.214757   \n",
       "std                     0.072501                  0.410654   \n",
       "min                     0.000000                  0.000000   \n",
       "25%                     0.000000                  0.000000   \n",
       "50%                     0.000000                  0.000000   \n",
       "75%                     0.000000                  0.000000   \n",
       "max                     1.000000                  1.000000   \n",
       "\n",
       "       WALLSMATERIAL_MODE_Stone, brick  WALLSMATERIAL_MODE_Wooden  \\\n",
       "count                    307511.000000              307511.000000   \n",
       "mean                          0.210773                   0.017437   \n",
       "std                           0.407858                   0.130892   \n",
       "min                           0.000000                   0.000000   \n",
       "25%                           0.000000                   0.000000   \n",
       "50%                           0.000000                   0.000000   \n",
       "75%                           0.000000                   0.000000   \n",
       "max                           1.000000                   1.000000   \n",
       "\n",
       "       EMERGENCYSTATE_MODE_No  EMERGENCYSTATE_MODE_Yes  \n",
       "count           307511.000000            307511.000000  \n",
       "mean                 0.518446                 0.007570  \n",
       "std                  0.499660                 0.086679  \n",
       "min                  0.000000                 0.000000  \n",
       "25%                  0.000000                 0.000000  \n",
       "50%                  1.000000                 0.000000  \n",
       "75%                  1.000000                 0.000000  \n",
       "max                  1.000000                 1.000000  \n",
       "\n",
       "[8 rows x 243 columns]"
      ]
     },
     "execution_count": 12,
     "metadata": {},
     "output_type": "execute_result"
    }
   ],
   "source": [
    "pd.set_option(\"display.max_columns\", 101)\n",
    "train_desc = train.describe()\n",
    "train_desc"
   ]
  },
  {
   "cell_type": "markdown",
   "metadata": {},
   "source": [
    "順番に確認して行くとDAYS_EMPLOYEDの値がおかしいことに気がつきました。  \n",
    "経過した日数を表している特徴ですが、最大値が **365243** になっています。  \n",
    "これは計算すると約1000年になってしまいます。  \n",
    "すぐに非現実的な数字であると分かりました。  \n",
    "このように欠損がNan（Null値)になっておらず、別の言葉で入っていたり非現実的な数値が入っているデータは多々あります。  \n",
    "\n",
    "実際にDAYS_EMPLOYEDの中身がどうなってるか確認していきましょう。"
   ]
  },
  {
   "cell_type": "code",
   "execution_count": 13,
   "metadata": {
    "collapsed": false
   },
   "outputs": [
    {
     "data": {
      "text/plain": [
       "<matplotlib.axes._subplots.AxesSubplot at 0x112572748>"
      ]
     },
     "execution_count": 13,
     "metadata": {},
     "output_type": "execute_result"
    },
    {
     "data": {
      "image/png": "[encoded data removed]",
      "text/plain": [
       "<matplotlib.figure.Figure at 0x11257f0f0>"
      ]
     },
     "metadata": {},
     "output_type": "display_data"
    }
   ],
   "source": [
    "train_desc[\"DAYS_EMPLOYED\"].plot.bar()"
   ]
  },
  {
   "cell_type": "code",
   "execution_count": 14,
   "metadata": {
    "collapsed": false,
    "scrolled": true
   },
   "outputs": [
    {
     "data": {
      "text/plain": [
       "<matplotlib.axes._subplots.AxesSubplot at 0x113b639e8>"
      ]
     },
     "execution_count": 14,
     "metadata": {},
     "output_type": "execute_result"
    },
    {
     "data": {
      "image/png": "[encoded data removed]",
      "text/plain": [
       "<matplotlib.figure.Figure at 0x113481d30>"
      ]
     },
     "metadata": {},
     "output_type": "display_data"
    }
   ],
   "source": [
    "day_outliers = pd.Series([len(train[train[\"DAYS_EMPLOYED\"]>0]),len(train[train[\"DAYS_EMPLOYED\"]<0])])\n",
    "day_outliers.index = [\"over0\",\"under0\"]\n",
    "plt.title(\"day_outliers\")\n",
    "day_outliers.plot.barh()\n",
    "\n"
   ]
  },
  {
   "cell_type": "markdown",
   "metadata": {},
   "source": [
    "グラフから約５万のデータが異常な値であることが確認できました。  \n",
    "これでは学習をしてもおかしなモデルが出来上がってしまいます。  \n",
    "一刻も早く修正したいですが、日付に関わるデータは他にも沢山ありました。  \n",
    "他のデータにも異常値が無いか確認していきましょう。\n"
   ]
  },
  {
   "cell_type": "code",
   "execution_count": 15,
   "metadata": {
    "collapsed": false
   },
   "outputs": [
    {
     "data": {
      "text/html": [
       "<div>\n",
       "<style scoped>\n",
       "    .dataframe tbody tr th:only-of-type {\n",
       "        vertical-align: middle;\n",
       "    }\n",
       "\n",
       "    .dataframe tbody tr th {\n",
       "        vertical-align: top;\n",
       "    }\n",
       "\n",
       "    .dataframe thead th {\n",
       "        text-align: right;\n",
       "    }\n",
       "</style>\n",
       "<table border=\"1\" class=\"dataframe\">\n",
       "  <thead>\n",
       "    <tr style=\"text-align: right;\">\n",
       "      <th></th>\n",
       "      <th>max</th>\n",
       "    </tr>\n",
       "  </thead>\n",
       "  <tbody>\n",
       "    <tr>\n",
       "      <th>DAYS_EMPLOYED</th>\n",
       "      <td>365243.0</td>\n",
       "    </tr>\n",
       "  </tbody>\n",
       "</table>\n",
       "</div>"
      ],
      "text/plain": [
       "                    max\n",
       "DAYS_EMPLOYED  365243.0"
      ]
     },
     "execution_count": 15,
     "metadata": {},
     "output_type": "execute_result"
    }
   ],
   "source": [
    "days_outliers = train_desc.loc[[\"max\"]].T\n",
    "days_outliers[days_outliers[\"max\"] == 365243]"
   ]
  },
  {
   "cell_type": "markdown",
   "metadata": {},
   "source": [
    "trainデータの日付に関する異常値はDAYS_EMPLOYEDだけであることがわかりました。  \n",
    "それでは異常値をNan(null値)に置き換えていきます。\n",
    "また異常値に意味がある可能性もあるので、異常値だけを新しい特徴として追加することで異常値が重要な役割をしていた場合に備えましょう。  \n",
    "そして日付データがマイナスになっているので、念のため絶対値に戻してあげましょう。  \n",
    "\n",
    "こちらも他のデータで同じ異常値がある場合があるため、関数化していきます。"
   ]
  },
  {
   "cell_type": "code",
   "execution_count": 16,
   "metadata": {
    "collapsed": true
   },
   "outputs": [],
   "source": [
    "# 異常値変更\n",
    "def nan_change(data):\n",
    "    data_d = data.describe()\n",
    "   \n",
    "\n",
    "    for i in data_d:\n",
    "        if data_d[i][\"max\"] == 365243:\n",
    "            data[i + \"_ANOM\"] = data[i] == 365243\n",
    "            data[i + \"_ANOM\"] = data[i + \"_ANOM\"] *1\n",
    "            data[i].replace({365243: np.nan}, inplace = True)\n",
    "            \n",
    "    data_d2 = data.describe()\n",
    "    for i2 in data_d2:\n",
    "            if data_d2[i2][\"max\"] <= 0:\n",
    "                data[i2] = abs(data[i2])\n",
    "                \n",
    "    return data"
   ]
  },
  {
   "cell_type": "markdown",
   "metadata": {},
   "source": [
    "これで関数化することが出来ました！  \n",
    "実際に置き換えられているか、実際に確認していきましょう"
   ]
  },
  {
   "cell_type": "code",
   "execution_count": 17,
   "metadata": {
    "collapsed": true
   },
   "outputs": [],
   "source": [
    "train = nan_change(train)\n",
    "test = nan_change(test)"
   ]
  },
  {
   "cell_type": "code",
   "execution_count": 18,
   "metadata": {
    "collapsed": false
   },
   "outputs": [
    {
     "data": {
      "text/plain": [
       "0     637.0\n",
       "1    1188.0\n",
       "2     225.0\n",
       "3    3039.0\n",
       "4    3038.0\n",
       "5    1588.0\n",
       "6    3130.0\n",
       "7     449.0\n",
       "8       NaN\n",
       "9    2019.0\n",
       "Name: DAYS_EMPLOYED, dtype: float64"
      ]
     },
     "execution_count": 18,
     "metadata": {},
     "output_type": "execute_result"
    }
   ],
   "source": [
    "train[\"DAYS_EMPLOYED\"][:10]"
   ]
  },
  {
   "cell_type": "code",
   "execution_count": 19,
   "metadata": {
    "collapsed": false
   },
   "outputs": [
    {
     "data": {
      "text/plain": [
       "<matplotlib.axes._subplots.AxesSubplot at 0x118bc6f60>"
      ]
     },
     "execution_count": 19,
     "metadata": {},
     "output_type": "execute_result"
    },
    {
     "data": {
      "image/png": "[encoded data removed]",
      "text/plain": [
       "<matplotlib.figure.Figure at 0x118bc6ac8>"
      ]
     },
     "metadata": {},
     "output_type": "display_data"
    }
   ],
   "source": [
    "train[\"DAYS_EMPLOYED\"][:100].plot()"
   ]
  },
  {
   "cell_type": "markdown",
   "metadata": {},
   "source": [
    "途切れている所にはNanが代入され、1000年のような異常値が無いことが確認できました。  \n",
    "\n",
    "それでは最後にNan値を処理しないといけません。  \n",
    "方法は様々で平均や最小値を代入する場合やK近傍法でNan値を予測したり欠損のある行や列を削除して対処することもあります。  \n",
    "\n",
    "実際にkaggleで上位入賞を狙う場合は様々なモデルを試すことになるので、データの傾向を把握してからNan値の処理をする必要があります。  \n",
    "その場合、”なぜ欠損しているのか？”を考えることが重要です。  \n",
    "欠損は完全にランダムなのか？もしくは意図的な欠損では無いのか？欠損が大半を占めていないか？など様々な状況に応じて欠損を処理することになります。  \n",
    "  \n",
    "では欠損の状態を確認していきましょう！  "
   ]
  },
  {
   "cell_type": "code",
   "execution_count": 20,
   "metadata": {
    "collapsed": false
   },
   "outputs": [
    {
     "data": {
      "text/plain": [
       "COMMONAREA_MEDI             214865\n",
       "COMMONAREA_AVG              214865\n",
       "COMMONAREA_MODE             214865\n",
       "NONLIVINGAPARTMENTS_MODE    213514\n",
       "NONLIVINGAPARTMENTS_MEDI    213514\n",
       "NONLIVINGAPARTMENTS_AVG     213514\n",
       "LIVINGAPARTMENTS_AVG        210199\n",
       "LIVINGAPARTMENTS_MEDI       210199\n",
       "LIVINGAPARTMENTS_MODE       210199\n",
       "FLOORSMIN_MODE              208642\n",
       "FLOORSMIN_AVG               208642\n",
       "FLOORSMIN_MEDI              208642\n",
       "YEARS_BUILD_MEDI            204488\n",
       "YEARS_BUILD_MODE            204488\n",
       "YEARS_BUILD_AVG             204488\n",
       "OWN_CAR_AGE                 202929\n",
       "LANDAREA_AVG                182590\n",
       "LANDAREA_MODE               182590\n",
       "LANDAREA_MEDI               182590\n",
       "BASEMENTAREA_AVG            179943\n",
       "dtype: int64"
      ]
     },
     "execution_count": 20,
     "metadata": {},
     "output_type": "execute_result"
    }
   ],
   "source": [
    "train_null = train.isnull().sum().sort_values()[::-1]\n",
    "train_null[:20]"
   ]
  },
  {
   "cell_type": "markdown",
   "metadata": {},
   "source": [
    "欠損の多いデータが沢山あることが確認できました  。\n",
    "ただこれでは分かりにくいので、どのくらいが欠損値なのか可視化していきましょう。"
   ]
  },
  {
   "cell_type": "code",
   "execution_count": 21,
   "metadata": {
    "collapsed": false
   },
   "outputs": [
    {
     "data": {
      "text/plain": [
       "<matplotlib.axes._subplots.AxesSubplot at 0x102e65e80>"
      ]
     },
     "execution_count": 21,
     "metadata": {},
     "output_type": "execute_result"
    },
    {
     "data": {
      "image/png": "[encoded data removed]",
      "text/plain": [
       "<matplotlib.figure.Figure at 0x118dfde10>"
      ]
     },
     "metadata": {},
     "output_type": "display_data"
    }
   ],
   "source": [
    "train_null = pd.DataFrame(train_null)\n",
    "train_null[\"count_data\"] = 307511\n",
    "train_null.columns = [\"sum_null\",\"count_data\"]\n",
    "train_null[:20].plot.barh()"
   ]
  },
  {
   "cell_type": "markdown",
   "metadata": {},
   "source": [
    "このように全体の半分以上のデータが欠損している特徴がかなり多いことがわかりました。  \n",
    "これは欠損の対応が難しいですね。  \n",
    "データ数が比較的に多い事も考慮し、今回は半分以上が欠損している特徴は削除し、欠損のある行も消してしまいましょう。  \n",
    "また現段階でこの対処方法が正しいかはわかりませんが、データ数の少ない時に欠損を削除してしまうと偏りが出やすくなってしまうので注意が必要です。\n",
    "\n",
    "それでは欠損の処理をしていきましょう！"
   ]
  },
  {
   "cell_type": "code",
   "execution_count": 22,
   "metadata": {
    "collapsed": false
   },
   "outputs": [],
   "source": [
    "train = train.drop(train_null[:30].index, axis = 1)\n",
    "test = test.drop(train_null[:30].index, axis = 1)\n"
   ]
  },
  {
   "cell_type": "code",
   "execution_count": 23,
   "metadata": {
    "collapsed": false
   },
   "outputs": [],
   "source": [
    "train = train.dropna()\n",
    "test = test.dropna()"
   ]
  },
  {
   "cell_type": "code",
   "execution_count": 24,
   "metadata": {
    "collapsed": false
   },
   "outputs": [
    {
     "data": {
      "text/plain": [
       "<matplotlib.axes._subplots.AxesSubplot at 0x118f81240>"
      ]
     },
     "execution_count": 24,
     "metadata": {},
     "output_type": "execute_result"
    },
    {
     "data": {
      "image/png": "[encoded data removed]",
      "text/plain": [
       "<matplotlib.figure.Figure at 0x118f72f28>"
      ]
     },
     "metadata": {},
     "output_type": "display_data"
    }
   ],
   "source": [
    "train_null = train.isnull().sum().sort_values()[::-1]\n",
    "train_null = pd.DataFrame(train_null)\n",
    "train_null[\"count_data\"] = 107511\n",
    "train_null.columns = [\"sum_null\",\"count_data\"]\n",
    "train_null[:20].plot.barh()"
   ]
  },
  {
   "cell_type": "markdown",
   "metadata": {},
   "source": [
    "これで欠損を全て処理することができました。  \n",
    "また欠損の処理方法は様々なものがあります。  \n",
    "もしモデルのスコアが良くなかった場合は色々な方法で欠損の処理を試みましょう。"
   ]
  },
  {
   "cell_type": "markdown",
   "metadata": {},
   "source": [
    "お疲れ様です！  \n",
    "ひとまず学習することが可能な形に出来たので、データの整備はここまでにします。  \n",
    "それでは次の工程に入りましょう！"
   ]
  },
  {
   "cell_type": "markdown",
   "metadata": {},
   "source": [
    "# ④分析し、パターンを特定し、データを探索する。"
   ]
  },
  {
   "cell_type": "markdown",
   "metadata": {},
   "source": [
    "やっとここまで来ましたね！  \n",
    "ここからデータの分析を始めていきます。  \n",
    "\n",
    "まずは適当に探索するのではなく、TARGET（今回予測をする対象の特徴）との相関を調べていきましょう。  \n",
    "そこからTARGETを予測するのに一番必要な特徴が何なのか分かるかもしれません。"
   ]
  },
  {
   "cell_type": "code",
   "execution_count": 25,
   "metadata": {
    "collapsed": false
   },
   "outputs": [],
   "source": [
    "train_corr = train.corr()"
   ]
  },
  {
   "cell_type": "code",
   "execution_count": 26,
   "metadata": {
    "collapsed": false
   },
   "outputs": [],
   "source": [
    "target_corr = train_corr[\"TARGET\"].sort_values()\n",
    "target_corr = target_corr.dropna()"
   ]
  },
  {
   "cell_type": "code",
   "execution_count": 27,
   "metadata": {
    "collapsed": false
   },
   "outputs": [
    {
     "data": {
      "text/plain": [
       "EXT_SOURCE_3                                        -0.168818\n",
       "EXT_SOURCE_2                                        -0.149786\n",
       "DAYS_EMPLOYED                                       -0.066392\n",
       "DAYS_BIRTH                                          -0.061130\n",
       "NAME_EDUCATION_TYPE_Higher education                -0.060186\n",
       "FLOORSMAX_AVG                                       -0.048710\n",
       "FLOORSMAX_MEDI                                      -0.048455\n",
       "FLOORSMAX_MODE                                      -0.047839\n",
       "AMT_GOODS_PRICE                                     -0.044667\n",
       "CODE_GENDER_F                                       -0.042894\n",
       "DAYS_LAST_PHONE_CHANGE                              -0.042867\n",
       "DAYS_ID_PUBLISH                                     -0.037868\n",
       "AMT_CREDIT                                          -0.035678\n",
       "LIVINGAREA_AVG                                      -0.035117\n",
       "NAME_CONTRACT_TYPE                                  -0.034725\n",
       "LIVINGAREA_MEDI                                     -0.034521\n",
       "TOTALAREA_MODE                                      -0.034109\n",
       "REGION_POPULATION_RELATIVE                          -0.032361\n",
       "LIVINGAREA_MODE                                     -0.032240\n",
       "APARTMENTS_AVG                                      -0.032080\n",
       "APARTMENTS_MEDI                                     -0.031791\n",
       "NAME_INCOME_TYPE_State servant                      -0.030720\n",
       "OCCUPATION_TYPE_Core staff                          -0.025640\n",
       "FLAG_OWN_CAR                                        -0.025599\n",
       "OCCUPATION_TYPE_Managers                            -0.024586\n",
       "DAYS_REGISTRATION                                   -0.024570\n",
       "OCCUPATION_TYPE_Accountants                         -0.024349\n",
       "HOUR_APPR_PROCESS_START                             -0.023970\n",
       "AMT_ANNUITY                                         -0.022963\n",
       "ORGANIZATION_TYPE_School                            -0.022794\n",
       "                                                       ...   \n",
       "NAME_HOUSING_TYPE_Rented apartment                   0.013108\n",
       "LIVE_CITY_NOT_WORK_CITY                              0.013759\n",
       "ORGANIZATION_TYPE_Construction                       0.014207\n",
       "ORGANIZATION_TYPE_Transport: type 3                  0.015105\n",
       "FLAG_WORK_PHONE                                      0.015259\n",
       "OBS_30_CNT_SOCIAL_CIRCLE                             0.016596\n",
       "OBS_60_CNT_SOCIAL_CIRCLE                             0.016740\n",
       "OCCUPATION_TYPE_Sales staff                          0.016776\n",
       "WALLSMATERIAL_MODE_Wooden                            0.017706\n",
       "REG_CITY_NOT_LIVE_CITY                               0.018462\n",
       "REG_CITY_NOT_WORK_CITY                               0.019600\n",
       "WALLSMATERIAL_MODE_Stone, brick                      0.019779\n",
       "NAME_FAMILY_STATUS_Single / not married              0.019988\n",
       "ORGANIZATION_TYPE_Business Entity Type 3             0.020556\n",
       "NAME_FAMILY_STATUS_Civil marriage                    0.020764\n",
       "ORGANIZATION_TYPE_Self-employed                      0.022080\n",
       "NAME_HOUSING_TYPE_With parents                       0.024181\n",
       "AMT_REQ_CREDIT_BUREAU_YEAR                           0.025027\n",
       "OCCUPATION_TYPE_Low-skill Laborers                   0.025765\n",
       "OCCUPATION_TYPE_Drivers                              0.027966\n",
       "DEF_30_CNT_SOCIAL_CIRCLE                             0.029835\n",
       "DEF_60_CNT_SOCIAL_CIRCLE                             0.030970\n",
       "OCCUPATION_TYPE_Laborers                             0.035654\n",
       "FLAG_DOCUMENT_3                                      0.038183\n",
       "NAME_INCOME_TYPE_Working                             0.038275\n",
       "CODE_GENDER_M                                        0.042913\n",
       "REGION_RATING_CLIENT                                 0.051411\n",
       "REGION_RATING_CLIENT_W_CITY                          0.054092\n",
       "NAME_EDUCATION_TYPE_Secondary / secondary special    0.056631\n",
       "TARGET                                               1.000000\n",
       "Name: TARGET, Length: 207, dtype: float64"
      ]
     },
     "execution_count": 27,
     "metadata": {},
     "output_type": "execute_result"
    }
   ],
   "source": [
    "target_corr"
   ]
  },
  {
   "cell_type": "markdown",
   "metadata": {},
   "source": [
    "なんて悩ましい相関なのでしょうか。  \n",
    "TARGETに対して負の相関も正の相関係数の高い値が全然ありません。  \n",
    "これはどの特徴を使って学習すればいいか悩ましいですね。。。\n",
    "\n",
    "TRAGETに対する相関係数をプロットして見てみましょう。"
   ]
  },
  {
   "cell_type": "code",
   "execution_count": 28,
   "metadata": {
    "collapsed": false
   },
   "outputs": [
    {
     "data": {
      "image/png": "[encoded data removed]",
      "text/plain": [
       "<matplotlib.figure.Figure at 0x112726320>"
      ]
     },
     "metadata": {},
     "output_type": "display_data"
    }
   ],
   "source": [
    "abs(target_corr).sort_values()[-20:-1].plot.barh()\n",
    "plt.title(\"TARGET\")\n",
    "plt.show()"
   ]
  },
  {
   "cell_type": "markdown",
   "metadata": {},
   "source": [
    "このようにグラフで表すと新たな発見がありました！  \n",
    "\n",
    "EXT_SOURCE2とEXT_SOURCE3はTARGETに対してそれなりに相関が高いことがわかりました。    \n",
    "ところでEXT_SOURCE2とEXT_SOURCE3とは何を意味しているのでしょうか？  \n",
    "データセットに同梱されている特徴名の説明を読んでも詳しいことは書いてありません。  \n",
    "なので実際にEXT_SOURCE2とEXT_SOURCE3がどういった特徴なのか少し探索して見ましょう！"
   ]
  },
  {
   "cell_type": "code",
   "execution_count": 33,
   "metadata": {
    "collapsed": false
   },
   "outputs": [],
   "source": [
    "ext2_corr = train_corr[\"EXT_SOURCE_2\"].sort_values()\n",
    "ext2_corr = ext2_corr.dropna()\n",
    "\n",
    "ext3_corr = train_corr[\"EXT_SOURCE_3\"].sort_values()\n",
    "ext3_corr = ext3_corr.dropna()"
   ]
  },
  {
   "cell_type": "code",
   "execution_count": 37,
   "metadata": {
    "collapsed": false
   },
   "outputs": [
    {
     "data": {
      "text/plain": [
       "<matplotlib.text.Text at 0x11683c3c8>"
      ]
     },
     "execution_count": 37,
     "metadata": {},
     "output_type": "execute_result"
    },
    {
     "data": {
      "image/png": "[encoded data removed]",
      "text/plain": [
       "<matplotlib.figure.Figure at 0x1180faef0>"
      ]
     },
     "metadata": {},
     "output_type": "display_data"
    }
   ],
   "source": [
    "abs(ext2_corr).sort_values()[-20:-1].plot.barh()\n",
    "plt.title(\"EXT_SOURCE_2\")"
   ]
  },
  {
   "cell_type": "code",
   "execution_count": 36,
   "metadata": {
    "collapsed": false
   },
   "outputs": [
    {
     "data": {
      "text/plain": [
       "<matplotlib.text.Text at 0x1180106a0>"
      ]
     },
     "execution_count": 36,
     "metadata": {},
     "output_type": "execute_result"
    },
    {
     "data": {
      "image/png": "[encoded data removed]",
      "text/plain": [
       "<matplotlib.figure.Figure at 0x117564780>"
      ]
     },
     "metadata": {},
     "output_type": "display_data"
    }
   ],
   "source": [
    "abs(ext3_corr).sort_values()[-20:-1].plot.barh()\n",
    "plt.title(\"EXT_SOURCE_3\")"
   ]
  },
  {
   "cell_type": "markdown",
   "metadata": {},
   "source": [
    "これは面白いことがわかりました！  \n",
    "実際に何を意味しているのか分からなかった2つの特徴の中身が少し見えて来ました。  \n",
    "EXT_SOURCE_2にはユーザのいる地域などの情報との相関がとても高い事から、地域に関する指標だと予測を立てることができました。  \n",
    "EXT_SOURCE_3に関してはユーザの年齢や職場の在籍期間など、年齢や年月に関する情報との相関が高くユーザーのプロファイルに関する指標だということが分かります。  \n",
    "\n",
    "これでTARGETに対する相関の高い特徴や内容が大分把握できたのではないでしょうか？  \n",
    "このように相関の高い情報が何を意味しているのかを知ることはとても大切です。  \n",
    "\n",
    "このカーネルもいよいよ終盤に入りました！  \n",
    "それでは次の工程に移りましょう！\n"
   ]
  },
  {
   "cell_type": "markdown",
   "metadata": {},
   "source": [
    "# ⑤モデル、予測し、問題を解決する。"
   ]
  },
  {
   "cell_type": "markdown",
   "metadata": {},
   "source": [
    "実際にkaggleで上位を狙うには、複数のモデルをで検証を行う必要があります。  \n",
    "kaggleでは特にモデルに対するディスカッションが頻繁に行われています。  \n",
    "最初は、ディスカッションを参考にしてモデルを選ぶ事も良い方法でしょう。  \n",
    "今回はEDAが目的のカーネルでしたので、ディスカッションで良いと結論づけられている、Light GBMを使い予測してみたいと思います。\n",
    "\n",
    "**それではモデルを作り、学習をし予測していきましょう！**"
   ]
  },
  {
   "cell_type": "code",
   "execution_count": 39,
   "metadata": {
    "collapsed": true
   },
   "outputs": [],
   "source": [
    "from sklearn.model_selection import KFold\n",
    "from sklearn.metrics import roc_auc_score\n",
    "import lightgbm as lgb\n",
    "import gc\n",
    "\n",
    "def model(features, test_features, encoding = 'ohe', n_folds = 5):\n",
    "    \n",
    "    \"\"\"クロスバリデーションを使用して軽い勾配ブースティングモデル\n",
    "         をトレーニングし、テストします。\n",
    "    \n",
    "    パラーメーター\n",
    "    --------\n",
    "        features (pd.DataFrame): \n",
    "            モデルのトレーニングに使用するtrainデータのデータフレーム。 \n",
    "            TARGET列を含める必要があります。\n",
    "        test_features (pd.DataFrame): \n",
    "            モデルを使用して予測を行うために使用するテストデータのデータフレーム\n",
    "        encoding (str, default = 'ohe'): \n",
    "            カテゴリ変数を符号化する方法。 1ホットエンコーディングの場合は\n",
    "            'ohe'、整数ラベルのエンコーディングの場合は 'le' n_folds（int、default = 5）\n",
    "            ：相互検証に使用する折り畳みの数\n",
    "        \n",
    "    Return\n",
    "    --------\n",
    "        submission (pd.DataFrame): \n",
    "           モデルによって予測された `SK_ID_CURR`TARGET'を持つデータフレームです。\n",
    "        feature_importances (pd.DataFrame): \n",
    "            モデルからの特徴のインポートとデータフレーム。\n",
    "        valid_metrics (pd.DataFrame): \n",
    "            それぞれの折りたたみや全体のトレーニングと検証メトリック（ROC AUC）を備えたデータフレーム\n",
    "    \"\"\"\n",
    "    \n",
    "    # idを抽出する\n",
    "    train_ids = features['SK_ID_CURR']\n",
    "    test_ids = test_features['SK_ID_CURR']\n",
    "    \n",
    "    # トレーニングのためにラベルを抽出する\n",
    "    labels = features['TARGET']\n",
    "    \n",
    "    # idとラベルを削除\n",
    "    features = features.drop(['SK_ID_CURR', 'TARGET'],axis = 1)\n",
    "    test_features = test_features.drop(['SK_ID_CURR'],axis = 1)\n",
    "    \n",
    "    \n",
    "    # One Hot Encoding\n",
    "    if encoding == 'ohe':\n",
    "        features = pd.get_dummies(features)\n",
    "        test_features = pd.get_dummies(test_features)\n",
    "        \n",
    "        # データフレームを列で整列する\n",
    "        features, test_features = features.align(test_features, join = 'inner', axis = 1)\n",
    "        \n",
    "        # 記録すべきカテゴリーインデックス\n",
    "        cat_indices = 'auto'\n",
    "    \n",
    "    # 整数ラベルエンコーディング\n",
    "    elif encoding == 'le':\n",
    "        \n",
    "        # label encoder作成\n",
    "        label_encoder = LabelEncoder()\n",
    "        \n",
    "        # カテゴリインデックスを格納するためのリスト\n",
    "        cat_indices = []\n",
    "        \n",
    "        # 各列を繰り返す\n",
    "        for i, col in enumerate(features):\n",
    "            if features[col].dtype == 'object':\n",
    "                # カテゴリのフィーチャを整数にマップする\n",
    "                features[col] = label_encoder.fit_transform(np.array(features[col].astype(str)).reshape((-1,)))\n",
    "                test_features[col] = label_encoder.transform(np.array(test_features[col].astype(str)).reshape((-1,)))\n",
    "\n",
    "                # カテゴリインデックスを記録する\n",
    "                cat_indices.append(i)\n",
    "    \n",
    "    # ラベルエンコーディングスキームが有効でない場合、キャッチエラー\n",
    "    else:\n",
    "        raise ValueError(\"Encoding must be either 'ohe' or 'le'\")\n",
    "        \n",
    "    print('Training Data Shape: ', features.shape)\n",
    "    print('Testing Data Shape: ', test_features.shape)\n",
    "    \n",
    "    # 特徴名を抽出する\n",
    "\n",
    "    feature_names = list(features.columns)\n",
    "    \n",
    "    # np配列に変換する\n",
    "    features = np.array(features)\n",
    "    test_features = np.array(test_features)\n",
    "    \n",
    "    # kfold objectの作成\n",
    "    k_fold = KFold(n_splits = n_folds, shuffle = True, random_state = 50)\n",
    "    \n",
    "    # フィーチャの高さのための空の配列\n",
    "    feature_importance_values = np.zeros(len(feature_names))\n",
    "    \n",
    "    # テスト予測のための空の配列\n",
    "    test_predictions = np.zeros(test_features.shape[0])\n",
    "    \n",
    "    # k_fold検証の予測のための空の配列\n",
    "    out_of_fold = np.zeros(features.shape[0])\n",
    "    \n",
    "    # 記録の検証とトレーニングのスコアのリスト\n",
    "    valid_scores = []\n",
    "    train_scores = []\n",
    "    \n",
    "    # k_fold返しを繰り返します。\n",
    "    for train_indices, valid_indices in k_fold.split(features):\n",
    "        \n",
    "        # フォールドのトレーニングデータ\n",
    "\n",
    "        train_features, train_labels = features[train_indices], labels[train_indices]\n",
    "        # フォールドの検証データ\n",
    "        valid_features, valid_labels = features[valid_indices], labels[valid_indices]\n",
    "        \n",
    "        # モデルを作成する\n",
    "        model = lgb.LGBMClassifier(n_estimators=10000, objective = 'binary', \n",
    "                                   class_weight = 'balanced', learning_rate = 0.05, \n",
    "                                   reg_alpha = 0.1, reg_lambda = 0.1, \n",
    "                                   subsample = 0.8, n_jobs = -1, random_state = 50)\n",
    "        \n",
    "        # モデルをトレーニングする\n",
    "        model.fit(train_features, train_labels, eval_metric = 'auc',\n",
    "                  eval_set = [(valid_features, valid_labels), (train_features, train_labels)],\n",
    "                  eval_names = ['valid', 'train'], categorical_feature = cat_indices,\n",
    "                  early_stopping_rounds = 100, verbose = 200)\n",
    "        \n",
    "        # 最良の反復を記録する\n",
    "        best_iteration = model.best_iteration_\n",
    "        \n",
    "        # 特徴の重要度を記録する\n",
    "        feature_importance_values += model.feature_importances_ / k_fold.n_splits\n",
    "        \n",
    "        # 予測を行います\n",
    "        test_predictions += model.predict_proba(test_features, num_iteration = best_iteration)[:, 1] / k_fold.n_splits\n",
    "        \n",
    "        # フォールドアウトの予測を記録する\n",
    "        out_of_fold[valid_indices] = model.predict_proba(valid_features, num_iteration = best_iteration)[:, 1]\n",
    "        \n",
    "        # 一番良いスコアを記録\n",
    "        valid_score = model.best_score_['valid']['auc']\n",
    "        train_score = model.best_score_['train']['auc']\n",
    "    \n",
    "        valid_scores.append(valid_score)\n",
    "        train_scores.append(train_score)\n",
    "        \n",
    "        # メモリをクリーンアップする\n",
    "        gc.enable()\n",
    "        del model, train_features, valid_features\n",
    "        gc.collect()\n",
    "        \n",
    "    # 予測データの作成\n",
    "    submission = pd.DataFrame({'SK_ID_CURR': test_ids, 'TARGET': test_predictions})\n",
    "    \n",
    "    # 特徴の重要性のデータフレームを作成する\n",
    "    feature_importances = pd.DataFrame({'feature': feature_names, 'importance': feature_importance_values})\n",
    "    \n",
    "    # 全体的な検証スコア\n",
    "    valid_auc = roc_auc_score(labels, out_of_fold)\n",
    "    \n",
    "    # メトリックに全体的なスコアを追加する\n",
    "    valid_scores.append(valid_auc)\n",
    "    train_scores.append(np.mean(train_scores))\n",
    "    \n",
    "    # 検証スコアのデータフレームを作成するために必要\n",
    "    fold_names = list(range(n_folds))\n",
    "    fold_names.append('overall')\n",
    "    \n",
    "    # 検証スコアのデータフレーム\n",
    "    metrics = pd.DataFrame({'fold': fold_names,\n",
    "                            'train': train_scores,\n",
    "                            'valid': valid_scores}) \n",
    "    \n",
    "    return submission, feature_importances, metrics"
   ]
  },
  {
   "cell_type": "code",
   "execution_count": 41,
   "metadata": {
    "collapsed": true
   },
   "outputs": [],
   "source": [
    "train = train.reset_index()\n",
    "test = test.reset_index()"
   ]
  },
  {
   "cell_type": "markdown",
   "metadata": {},
   "source": [
    "これで学習を行う準備ができました。  \n",
    "では最後に学習しその結果を表示していきましょう！"
   ]
  },
  {
   "cell_type": "markdown",
   "metadata": {},
   "source": [
    "# ⑥問題を解決し、報告し、提示する。"
   ]
  },
  {
   "cell_type": "code",
   "execution_count": 85,
   "metadata": {
    "collapsed": false
   },
   "outputs": [
    {
     "name": "stdout",
     "output_type": "stream",
     "text": [
      "Training Data Shape:  (96362, 208)\n",
      "Testing Data Shape:  (16112, 208)\n",
      "Training until validation scores don't improve for 100 rounds.\n",
      "[200]\tvalid's auc: 0.758433\ttrain's auc: 0.859413\n",
      "Early stopping, best iteration is:\n",
      "[134]\tvalid's auc: 0.759407\ttrain's auc: 0.832059\n",
      "Training until validation scores don't improve for 100 rounds.\n",
      "[200]\tvalid's auc: 0.748348\ttrain's auc: 0.861446\n",
      "Early stopping, best iteration is:\n",
      "[110]\tvalid's auc: 0.750731\ttrain's auc: 0.823387\n",
      "Training until validation scores don't improve for 100 rounds.\n",
      "[200]\tvalid's auc: 0.747123\ttrain's auc: 0.859686\n",
      "Early stopping, best iteration is:\n",
      "[127]\tvalid's auc: 0.749285\ttrain's auc: 0.829567\n",
      "Training until validation scores don't improve for 100 rounds.\n",
      "[200]\tvalid's auc: 0.739376\ttrain's auc: 0.860075\n",
      "Early stopping, best iteration is:\n",
      "[107]\tvalid's auc: 0.741801\ttrain's auc: 0.820459\n",
      "Training until validation scores don't improve for 100 rounds.\n",
      "[200]\tvalid's auc: 0.733702\ttrain's auc: 0.861954\n",
      "Early stopping, best iteration is:\n",
      "[182]\tvalid's auc: 0.734648\ttrain's auc: 0.855451\n",
      "Baseline metrics\n",
      "      fold     train     valid\n",
      "0        0  0.832059  0.759407\n",
      "1        1  0.823387  0.750731\n",
      "2        2  0.829567  0.749285\n",
      "3        3  0.820459  0.741801\n",
      "4        4  0.855451  0.734648\n",
      "5  overall  0.832184  0.746909\n"
     ]
    }
   ],
   "source": [
    "submission, fi, metrics = model(train, test)\n",
    "print('Baseline metrics')\n",
    "print(metrics)"
   ]
  },
  {
   "cell_type": "markdown",
   "metadata": {},
   "source": [
    "上のスコアが学習した後に出て来たスコアです。  \n",
    "今回はコンペティションの採点方法にしたがってauc方式で採点を行いました。  \n",
    "その結果、最良のスコアは**0.759407**でした。  \n",
    "最初のEDAでここまでスコアを出すことができれば合格点ではないでしょうか？  \n",
    "\n",
    "最後に学習したモデルがどの特徴を重視したのか見てみましょう。"
   ]
  },
  {
   "cell_type": "code",
   "execution_count": 52,
   "metadata": {
    "collapsed": false
   },
   "outputs": [
    {
     "data": {
      "text/html": [
       "<div>\n",
       "<style scoped>\n",
       "    .dataframe tbody tr th:only-of-type {\n",
       "        vertical-align: middle;\n",
       "    }\n",
       "\n",
       "    .dataframe tbody tr th {\n",
       "        vertical-align: top;\n",
       "    }\n",
       "\n",
       "    .dataframe thead th {\n",
       "        text-align: right;\n",
       "    }\n",
       "</style>\n",
       "<table border=\"1\" class=\"dataframe\">\n",
       "  <thead>\n",
       "    <tr style=\"text-align: right;\">\n",
       "      <th></th>\n",
       "      <th>feature</th>\n",
       "      <th>importance</th>\n",
       "    </tr>\n",
       "  </thead>\n",
       "  <tbody>\n",
       "    <tr>\n",
       "      <th>0</th>\n",
       "      <td>index</td>\n",
       "      <td>112.4</td>\n",
       "    </tr>\n",
       "    <tr>\n",
       "      <th>1</th>\n",
       "      <td>NAME_CONTRACT_TYPE</td>\n",
       "      <td>57.4</td>\n",
       "    </tr>\n",
       "    <tr>\n",
       "      <th>2</th>\n",
       "      <td>FLAG_OWN_CAR</td>\n",
       "      <td>34.4</td>\n",
       "    </tr>\n",
       "    <tr>\n",
       "      <th>3</th>\n",
       "      <td>FLAG_OWN_REALTY</td>\n",
       "      <td>5.6</td>\n",
       "    </tr>\n",
       "    <tr>\n",
       "      <th>4</th>\n",
       "      <td>CNT_CHILDREN</td>\n",
       "      <td>8.8</td>\n",
       "    </tr>\n",
       "    <tr>\n",
       "      <th>5</th>\n",
       "      <td>AMT_INCOME_TOTAL</td>\n",
       "      <td>90.6</td>\n",
       "    </tr>\n",
       "    <tr>\n",
       "      <th>6</th>\n",
       "      <td>AMT_CREDIT</td>\n",
       "      <td>207.0</td>\n",
       "    </tr>\n",
       "    <tr>\n",
       "      <th>7</th>\n",
       "      <td>AMT_ANNUITY</td>\n",
       "      <td>190.2</td>\n",
       "    </tr>\n",
       "    <tr>\n",
       "      <th>8</th>\n",
       "      <td>AMT_GOODS_PRICE</td>\n",
       "      <td>158.0</td>\n",
       "    </tr>\n",
       "    <tr>\n",
       "      <th>9</th>\n",
       "      <td>REGION_POPULATION_RELATIVE</td>\n",
       "      <td>99.4</td>\n",
       "    </tr>\n",
       "    <tr>\n",
       "      <th>10</th>\n",
       "      <td>DAYS_BIRTH</td>\n",
       "      <td>210.0</td>\n",
       "    </tr>\n",
       "    <tr>\n",
       "      <th>11</th>\n",
       "      <td>DAYS_EMPLOYED</td>\n",
       "      <td>253.6</td>\n",
       "    </tr>\n",
       "    <tr>\n",
       "      <th>12</th>\n",
       "      <td>DAYS_REGISTRATION</td>\n",
       "      <td>139.6</td>\n",
       "    </tr>\n",
       "    <tr>\n",
       "      <th>13</th>\n",
       "      <td>DAYS_ID_PUBLISH</td>\n",
       "      <td>138.4</td>\n",
       "    </tr>\n",
       "    <tr>\n",
       "      <th>14</th>\n",
       "      <td>FLAG_MOBIL</td>\n",
       "      <td>0.0</td>\n",
       "    </tr>\n",
       "    <tr>\n",
       "      <th>15</th>\n",
       "      <td>FLAG_EMP_PHONE</td>\n",
       "      <td>0.0</td>\n",
       "    </tr>\n",
       "    <tr>\n",
       "      <th>16</th>\n",
       "      <td>FLAG_WORK_PHONE</td>\n",
       "      <td>6.4</td>\n",
       "    </tr>\n",
       "    <tr>\n",
       "      <th>17</th>\n",
       "      <td>FLAG_CONT_MOBILE</td>\n",
       "      <td>0.0</td>\n",
       "    </tr>\n",
       "    <tr>\n",
       "      <th>18</th>\n",
       "      <td>FLAG_PHONE</td>\n",
       "      <td>9.8</td>\n",
       "    </tr>\n",
       "    <tr>\n",
       "      <th>19</th>\n",
       "      <td>FLAG_EMAIL</td>\n",
       "      <td>3.4</td>\n",
       "    </tr>\n",
       "    <tr>\n",
       "      <th>20</th>\n",
       "      <td>CNT_FAM_MEMBERS</td>\n",
       "      <td>12.8</td>\n",
       "    </tr>\n",
       "    <tr>\n",
       "      <th>21</th>\n",
       "      <td>REGION_RATING_CLIENT</td>\n",
       "      <td>8.6</td>\n",
       "    </tr>\n",
       "    <tr>\n",
       "      <th>22</th>\n",
       "      <td>REGION_RATING_CLIENT_W_CITY</td>\n",
       "      <td>39.2</td>\n",
       "    </tr>\n",
       "    <tr>\n",
       "      <th>23</th>\n",
       "      <td>HOUR_APPR_PROCESS_START</td>\n",
       "      <td>47.6</td>\n",
       "    </tr>\n",
       "    <tr>\n",
       "      <th>24</th>\n",
       "      <td>REG_REGION_NOT_LIVE_REGION</td>\n",
       "      <td>1.8</td>\n",
       "    </tr>\n",
       "    <tr>\n",
       "      <th>25</th>\n",
       "      <td>REG_REGION_NOT_WORK_REGION</td>\n",
       "      <td>2.8</td>\n",
       "    </tr>\n",
       "    <tr>\n",
       "      <th>26</th>\n",
       "      <td>LIVE_REGION_NOT_WORK_REGION</td>\n",
       "      <td>2.0</td>\n",
       "    </tr>\n",
       "    <tr>\n",
       "      <th>27</th>\n",
       "      <td>REG_CITY_NOT_LIVE_CITY</td>\n",
       "      <td>2.2</td>\n",
       "    </tr>\n",
       "    <tr>\n",
       "      <th>28</th>\n",
       "      <td>REG_CITY_NOT_WORK_CITY</td>\n",
       "      <td>3.2</td>\n",
       "    </tr>\n",
       "    <tr>\n",
       "      <th>29</th>\n",
       "      <td>LIVE_CITY_NOT_WORK_CITY</td>\n",
       "      <td>2.4</td>\n",
       "    </tr>\n",
       "    <tr>\n",
       "      <th>...</th>\n",
       "      <td>...</td>\n",
       "      <td>...</td>\n",
       "    </tr>\n",
       "    <tr>\n",
       "      <th>178</th>\n",
       "      <td>ORGANIZATION_TYPE_Trade: type 1</td>\n",
       "      <td>0.0</td>\n",
       "    </tr>\n",
       "    <tr>\n",
       "      <th>179</th>\n",
       "      <td>ORGANIZATION_TYPE_Trade: type 2</td>\n",
       "      <td>4.6</td>\n",
       "    </tr>\n",
       "    <tr>\n",
       "      <th>180</th>\n",
       "      <td>ORGANIZATION_TYPE_Trade: type 3</td>\n",
       "      <td>0.4</td>\n",
       "    </tr>\n",
       "    <tr>\n",
       "      <th>181</th>\n",
       "      <td>ORGANIZATION_TYPE_Trade: type 4</td>\n",
       "      <td>0.4</td>\n",
       "    </tr>\n",
       "    <tr>\n",
       "      <th>182</th>\n",
       "      <td>ORGANIZATION_TYPE_Trade: type 5</td>\n",
       "      <td>0.0</td>\n",
       "    </tr>\n",
       "    <tr>\n",
       "      <th>183</th>\n",
       "      <td>ORGANIZATION_TYPE_Trade: type 6</td>\n",
       "      <td>0.0</td>\n",
       "    </tr>\n",
       "    <tr>\n",
       "      <th>184</th>\n",
       "      <td>ORGANIZATION_TYPE_Trade: type 7</td>\n",
       "      <td>0.8</td>\n",
       "    </tr>\n",
       "    <tr>\n",
       "      <th>185</th>\n",
       "      <td>ORGANIZATION_TYPE_Transport: type 1</td>\n",
       "      <td>0.0</td>\n",
       "    </tr>\n",
       "    <tr>\n",
       "      <th>186</th>\n",
       "      <td>ORGANIZATION_TYPE_Transport: type 2</td>\n",
       "      <td>0.0</td>\n",
       "    </tr>\n",
       "    <tr>\n",
       "      <th>187</th>\n",
       "      <td>ORGANIZATION_TYPE_Transport: type 3</td>\n",
       "      <td>3.2</td>\n",
       "    </tr>\n",
       "    <tr>\n",
       "      <th>188</th>\n",
       "      <td>ORGANIZATION_TYPE_Transport: type 4</td>\n",
       "      <td>5.8</td>\n",
       "    </tr>\n",
       "    <tr>\n",
       "      <th>189</th>\n",
       "      <td>ORGANIZATION_TYPE_University</td>\n",
       "      <td>2.0</td>\n",
       "    </tr>\n",
       "    <tr>\n",
       "      <th>190</th>\n",
       "      <td>ORGANIZATION_TYPE_XNA</td>\n",
       "      <td>0.0</td>\n",
       "    </tr>\n",
       "    <tr>\n",
       "      <th>191</th>\n",
       "      <td>FONDKAPREMONT_MODE_not specified</td>\n",
       "      <td>1.0</td>\n",
       "    </tr>\n",
       "    <tr>\n",
       "      <th>192</th>\n",
       "      <td>FONDKAPREMONT_MODE_org spec account</td>\n",
       "      <td>5.0</td>\n",
       "    </tr>\n",
       "    <tr>\n",
       "      <th>193</th>\n",
       "      <td>FONDKAPREMONT_MODE_reg oper account</td>\n",
       "      <td>4.6</td>\n",
       "    </tr>\n",
       "    <tr>\n",
       "      <th>194</th>\n",
       "      <td>FONDKAPREMONT_MODE_reg oper spec account</td>\n",
       "      <td>3.4</td>\n",
       "    </tr>\n",
       "    <tr>\n",
       "      <th>195</th>\n",
       "      <td>HOUSETYPE_MODE_block of flats</td>\n",
       "      <td>0.6</td>\n",
       "    </tr>\n",
       "    <tr>\n",
       "      <th>196</th>\n",
       "      <td>HOUSETYPE_MODE_specific housing</td>\n",
       "      <td>0.0</td>\n",
       "    </tr>\n",
       "    <tr>\n",
       "      <th>197</th>\n",
       "      <td>HOUSETYPE_MODE_terraced house</td>\n",
       "      <td>0.0</td>\n",
       "    </tr>\n",
       "    <tr>\n",
       "      <th>198</th>\n",
       "      <td>WALLSMATERIAL_MODE_Block</td>\n",
       "      <td>2.2</td>\n",
       "    </tr>\n",
       "    <tr>\n",
       "      <th>199</th>\n",
       "      <td>WALLSMATERIAL_MODE_Mixed</td>\n",
       "      <td>1.0</td>\n",
       "    </tr>\n",
       "    <tr>\n",
       "      <th>200</th>\n",
       "      <td>WALLSMATERIAL_MODE_Monolithic</td>\n",
       "      <td>1.2</td>\n",
       "    </tr>\n",
       "    <tr>\n",
       "      <th>201</th>\n",
       "      <td>WALLSMATERIAL_MODE_Others</td>\n",
       "      <td>1.8</td>\n",
       "    </tr>\n",
       "    <tr>\n",
       "      <th>202</th>\n",
       "      <td>WALLSMATERIAL_MODE_Panel</td>\n",
       "      <td>7.6</td>\n",
       "    </tr>\n",
       "    <tr>\n",
       "      <th>203</th>\n",
       "      <td>WALLSMATERIAL_MODE_Stone, brick</td>\n",
       "      <td>18.6</td>\n",
       "    </tr>\n",
       "    <tr>\n",
       "      <th>204</th>\n",
       "      <td>WALLSMATERIAL_MODE_Wooden</td>\n",
       "      <td>0.0</td>\n",
       "    </tr>\n",
       "    <tr>\n",
       "      <th>205</th>\n",
       "      <td>EMERGENCYSTATE_MODE_No</td>\n",
       "      <td>0.8</td>\n",
       "    </tr>\n",
       "    <tr>\n",
       "      <th>206</th>\n",
       "      <td>EMERGENCYSTATE_MODE_Yes</td>\n",
       "      <td>0.0</td>\n",
       "    </tr>\n",
       "    <tr>\n",
       "      <th>207</th>\n",
       "      <td>DAYS_EMPLOYED_ANOM</td>\n",
       "      <td>0.0</td>\n",
       "    </tr>\n",
       "  </tbody>\n",
       "</table>\n",
       "<p>208 rows × 2 columns</p>\n",
       "</div>"
      ],
      "text/plain": [
       "                                      feature  importance\n",
       "0                                       index       112.4\n",
       "1                          NAME_CONTRACT_TYPE        57.4\n",
       "2                                FLAG_OWN_CAR        34.4\n",
       "3                             FLAG_OWN_REALTY         5.6\n",
       "4                                CNT_CHILDREN         8.8\n",
       "5                            AMT_INCOME_TOTAL        90.6\n",
       "6                                  AMT_CREDIT       207.0\n",
       "7                                 AMT_ANNUITY       190.2\n",
       "8                             AMT_GOODS_PRICE       158.0\n",
       "9                  REGION_POPULATION_RELATIVE        99.4\n",
       "10                                 DAYS_BIRTH       210.0\n",
       "11                              DAYS_EMPLOYED       253.6\n",
       "12                          DAYS_REGISTRATION       139.6\n",
       "13                            DAYS_ID_PUBLISH       138.4\n",
       "14                                 FLAG_MOBIL         0.0\n",
       "15                             FLAG_EMP_PHONE         0.0\n",
       "16                            FLAG_WORK_PHONE         6.4\n",
       "17                           FLAG_CONT_MOBILE         0.0\n",
       "18                                 FLAG_PHONE         9.8\n",
       "19                                 FLAG_EMAIL         3.4\n",
       "20                            CNT_FAM_MEMBERS        12.8\n",
       "21                       REGION_RATING_CLIENT         8.6\n",
       "22                REGION_RATING_CLIENT_W_CITY        39.2\n",
       "23                    HOUR_APPR_PROCESS_START        47.6\n",
       "24                 REG_REGION_NOT_LIVE_REGION         1.8\n",
       "25                 REG_REGION_NOT_WORK_REGION         2.8\n",
       "26                LIVE_REGION_NOT_WORK_REGION         2.0\n",
       "27                     REG_CITY_NOT_LIVE_CITY         2.2\n",
       "28                     REG_CITY_NOT_WORK_CITY         3.2\n",
       "29                    LIVE_CITY_NOT_WORK_CITY         2.4\n",
       "..                                        ...         ...\n",
       "178           ORGANIZATION_TYPE_Trade: type 1         0.0\n",
       "179           ORGANIZATION_TYPE_Trade: type 2         4.6\n",
       "180           ORGANIZATION_TYPE_Trade: type 3         0.4\n",
       "181           ORGANIZATION_TYPE_Trade: type 4         0.4\n",
       "182           ORGANIZATION_TYPE_Trade: type 5         0.0\n",
       "183           ORGANIZATION_TYPE_Trade: type 6         0.0\n",
       "184           ORGANIZATION_TYPE_Trade: type 7         0.8\n",
       "185       ORGANIZATION_TYPE_Transport: type 1         0.0\n",
       "186       ORGANIZATION_TYPE_Transport: type 2         0.0\n",
       "187       ORGANIZATION_TYPE_Transport: type 3         3.2\n",
       "188       ORGANIZATION_TYPE_Transport: type 4         5.8\n",
       "189              ORGANIZATION_TYPE_University         2.0\n",
       "190                     ORGANIZATION_TYPE_XNA         0.0\n",
       "191          FONDKAPREMONT_MODE_not specified         1.0\n",
       "192       FONDKAPREMONT_MODE_org spec account         5.0\n",
       "193       FONDKAPREMONT_MODE_reg oper account         4.6\n",
       "194  FONDKAPREMONT_MODE_reg oper spec account         3.4\n",
       "195             HOUSETYPE_MODE_block of flats         0.6\n",
       "196           HOUSETYPE_MODE_specific housing         0.0\n",
       "197             HOUSETYPE_MODE_terraced house         0.0\n",
       "198                  WALLSMATERIAL_MODE_Block         2.2\n",
       "199                  WALLSMATERIAL_MODE_Mixed         1.0\n",
       "200             WALLSMATERIAL_MODE_Monolithic         1.2\n",
       "201                 WALLSMATERIAL_MODE_Others         1.8\n",
       "202                  WALLSMATERIAL_MODE_Panel         7.6\n",
       "203           WALLSMATERIAL_MODE_Stone, brick        18.6\n",
       "204                 WALLSMATERIAL_MODE_Wooden         0.0\n",
       "205                    EMERGENCYSTATE_MODE_No         0.8\n",
       "206                   EMERGENCYSTATE_MODE_Yes         0.0\n",
       "207                        DAYS_EMPLOYED_ANOM         0.0\n",
       "\n",
       "[208 rows x 2 columns]"
      ]
     },
     "execution_count": 52,
     "metadata": {},
     "output_type": "execute_result"
    }
   ],
   "source": [
    "fi"
   ]
  },
  {
   "cell_type": "code",
   "execution_count": 86,
   "metadata": {
    "collapsed": false
   },
   "outputs": [],
   "source": [
    "fi = fi.sort_values(by = \"importance\")[::-1]\n",
    "fis = fi.set_index('feature')\n",
    "fis = fis[:20][::-1].T"
   ]
  },
  {
   "cell_type": "code",
   "execution_count": 124,
   "metadata": {
    "collapsed": false
   },
   "outputs": [
    {
     "data": {
      "image/png": "[encoded data removed]",
      "text/plain": [
       "<matplotlib.figure.Figure at 0x11d32aef0>"
      ]
     },
     "metadata": {},
     "output_type": "display_data"
    }
   ],
   "source": [
    "name = fi[\"feature\"]\n",
    "value = fi[\"importance\"]\n",
    "value.index = name\n",
    "\n",
    "value[:20][::-1].plot.barh()\n",
    "plt.title(\"key feature\")\n",
    "plt.show()"
   ]
  },
  {
   "cell_type": "markdown",
   "metadata": {},
   "source": [
    "お疲れ様です！  \n",
    "以上で今回のEDAは終わりとなります。  \n",
    "いかがでしたでしょうか？  \n",
    "まだまだ不慣れですが、データ探索の参考になれば幸いです。\n"
   ]
  },
  {
   "cell_type": "code",
   "execution_count": null,
   "metadata": {
    "collapsed": true
   },
   "outputs": [],
   "source": []
  }
 ],
 "metadata": {
  "kernelspec": {
   "display_name": "Python 3",
   "language": "python",
   "name": "python3"
  },
  "language_info": {
   "codemirror_mode": {
    "name": "ipython",
    "version": 3
   },
   "file_extension": ".py",
   "mimetype": "text/x-python",
   "name": "python",
   "nbconvert_exporter": "python",
   "pygments_lexer": "ipython3",
   "version": "3.6.0"
  }
 },
 "nbformat": 4,
 "nbformat_minor": 2
}
