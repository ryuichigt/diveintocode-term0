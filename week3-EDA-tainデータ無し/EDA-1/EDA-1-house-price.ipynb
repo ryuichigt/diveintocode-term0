{
 "cells": [
  {
   "cell_type": "markdown",
   "metadata": {
    "_cell_guid": "e3bc4854-2787-eae1-950d-2742ad3d7db2",
    "_uuid": "d507f816cc74a88c9afefd02cf225d1a7dd6461f"
   },
   "source": [
    "# COMPREHENSIVE DATA EXPLORATION WITH PYTHON\n",
    "[Pedro Marcelino](http://pmarcelino.com) - February 2017\n",
    "\n",
    "Other Kernels: [Data analysis and feature extraction with Python\n",
    "](https://www.kaggle.com/pmarcelino/data-analysis-and-feature-extraction-with-python)\n",
    "\n",
    "----------"
   ]
  },
  {
   "cell_type": "markdown",
   "metadata": {
    "_cell_guid": "8ca352d7-08aa-36b4-fb2d-3c9854a8d86a",
    "_uuid": "014f5c099a26d9232f9d0d6ca85d5c02b812c98a"
   },
   "source": [
    "#このカーネルでは、次のことを行なっています。\n",
    "\n",
    "1. <b>問題を理解する</b>。各変数を見て、その問題の意味と重要性についての哲学的分析を行います。\n",
    "2. <b>単変量解析</b>。従属変数（ 'SalePrice'）に焦点を絞り、それについてもう少し詳しく知ろうとします。\n",
    "3. <b>多変量解析</b>。従属変数と独立変数がどのように関連しているかを理解しようとします。\n",
    "4. <b>基本クリーニング</b>。データセットを消去し、欠落しているデータ、異常値およびカテゴリ変数を処理します。\n",
    "5. <b>想定の前提条件</b>。私たちのデータが大部分の多変量解析技術で必要とされる仮定を満たしているかどうかを確認します。\n",
    "\n",
    "＊単変量解析は、ひとつの対象にデータが1つしかないデータを扱う統計的方法です。　 <br>\n",
    "＊独立変数とは、関数y＝f（x）で、変数xのこと。xは独立に値をとり、yはそれに従属して値が定まる。　 <br>\n",
    "＊従属変数とは、独立変数の変化に応じて変わる数。関数y＝f（x）においては、変数xのとる値によって定まる変数yをさす。<br>＊多変量解析とは、多くの情報の関連性を明確にする統計的方法のこと。\n"
   ]
  },
  {
   "cell_type": "markdown",
   "metadata": {},
   "source": [
    "# 必要なライブラリのインポート"
   ]
  },
  {
   "cell_type": "code",
   "execution_count": 1,
   "metadata": {
    "_cell_guid": "2df621e0-e03c-7aaa-6e08-40ed1d7dfecc",
    "_execution_state": "idle",
    "_uuid": "d581f6797b9fde1580271358d484df67bf6b14a1",
    "collapsed": true
   },
   "outputs": [],
   "source": [
    "#pandasはcvsファイルを読み込んだり、1つでデータを効率的に扱うことが出来る。\n",
    "import pandas as pd\n",
    "\n",
    "#matplotlibはグラフなどを描画することが出来る。\n",
    "import matplotlib.pyplot as plt\n",
    "\n",
    "#seabornはmatplotlibで描画したグラフをより綺麗に見やすくする。\n",
    "import seaborn as sns\n",
    "\n",
    "#numpyは数値計算を効率的に行うための拡張ライブラリ。\n",
    "import numpy as np\n",
    "\n",
    "#scupyはnumpyに加え、信号処理や統計などの計算もでき、scipy.stats モジュールは統計分析用のツールや確率過程を確率論的記述が可能。\n",
    "from scipy.stats import norm\n",
    "\n",
    "#sklearn.preprocessingは機械学習ライブラリで、分類や回帰、クラスタリングなどの機能が実装されています。\n",
    "#その中でもpreprocessingはデータの前処理用のライブラリ\n",
    "from sklearn.preprocessing import StandardScaler\n",
    "from scipy import stats\n",
    "\n",
    "#warningsは実行に問題のない警告メッセージを出力することができます。\n",
    "import warnings\n",
    "\n",
    "#filterwarningsはその構文の意味付けが将来変更される予定であることを示す警告カテゴリの基底クラスです。\n",
    "#ignoreは一致した警告を出力しません。\n",
    "warnings.filterwarnings('ignore')\n",
    "\n",
    "#jupyternotebookでmatplotlibを表示させる為のコードです。\n",
    "%matplotlib inline"
   ]
  },
  {
   "cell_type": "code",
   "execution_count": 2,
   "metadata": {
    "_cell_guid": "d56d5e71-4277-7a74-5306-7d5af4c7f263",
    "_execution_state": "idle",
    "_uuid": "827a72128cd211cf6af16b003e7c09951e3f2b1e",
    "collapsed": false
   },
   "outputs": [
    {
     "ename": "FileNotFoundError",
     "evalue": "File b'input/train.csv' does not exist",
     "output_type": "error",
     "traceback": [
      "\u001b[0;31m---------------------------------------------------------------------------\u001b[0m",
      "\u001b[0;31mFileNotFoundError\u001b[0m                         Traceback (most recent call last)",
      "\u001b[0;32m<ipython-input-2-51e96a6fd589>\u001b[0m in \u001b[0;36m<module>\u001b[0;34m()\u001b[0m\n\u001b[1;32m      1\u001b[0m \u001b[0;31m#pandas.read_csvでcsvファイルを読み込み\u001b[0m\u001b[0;34m\u001b[0m\u001b[0;34m\u001b[0m\u001b[0m\n\u001b[0;32m----> 2\u001b[0;31m \u001b[0mdf_train\u001b[0m \u001b[0;34m=\u001b[0m \u001b[0mpd\u001b[0m\u001b[0;34m.\u001b[0m\u001b[0mread_csv\u001b[0m\u001b[0;34m(\u001b[0m\u001b[0;34m'input/train.csv'\u001b[0m\u001b[0;34m)\u001b[0m\u001b[0;34m\u001b[0m\u001b[0m\n\u001b[0m",
      "\u001b[0;32m/Users/ishikawaryuuichi/.pyenv/versions/anaconda3-4.3.0/lib/python3.6/site-packages/pandas/io/parsers.py\u001b[0m in \u001b[0;36mparser_f\u001b[0;34m(filepath_or_buffer, sep, delimiter, header, names, index_col, usecols, squeeze, prefix, mangle_dupe_cols, dtype, engine, converters, true_values, false_values, skipinitialspace, skiprows, nrows, na_values, keep_default_na, na_filter, verbose, skip_blank_lines, parse_dates, infer_datetime_format, keep_date_col, date_parser, dayfirst, iterator, chunksize, compression, thousands, decimal, lineterminator, quotechar, quoting, escapechar, comment, encoding, dialect, tupleize_cols, error_bad_lines, warn_bad_lines, skipfooter, skip_footer, doublequote, delim_whitespace, as_recarray, compact_ints, use_unsigned, low_memory, buffer_lines, memory_map, float_precision)\u001b[0m\n\u001b[1;32m    644\u001b[0m                     skip_blank_lines=skip_blank_lines)\n\u001b[1;32m    645\u001b[0m \u001b[0;34m\u001b[0m\u001b[0m\n\u001b[0;32m--> 646\u001b[0;31m         \u001b[0;32mreturn\u001b[0m \u001b[0m_read\u001b[0m\u001b[0;34m(\u001b[0m\u001b[0mfilepath_or_buffer\u001b[0m\u001b[0;34m,\u001b[0m \u001b[0mkwds\u001b[0m\u001b[0;34m)\u001b[0m\u001b[0;34m\u001b[0m\u001b[0m\n\u001b[0m\u001b[1;32m    647\u001b[0m \u001b[0;34m\u001b[0m\u001b[0m\n\u001b[1;32m    648\u001b[0m     \u001b[0mparser_f\u001b[0m\u001b[0;34m.\u001b[0m\u001b[0m__name__\u001b[0m \u001b[0;34m=\u001b[0m \u001b[0mname\u001b[0m\u001b[0;34m\u001b[0m\u001b[0m\n",
      "\u001b[0;32m/Users/ishikawaryuuichi/.pyenv/versions/anaconda3-4.3.0/lib/python3.6/site-packages/pandas/io/parsers.py\u001b[0m in \u001b[0;36m_read\u001b[0;34m(filepath_or_buffer, kwds)\u001b[0m\n\u001b[1;32m    387\u001b[0m \u001b[0;34m\u001b[0m\u001b[0m\n\u001b[1;32m    388\u001b[0m     \u001b[0;31m# Create the parser.\u001b[0m\u001b[0;34m\u001b[0m\u001b[0;34m\u001b[0m\u001b[0m\n\u001b[0;32m--> 389\u001b[0;31m     \u001b[0mparser\u001b[0m \u001b[0;34m=\u001b[0m \u001b[0mTextFileReader\u001b[0m\u001b[0;34m(\u001b[0m\u001b[0mfilepath_or_buffer\u001b[0m\u001b[0;34m,\u001b[0m \u001b[0;34m**\u001b[0m\u001b[0mkwds\u001b[0m\u001b[0;34m)\u001b[0m\u001b[0;34m\u001b[0m\u001b[0m\n\u001b[0m\u001b[1;32m    390\u001b[0m \u001b[0;34m\u001b[0m\u001b[0m\n\u001b[1;32m    391\u001b[0m     \u001b[0;32mif\u001b[0m \u001b[0;34m(\u001b[0m\u001b[0mnrows\u001b[0m \u001b[0;32mis\u001b[0m \u001b[0;32mnot\u001b[0m \u001b[0;32mNone\u001b[0m\u001b[0;34m)\u001b[0m \u001b[0;32mand\u001b[0m \u001b[0;34m(\u001b[0m\u001b[0mchunksize\u001b[0m \u001b[0;32mis\u001b[0m \u001b[0;32mnot\u001b[0m \u001b[0;32mNone\u001b[0m\u001b[0;34m)\u001b[0m\u001b[0;34m:\u001b[0m\u001b[0;34m\u001b[0m\u001b[0m\n",
      "\u001b[0;32m/Users/ishikawaryuuichi/.pyenv/versions/anaconda3-4.3.0/lib/python3.6/site-packages/pandas/io/parsers.py\u001b[0m in \u001b[0;36m__init__\u001b[0;34m(self, f, engine, **kwds)\u001b[0m\n\u001b[1;32m    728\u001b[0m             \u001b[0mself\u001b[0m\u001b[0;34m.\u001b[0m\u001b[0moptions\u001b[0m\u001b[0;34m[\u001b[0m\u001b[0;34m'has_index_names'\u001b[0m\u001b[0;34m]\u001b[0m \u001b[0;34m=\u001b[0m \u001b[0mkwds\u001b[0m\u001b[0;34m[\u001b[0m\u001b[0;34m'has_index_names'\u001b[0m\u001b[0;34m]\u001b[0m\u001b[0;34m\u001b[0m\u001b[0m\n\u001b[1;32m    729\u001b[0m \u001b[0;34m\u001b[0m\u001b[0m\n\u001b[0;32m--> 730\u001b[0;31m         \u001b[0mself\u001b[0m\u001b[0;34m.\u001b[0m\u001b[0m_make_engine\u001b[0m\u001b[0;34m(\u001b[0m\u001b[0mself\u001b[0m\u001b[0;34m.\u001b[0m\u001b[0mengine\u001b[0m\u001b[0;34m)\u001b[0m\u001b[0;34m\u001b[0m\u001b[0m\n\u001b[0m\u001b[1;32m    731\u001b[0m \u001b[0;34m\u001b[0m\u001b[0m\n\u001b[1;32m    732\u001b[0m     \u001b[0;32mdef\u001b[0m \u001b[0mclose\u001b[0m\u001b[0;34m(\u001b[0m\u001b[0mself\u001b[0m\u001b[0;34m)\u001b[0m\u001b[0;34m:\u001b[0m\u001b[0;34m\u001b[0m\u001b[0m\n",
      "\u001b[0;32m/Users/ishikawaryuuichi/.pyenv/versions/anaconda3-4.3.0/lib/python3.6/site-packages/pandas/io/parsers.py\u001b[0m in \u001b[0;36m_make_engine\u001b[0;34m(self, engine)\u001b[0m\n\u001b[1;32m    921\u001b[0m     \u001b[0;32mdef\u001b[0m \u001b[0m_make_engine\u001b[0m\u001b[0;34m(\u001b[0m\u001b[0mself\u001b[0m\u001b[0;34m,\u001b[0m \u001b[0mengine\u001b[0m\u001b[0;34m=\u001b[0m\u001b[0;34m'c'\u001b[0m\u001b[0;34m)\u001b[0m\u001b[0;34m:\u001b[0m\u001b[0;34m\u001b[0m\u001b[0m\n\u001b[1;32m    922\u001b[0m         \u001b[0;32mif\u001b[0m \u001b[0mengine\u001b[0m \u001b[0;34m==\u001b[0m \u001b[0;34m'c'\u001b[0m\u001b[0;34m:\u001b[0m\u001b[0;34m\u001b[0m\u001b[0m\n\u001b[0;32m--> 923\u001b[0;31m             \u001b[0mself\u001b[0m\u001b[0;34m.\u001b[0m\u001b[0m_engine\u001b[0m \u001b[0;34m=\u001b[0m \u001b[0mCParserWrapper\u001b[0m\u001b[0;34m(\u001b[0m\u001b[0mself\u001b[0m\u001b[0;34m.\u001b[0m\u001b[0mf\u001b[0m\u001b[0;34m,\u001b[0m \u001b[0;34m**\u001b[0m\u001b[0mself\u001b[0m\u001b[0;34m.\u001b[0m\u001b[0moptions\u001b[0m\u001b[0;34m)\u001b[0m\u001b[0;34m\u001b[0m\u001b[0m\n\u001b[0m\u001b[1;32m    924\u001b[0m         \u001b[0;32melse\u001b[0m\u001b[0;34m:\u001b[0m\u001b[0;34m\u001b[0m\u001b[0m\n\u001b[1;32m    925\u001b[0m             \u001b[0;32mif\u001b[0m \u001b[0mengine\u001b[0m \u001b[0;34m==\u001b[0m \u001b[0;34m'python'\u001b[0m\u001b[0;34m:\u001b[0m\u001b[0;34m\u001b[0m\u001b[0m\n",
      "\u001b[0;32m/Users/ishikawaryuuichi/.pyenv/versions/anaconda3-4.3.0/lib/python3.6/site-packages/pandas/io/parsers.py\u001b[0m in \u001b[0;36m__init__\u001b[0;34m(self, src, **kwds)\u001b[0m\n\u001b[1;32m   1388\u001b[0m         \u001b[0mkwds\u001b[0m\u001b[0;34m[\u001b[0m\u001b[0;34m'allow_leading_cols'\u001b[0m\u001b[0;34m]\u001b[0m \u001b[0;34m=\u001b[0m \u001b[0mself\u001b[0m\u001b[0;34m.\u001b[0m\u001b[0mindex_col\u001b[0m \u001b[0;32mis\u001b[0m \u001b[0;32mnot\u001b[0m \u001b[0;32mFalse\u001b[0m\u001b[0;34m\u001b[0m\u001b[0m\n\u001b[1;32m   1389\u001b[0m \u001b[0;34m\u001b[0m\u001b[0m\n\u001b[0;32m-> 1390\u001b[0;31m         \u001b[0mself\u001b[0m\u001b[0;34m.\u001b[0m\u001b[0m_reader\u001b[0m \u001b[0;34m=\u001b[0m \u001b[0m_parser\u001b[0m\u001b[0;34m.\u001b[0m\u001b[0mTextReader\u001b[0m\u001b[0;34m(\u001b[0m\u001b[0msrc\u001b[0m\u001b[0;34m,\u001b[0m \u001b[0;34m**\u001b[0m\u001b[0mkwds\u001b[0m\u001b[0;34m)\u001b[0m\u001b[0;34m\u001b[0m\u001b[0m\n\u001b[0m\u001b[1;32m   1391\u001b[0m \u001b[0;34m\u001b[0m\u001b[0m\n\u001b[1;32m   1392\u001b[0m         \u001b[0;31m# XXX\u001b[0m\u001b[0;34m\u001b[0m\u001b[0;34m\u001b[0m\u001b[0m\n",
      "\u001b[0;32mpandas/parser.pyx\u001b[0m in \u001b[0;36mpandas.parser.TextReader.__cinit__ (pandas/parser.c:4184)\u001b[0;34m()\u001b[0m\n",
      "\u001b[0;32mpandas/parser.pyx\u001b[0m in \u001b[0;36mpandas.parser.TextReader._setup_parser_source (pandas/parser.c:8449)\u001b[0;34m()\u001b[0m\n",
      "\u001b[0;31mFileNotFoundError\u001b[0m: File b'input/train.csv' does not exist"
     ]
    }
   ],
   "source": [
    "#pandas.read_csvでcsvファイルを読み込み\n",
    "df_train = pd.read_csv('input/train.csv')"
   ]
  },
  {
   "cell_type": "code",
   "execution_count": null,
   "metadata": {
    "_cell_guid": "02250c81-7e15-c195-2e86-5adbd15c9d30",
    "_execution_state": "idle",
    "_uuid": "10814ba44786b5fea5e333324c6fe54729cabf33",
    "collapsed": false
   },
   "outputs": [],
   "source": [
    "#DataFrameの特徴（インデックス）を確認\n",
    "df_train.columns"
   ]
  },
  {
   "cell_type": "code",
   "execution_count": null,
   "metadata": {
    "collapsed": false,
    "scrolled": false
   },
   "outputs": [],
   "source": [
    "pd.options.display.max_columns = None\n",
    "df_train"
   ]
  },
  {
   "cell_type": "markdown",
   "metadata": {
    "_cell_guid": "79d22981-dfd7-a25f-9a78-5436213207e2",
    "_uuid": "ba13c267e3aacbef23dfbcc0ab05f002d7835e0c"
   },
   "source": [
    "# 1. どうしたらいいの？\n",
    "\n",
    "\n",
    "私たちのデータを理解するために、各変数を見て、その意味を理解し、この問題との関連性を調べることができます。これは時間がかかることはわかっていますが、データセットの風味がわかります。\n",
    "\n",
    "私たちの分析にいくつかの規律を持たせるために、次の列を持つExcelスプレッドシートを作成することができます：\n",
    "\n",
    "・変数 - 変数名\n",
    "\n",
    "・タイプ - 変数のタイプの識別。このフィールドには、2つの値、 '数値'または 'カテゴリ'があります。「数値」とは、値が数値である変数を意味し、「カテゴリ」とは、値がカテゴリである変数を意味する。\n",
    "\n",
    "・セグメント - 変数のセグメントの識別。segments: 「building」, 「space」 、 「location」　3つの可能なセグメントを定義することができます。\n",
    "\n",
    "・期待 - 「SalePrice」における変動の影響に関する我々の期待。可能な値として、「高」、「中」、「低」のカテゴリスケールを使用できます。\n",
    "\n",
    "・結論 - 変数の重要性に関する私たちの結論は、データを素早く見てからです。私たちは、「期待」と同じ\n",
    "カテゴリーを維持することができます。\n",
    "\n",
    "・コメント - 私たちに発生した一般的なコメント。\n",
    "\n",
    "スプレッドシートをフィルタリングして、「期待」の変数を注意深く見ていきます。\n",
    "次に、これらの変数と「SalePrice」の間の散布図をいくつか散策して、「結論」欄に記入してください。これはちょうど私たちの期待を修正するものです。\n",
    "\n",
    "私はこのプロセスを経て、次の変数がこの問題で重要な役割を果たすことができると結論づけました。\n",
    "* OverallQual .\n",
    "* YearBuilt.\n",
    "* TotalBsmtSF.\n",
    "* GrLivArea.\n"
   ]
  },
  {
   "cell_type": "markdown",
   "metadata": {
    "_cell_guid": "3ef87d93-0ea6-8cb2-aa2d-90d5b56a1ca1",
    "_uuid": "39d104c7e40b3f66a0f6e2330119332b301be7bf"
   },
   "source": [
    "# 最初に「SalePrice」を分析する。"
   ]
  },
  {
   "cell_type": "code",
   "execution_count": null,
   "metadata": {
    "_cell_guid": "54452e23-f4d3-919f-c734-80a35dc9ae08",
    "_execution_state": "idle",
    "_uuid": "5c15e1bd10b8e71c0b1d62bdb260882585a35579",
    "collapsed": false,
    "scrolled": true
   },
   "outputs": [],
   "source": [
    "#describe関数はDataFrameの要約統計量を取得できる。\n",
    "df_train['SalePrice'].describe()"
   ]
  },
  {
   "cell_type": "code",
   "execution_count": null,
   "metadata": {
    "_cell_guid": "6bbea362-77b6-5385-f0a8-fb53afd088b7",
    "_execution_state": "idle",
    "_uuid": "2f78c77caa7290298138caf167672e62d3bc5a67",
    "collapsed": false
   },
   "outputs": [],
   "source": [
    "#sale.pliceのヒストグラムを表示\n",
    "#青い線はカーネル密度分布の曲線（全体の分布を推定）\n",
    "sns.distplot(df_train['SalePrice']);"
   ]
  },
  {
   "cell_type": "code",
   "execution_count": null,
   "metadata": {
    "_cell_guid": "36766737-f1a3-fe40-dbec-63c31be4d5e0",
    "_execution_state": "idle",
    "_uuid": "2cb253768dcd75b9a450ee264626ce69c808096a",
    "collapsed": false
   },
   "outputs": [],
   "source": [
    "#このヒストグラムの尖度（どのくらいピークが尖っているか）と歪度（左右にどのくらい偏っているか） を表示\n",
    "#skew (歪度)　kurt　(尖度)\n",
    "print(\"Skewness: %f\" % df_train['SalePrice'].skew())\n",
    "print(\"Kurtosis: %f\" % df_train['SalePrice'].kurt())"
   ]
  },
  {
   "cell_type": "markdown",
   "metadata": {
    "_cell_guid": "c477edc1-b472-f55b-ba98-514159dbda2e",
    "_uuid": "e0368771327b15853b3e306f39eb93d209594e75"
   },
   "source": [
    "# SalePriceとの関係"
   ]
  },
  {
   "cell_type": "markdown",
   "metadata": {
    "_cell_guid": "73c1a953-aafd-96f6-c7bd-e2c79b3e5a0b",
    "_uuid": "08e034d70ed14ef0c4fb8cc1e9dd9e15f0d1c996"
   },
   "source": [
    "### 数値変数との関係"
   ]
  },
  {
   "cell_type": "code",
   "execution_count": null,
   "metadata": {
    "_cell_guid": "db040973-0adc-e126-e657-1d8934b5a5c8",
    "_execution_state": "idle",
    "_uuid": "91160363898f5caeee965a1aa81eb3abb7dcd760",
    "collapsed": false
   },
   "outputs": [],
   "source": [
    "#grlivareaとsalepriceの散布図\n",
    "var = 'GrLivArea'\n",
    "\n",
    "#pd.concatでデータを結合(df_trainのカムルsalepriceとGrLiVArea)\n",
    "data = pd.concat([df_train['SalePrice'], df_train[var]], axis=1)\n",
    "\n",
    "#散布図を描画するメソッド\n",
    "data.plot.scatter(x=var, y='SalePrice', ylim=(0,800000),)\n",
    "\n",
    "#2変数間の関係が強いと言えます。"
   ]
  },
  {
   "cell_type": "code",
   "execution_count": null,
   "metadata": {
    "_cell_guid": "353def35-0f26-998d-b9a4-7356f95e80ad",
    "_execution_state": "idle",
    "_uuid": "3ac3db51311338fcdc16014a7c506cf3d5315af7",
    "collapsed": false
   },
   "outputs": [],
   "source": [
    "##gtotalbsmtsfとsalepriceの散布図\n",
    "var = 'TotalBsmtSF'\n",
    "data = pd.concat([df_train['SalePrice'], df_train[var]], axis=1)\n",
    "data.plot.scatter(x=var, y='SalePrice', ylim=(0,800000))\n",
    "#2変数間の関係が強いと言えます。"
   ]
  },
  {
   "cell_type": "markdown",
   "metadata": {
    "_cell_guid": "b31bc890-46bf-618c-e668-17879763ad23",
    "_uuid": "5550d4df3c0ad48d8b2b9b0905f17daa3fc8d244"
   },
   "source": [
    "### カテゴリの特徴との関係"
   ]
  },
  {
   "cell_type": "code",
   "execution_count": null,
   "metadata": {
    "_cell_guid": "26d0fddc-cb09-af7d-9f03-a07233fa6c9e",
    "_execution_state": "idle",
    "_uuid": "e2b7aaccc3486a74a09996289a833ffb6acd0764",
    "collapsed": false
   },
   "outputs": [],
   "source": [
    "#箱ひげ図 overallqual/saleprice　（データのばらつきをわかりやすく表現するための統計図）\n",
    "#下の線と上の線が最大値と最小値真ん中のボックスに７５パーセント集まってる。\n",
    "#plt.subplotはグリッド上に規則正しくグラフを配置する\n",
    "var = 'OverallQual'\n",
    "data = pd.concat([df_train['SalePrice'], df_train[var]], axis=1)\n",
    "f, ax = plt.subplots(figsize=(8, 6))\n",
    "fig = sns.boxplot(x=var, y=\"SalePrice\", data=data)\n",
    "fig.axis(ymin=0, ymax=800000);"
   ]
  },
  {
   "cell_type": "code",
   "execution_count": null,
   "metadata": {
    "_cell_guid": "590da500-3e48-7059-4f0b-1ef1801dd1db",
    "_execution_state": "idle",
    "_uuid": "a78c64aeed1e48aa453ae4b7deef172cb2060b39",
    "collapsed": false
   },
   "outputs": [],
   "source": [
    "var = 'YearBuilt'\n",
    "data = pd.concat([df_train['SalePrice'], df_train[var]], axis=1)\n",
    "f, ax = plt.subplots(figsize=(16, 8))\n",
    "fig = sns.boxplot(x=var, y=\"SalePrice\", data=data)\n",
    "fig.axis(ymin=0, ymax=800000);\n",
    "plt.xticks(rotation=90);"
   ]
  },
  {
   "cell_type": "markdown",
   "metadata": {
    "_cell_guid": "9d2f4940-ee0c-edef-769d-65fead4f06f3",
    "_uuid": "1dc93d788b3cd2446afa41e7c06d05c6bbadb480"
   },
   "source": [
    "上記のデータを見て次のように結論づけることができます：\n",
    "\n",
    "* 'GrLivArea'と 'TotalBsmtSF'は 'SalePrice'と線形関係にあるようです。両方の関係は正の値をとります。つまり、一方の変数が増加すると他方の変数も増加します。 'TotalBsmtSF'の場合、線形関係の傾きが特に高いことがわかります。\n",
    "* 'OverallQual'と 'YearBuilt'も 'SalePrice'と関連しているようです。 'OverallQual'のケースでは、販売価格が全体の品質とともにどのように上昇するかをボックスプロットで示しています。\n",
    "\n",
    "私たちは4つの変数を分析しましたが、分析する必要がある変数は他にもたくさんあります。ここでのトリックは、正しいフィーチャ（フィーチャ選択）の選択であり、フィーチャの複雑な関係の定義（フィーチャ・エンジニアリング）ではないようです。"
   ]
  },
  {
   "cell_type": "markdown",
   "metadata": {
    "_cell_guid": "2ea2f896-48a6-db39-0684-6a029d8fda60",
    "_uuid": "d67e5bf6f2c4b6acb617c4cdcee0dc5c3f79d9b8"
   },
   "source": [
    "今まで私たちは直感に従い、重要であると考えた変数を分析しました。私たちの分析に客観的な性格を与える努力にもかかわらず、我々の出発点は主観的であったと言わざるを得ない。\n",
    "\n",
    "エンジニアとして、私はこのアプローチに慣れていません。私の教育は、客観的に見る訓練された心を開発することでした。それには理由があります。構造工学で主観的にすると、物事が崩れていくのが見えます。それではいけません。\n",
    "\n",
    "だから、慣性を克服し、もっと客観的な分析をしましょう。"
   ]
  },
  {
   "cell_type": "markdown",
   "metadata": {
    "_cell_guid": "0eb27879-4f54-6fd7-e07a-156eae1aef7f",
    "_uuid": "4816779faf59b3eebf954c36bb3c85ff7dfc87a9"
   },
   "source": [
    "私たちはどの、特徴を選べば良いかを見て理解していく必要があります。\n",
    "\n",
    "*相関行列（ヒートマップ形式）。\n",
    "* 'SalePrice'相関行列（ズームヒートマップスタイル）。\n",
    "*最も相関の高い変数間の散布図（ジャガースタイルのように動く）。"
   ]
  },
  {
   "cell_type": "markdown",
   "metadata": {
    "_cell_guid": "06f8d02c-d779-f8fd-7f48-ba3c5166eda8",
    "_uuid": "bf469f1030a8768f73a18e5ad59db43c4241c603"
   },
   "source": [
    "#### 相関行列（ヒートマップ形式）"
   ]
  },
  {
   "cell_type": "code",
   "execution_count": null,
   "metadata": {
    "_cell_guid": "4eb7a6ef-adf5-6abf-947d-c95afdc477b8",
    "_execution_state": "idle",
    "_uuid": "5dfee22210f5a126ea34ca6475bb4f365d41317b",
    "collapsed": false
   },
   "outputs": [],
   "source": [
    "#相関行列\n",
    "#pandas.DataFrame.corr()は各列の間の相関係数が算出される。\n",
    "corrmat = df_train.corr()\n",
    "f, ax = plt.subplots(figsize=(12, 9))\n",
    "sns.heatmap(corrmat, vmax=.8, square=True);"
   ]
  },
  {
   "cell_type": "markdown",
   "metadata": {},
   "source": [
    "ヒートマップのオプションについてはこちらを参照\n",
    "https://pythondatascience.plavox.info/seaborn/heatmap"
   ]
  },
  {
   "cell_type": "markdown",
   "metadata": {
    "_cell_guid": "977fb7af-70e1-bfb8-e381-3176ec0321b0",
    "_uuid": "b6eb357b201b4d2a9e81f4373cadb9aeccc2482c"
   },
   "source": [
    "私の注意を引く2つの赤い色の四角があります。<br>\n",
    "最初の変数は 'TotalBsmtSF'と '1stFlrSF'変数を参照し、2番目の変数は 'Garage * X *'変数を参照します。いずれの場合も、これらの変数間の相関がどの程度重要であるかを示しています。<BR>\n",
    "実際、この相関は非常に強く、多重共線性の状況を示すことができます。これらの変数について考えると、それらがほぼ同じ情報を与え、多重線形性が実際に発生すると結論付けることができます。<BR>\n",
    "ヒートマップはこのような状況を検出するのに最適で、私たちのような機能選択が支配的な問題では、それらは不可欠なツールです。<br>\n",
    "私の注目を集めた別のものは、「SalePrice」の相関関係でした。よく知られている「GrLivArea」、「TotalBsmtSF」、「OverallQual」が大きな「Hi！」と言っているのを見ることができますが、考慮すべき他の多くの変数も見ることができます。それが私たちが次にやることです\n"
   ]
  },
  {
   "cell_type": "markdown",
   "metadata": {
    "_cell_guid": "9b557956-df91-bab3-0e8b-d8ffc054470f",
    "_uuid": "6ef7d7b7747807431aa9827046c76bfa3d34ffe1"
   },
   "source": [
    "#### SalePriceの相関行列（ズームヒートマップスタイル）"
   ]
  },
  {
   "cell_type": "code",
   "execution_count": null,
   "metadata": {
    "_cell_guid": "bc33db9e-9ee3-6cfe-7643-a2aff5a9234d",
    "_execution_state": "idle",
    "_uuid": "a6ee47c540ce9f3f1d2af6efe0b030e76e3a3f7f",
    "collapsed": false
   },
   "outputs": [],
   "source": [
    "#saleprice相関行列\n",
    "k = 10 #ヒートマップの変数の数\n",
    "\n",
    "#値の大きいものを DataFrame.nlargest() メソッドで取り出す。\n",
    "cols = corrmat.nlargest(k, 'SalePrice')['SalePrice'].index\n",
    "\n",
    "#np.corrcoed()相関関係代数を計算\n",
    "cm = np.corrcoef(df_train[cols].values.T)\n",
    "\n",
    "#Seabornのデフォルトスタイルが適用される\n",
    "sns.set(font_scale=1.25)\n",
    "\n",
    "hm = sns.heatmap(cm, cbar=True, annot=True, square=True, fmt='.2f', annot_kws={'size': 10}, yticklabels=cols.values, xticklabels=cols.values)\n",
    "plt.show()"
   ]
  },
  {
   "cell_type": "markdown",
   "metadata": {
    "_cell_guid": "f5c23b8a-aad9-809f-0fdf-f758f926f5c9",
    "_uuid": "c10a0a0bd55e55822726c78a59ab2bb6d9763f68"
   },
   "source": [
    "これらは「SalePrice」と最も関連性のある変数です。<br>\n",
    "これについての私の考え：\n",
    "\n",
    "* 'OverallQual'、 'GrLivArea'、 'TotalBsmtSF'は 'SalePrice'と強く相関しています。\n",
    "* 'GarageCars'と 'GarageArea'は、最も強く相関する変数の一部です。しかし、最後のサブポイントで議論したように、ガレージに収まる車の数はガレージの面積の結果です。 「GarageCars」と「GarageArea」は、双子の兄弟のようなものです。あなたはそれらを区別することはできません。したがって、分析にはこれらの変数のうちの1つだけが必要です（GarageCarsは 'SalePrice'との相関が高いので保つことができます）。\n",
    "* 'TotalBsmtSF'と '1stFloor'も双子の兄弟のようです。 「TotalBsmtSF」は、私たちの最初の推測が正しかったと言うことができます\n",
    "* 「YearBuilt」は「SalePrice」と少し相関があるようです。正直なところ、私は「YearBuilt」について考えることを恐れています。なぜなら、私は、この権利を得るために時系列分析を少し行うべきだと感じ始めているからです。私はこれを宿題のままにしておきます。\n",
    "\n",
    "散布図に進んでみましょう。"
   ]
  },
  {
   "cell_type": "markdown",
   "metadata": {
    "_cell_guid": "3bdb34db-cf47-d8c8-b857-7031828808ed",
    "_uuid": "28e0b3f8ecee68390a40bd653d7370c20615ad5d"
   },
   "source": [
    "#### 'SalePrice'と相関変数間の散布図"
   ]
  },
  {
   "cell_type": "code",
   "execution_count": null,
   "metadata": {
    "_cell_guid": "5a8db5de-d3f9-9a28-f220-bb05d51c53d0",
    "_execution_state": "idle",
    "_uuid": "cdafd230216fd04cc4ecf635967925da0bce9195",
    "collapsed": false
   },
   "outputs": [],
   "source": [
    "#散布図\n",
    "sns.set()\n",
    "cols = ['SalePrice', 'OverallQual', 'GrLivArea', 'GarageCars', 'TotalBsmtSF', 'FullBath', 'YearBuilt']\n",
    "sns.pairplot(df_train[cols], size = 2.5)\n",
    "plt.show();"
   ]
  },
  {
   "cell_type": "markdown",
   "metadata": {
    "_cell_guid": "a61d0a23-e5e4-3190-41a7-03a5110dc967",
    "_uuid": "7dd622e414e1fda79d2d1f163b1d30d6c2de15eb"
   },
   "source": [
    "このメガ・スキャター・プロットは、変数の関係について合理的な考えを与えてくれます。\n",
    "\n",
    "面白いと思われる数字の1つは、「TotalBsmtSF」と「GrLiveArea」の間のものです。この図では、点が線のように線を引いていることがわかります。直線はほぼ境界線のように機能します。ドットの大部分がそのラインの下にとどまることは、完全に意味をなさない。地下のエリアは上記の居住エリアと同じですが、バンカーを購入しようとしている場合を除き、地上の居住エリアよりも大きな地下エリアは期待できません。\n",
    "\n",
    "「SalePrice」と「YearBuilt」に関するプロットもまた私たちに考えることができます。 「ドットクラウド」の一番下には、恥ずかしがり屋の指数関数（創造的なもの）のように見えるものがあります。また、「ドットクラウド」の上限でこの同じ傾向を見ることができます（さらに創造的である）。また、最後の年に関するドットのセットがこの制限を超えている傾向にあることに気づく（私は価格が今より速くなっていると言いたい）。\n",
    "\n",
    "欠落しているものに進む：データの欠落！"
   ]
  },
  {
   "cell_type": "markdown",
   "metadata": {
    "_cell_guid": "9ce00498-d5e6-9e35-debc-8d507002d461",
    "_uuid": "726efbb348d1022cabb171f622d7b4e01fe8c778"
   },
   "source": [
    "# 4. データの欠落\n",
    "\n",
    "欠落しているデータを考える際の重要な質問：\n",
    "\n",
    "*　欠けているデータはどれくらいの頻度であるのですか？\n",
    "*　データが不足しているか、パターンがありますか？\n",
    "\n",
    "欠落しているデータはサンプルサイズの縮小を意味する可能性があるため、これらの質問に対する答えは実際的な理由から重要です。これにより、分析を進めることができなくなる可能性があります。さらに、実質的な観点からは、欠落しているデータプロセスに偏りがなく、不都合な真実が隠されていることを保証する必要があります。"
   ]
  },
  {
   "cell_type": "code",
   "execution_count": null,
   "metadata": {
    "_cell_guid": "ca2f89e7-1c16-c3ae-6fe0-ab4eaf7e52a1",
    "_execution_state": "idle",
    "_uuid": "664e03dc1434fa2c4eb730ea36ab60e37f13cd3f",
    "collapsed": false
   },
   "outputs": [],
   "source": [
    "#mデータの欠落\n",
    "\n",
    "#totalにtrain内の変数にどれだけ欠損（NaN)の合計があるか計算しソート\n",
    "total = df_train.isnull().sum().sort_values(ascending=False)\n",
    "\n",
    "#欠損が何パーセントに当たるか計算\n",
    "percent = (df_train.isnull().sum()/df_train.isnull().count()).sort_values(ascending=False)\n",
    "\n",
    "#欠損データのデータフレーム作成\n",
    "missing_data = pd.concat([total, percent], axis=1, keys=['Total', 'Percent'])\n",
    "missing_data.head(20)"
   ]
  },
  {
   "cell_type": "markdown",
   "metadata": {
    "_cell_guid": "42bf6c61-9836-5c25-ff2f-1219e96f60a2",
    "_uuid": "c7607aaf8378eac11a8a8395dcd4a2346c22f5ea"
   },
   "source": [
    "欠落したデータをどのように処理するかを理解するためにこれを分析してみましょう。\n",
    "\n",
    "データの15％以上が欠落している場合は、対応する変数を削除し、それが存在しなかったふりをしてください。　　\n",
    "これは、これらの場合に欠落したデータを埋めるためのトリックを試行しないことを意味します。これに応じて、削除する必要がある一連の変数（「PoolQC」、「MiscFeature」、「Alley」など）があります。\n",
    "\n",
    "残りのケースに関係するものでは、「Garage * X *」変数のデータの欠落数が同じであることがわかります。私は不足しているデータは同じ観測値を参照していると考えています（私はチェックしませんが、5％で5ドル問題で20ドルを使うべきではありません）。ガレージに関する最も重要な情報は「GarageCars」で表現されており、欠落しているデータの5％を話していることを考慮して、前述の「Garage * X *」変数を削除します。同じロジックが 'Bsmt * X *'変数に適用されます。\n",
    "\n",
    "'MasVnrArea'と 'MasVnrType'に関して、これらの変数は必須ではないと考えることができる。さらに、彼らはすでに考慮されている 'YearBuilt'と 'OverallQual'と強い相関関係があります。したがって、 'MasVnrArea'と 'MasVnrType'を削除すると、情報は失われません。\n",
    "\n",
    "最後に、「Electrical」には1つの見逃しがあります。これは単なる観測であるため、この観測値を削除して変数を保持します。\n",
    "\n",
    "要約すると、不足しているデータを処理するために、変数 'Electrical'を除いて、欠落したデータを含むすべての変数を削除します。 「Electrical」では、欠落しているデータの観測を削除します。"
   ]
  },
  {
   "cell_type": "code",
   "execution_count": null,
   "metadata": {
    "_cell_guid": "f43f72c5-5457-1f47-e8ef-502db4355086",
    "_execution_state": "idle",
    "_uuid": "726617e295ee6bfe26ccf277323cc68ef52dc61b",
    "collapsed": false
   },
   "outputs": [],
   "source": [
    "#欠損データの処理\n",
    "\n",
    "#　trainの2以上ある欠損データを削除\n",
    "df_train = df_train.drop((missing_data[missing_data['Total'] > 1]).index,1)\n",
    "\n",
    "#Electricalの欠損データを削除\n",
    "df_train = df_train.drop(df_train.loc[df_train['Electrical'].isnull()].index)\n",
    "\n",
    "#欠損データが全て消えているか確認。\n",
    "df_train.isnull().sum().max() \n",
    "\n",
    "df_train.head()"
   ]
  },
  {
   "cell_type": "markdown",
   "metadata": {
    "_cell_guid": "bf77b1ad-c87b-0be1-7adc-02b0186e2c37",
    "_uuid": "402bab0012e6f60f3fd045788d9c60e02e43e46d"
   },
   "source": [
    "異常値はまた、我々が知っておくべきであるものです。\n",
    "\n",
    "異常値は複雑な主題であり、それはより注意を払う必要がある。ここでは、「SalePrice」の標準偏差と散布図を簡単に分析します。"
   ]
  },
  {
   "cell_type": "markdown",
   "metadata": {
    "_cell_guid": "06852f05-22e9-6ea3-ae37-c08f83ed401f",
    "_uuid": "39ccb28e64249ea88dc9d04c5c1484734a8e9dcc"
   },
   "source": [
    "### 単変量解析"
   ]
  },
  {
   "cell_type": "markdown",
   "metadata": {
    "_cell_guid": "1553bf55-edb3-7c65-f505-227d34d018fb",
    "_uuid": "1c4f41a45aabef83aab703c4e9c0101db1d3c7f7"
   },
   "source": [
    "ここでの主な関心事は、外れ値としての観測値を定義するしきい値を設定することです。そのために、データを標準化します。この文脈において、データ標準化とは、データ値を平均値0および標準偏差1に変換することを意味する。"
   ]
  },
  {
   "cell_type": "code",
   "execution_count": null,
   "metadata": {
    "_cell_guid": "49a133fb-b713-45bd-ca42-c1ca0eb4d3f6",
    "_execution_state": "idle",
    "_uuid": "09b3bc296d01936b3b6df7f3ea670499e926720e",
    "collapsed": false
   },
   "outputs": [],
   "source": [
    "#データの標準化\n",
    "#標準化とは平均値を０にして他の特徴（変数）を置き換える\n",
    "\n",
    "#StandardScaler()は標準化をするライブラリで、fit_transformはパラメータ計算とデータ変換をまとめて実行します。\n",
    "#np.newaxisは要素数1の新たな軸(axis)を追加する\n",
    "saleprice_scaled = StandardScaler().fit_transform(df_train['SalePrice'][:,np.newaxis]);\n",
    "\n",
    "#低い数値と高い数値を１０づつソート\n",
    "low_range = saleprice_scaled[saleprice_scaled[:,0].argsort()][:10]\n",
    "high_range= saleprice_scaled[saleprice_scaled[:,0].argsort()][-10:]\n",
    "print('分布の外側範囲(low):')\n",
    "print(low_range)\n",
    "print('\\n 分布の外側範囲 (high）:')\n",
    "print(high_range)"
   ]
  },
  {
   "cell_type": "markdown",
   "metadata": {
    "_cell_guid": "4ae8ecbd-3236-7e32-fa2c-9c12a6ba53d3",
    "_uuid": "68d1465ef6f6da48d318868646741072eec73f0b"
   },
   "source": [
    "*低範囲の値は似ていて、0からあまり離れていません。\n",
    "*高範囲の値は0からずっと離れていて、7の値は実際には範囲外です。\n",
    "\n",
    "ここでは、これらの値のいずれも外れ値としては考慮しませんが、これらの2つの値に注意する必要があります。"
   ]
  },
  {
   "cell_type": "markdown",
   "metadata": {
    "_cell_guid": "ae1b038a-9016-1412-bfb8-e2a27022a02f",
    "_uuid": "6b9511771766dbdb72abe83ec3f479c40c08ce6d"
   },
   "source": [
    "### 二変量解析"
   ]
  },
  {
   "cell_type": "markdown",
   "metadata": {
    "_cell_guid": "ed741196-bc75-a4b5-dda9-417b6d8aa52b",
    "_uuid": "a4137453b99017b08ed6d433829e04160b6613d2"
   },
   "source": [
    "私たちはすでに、次の散布図を見ました。しかし、私たちが新しい視点から物事を見ると、常に発見すべきことがあります。"
   ]
  },
  {
   "cell_type": "code",
   "execution_count": null,
   "metadata": {
    "_cell_guid": "a03b5ee8-0701-10f0-2d4c-06fcaf1fada5",
    "_execution_state": "idle",
    "_uuid": "4d3e3941ca62ce141f96d0fd2f3276cd80e03ed3",
    "collapsed": false
   },
   "outputs": [],
   "source": [
    "#二変量解析 saleprice/grlivarea\n",
    "var = 'GrLivArea'\n",
    "data = pd.concat([df_train['SalePrice'], df_train[var]], axis=1)\n",
    "data.plot.scatter(x=var, y='SalePrice', ylim=(0,800000));"
   ]
  },
  {
   "cell_type": "markdown",
   "metadata": {
    "_cell_guid": "48c2ad5c-b861-6b33-a292-9d6b7b58b1cc",
    "_uuid": "8ef88aabbea5235f920f0a12eba9cf9f640b5f6d"
   },
   "source": [
    "What has been revealed:\n",
    "\n",
    "*　大きな「GrLivArea」を持つ2つの値は奇妙に見え、群衆に追いつかない。なぜこれが起こっているのか推測することができます。多分彼らは農業地域を指し、それは低価格を説明することができます。私はこれについてはわからないが、私はこれらの2つの点が典型的な事例を代表するものではないと確信している。したがって、それらを異常値として定義して削除します。　　\n",
    "*　プロットの上の2つの観察は、我々が注意すべきであると言った何らかの観察である。彼らは2つの特別なケースのように見えますが、それは傾向に従っているようです。そのため、私たちはそれらを保管します。"
   ]
  },
  {
   "cell_type": "code",
   "execution_count": null,
   "metadata": {
    "_cell_guid": "63a6517c-431f-c3fe-30cf-61034e54a5cb",
    "_execution_state": "idle",
    "_uuid": "ff34e1e620a89d16ecf35508e40e23b1d7a4771c",
    "collapsed": false
   },
   "outputs": [],
   "source": [
    "#異常なポイントを削除する\n",
    "\n",
    "#デフォルトは昇順。降順にしたい場合は引数ascending\n",
    "df_train.sort_values(by = 'GrLivArea', ascending = False)[:2]\n",
    "\n",
    "df_train = df_train.drop(df_train[df_train['Id'] == 1299].index)\n",
    "df_train = df_train.drop(df_train[df_train['Id'] == 524].index)"
   ]
  },
  {
   "cell_type": "code",
   "execution_count": null,
   "metadata": {
    "_cell_guid": "1d4bf215-19d5-877e-1958-f5713009a94a",
    "_execution_state": "idle",
    "_uuid": "a48108966041d652f9fee571bf9ff08a7c73f6ef",
    "collapsed": false
   },
   "outputs": [],
   "source": [
    "#二変量解析 saleprice/TotalBsmtSF\n",
    "var = 'TotalBsmtSF'\n",
    "data = pd.concat([df_train['SalePrice'], df_train[var]], axis=1)\n",
    "data.plot.scatter(x=var, y='SalePrice', ylim=(0,800000));"
   ]
  },
  {
   "cell_type": "markdown",
   "metadata": {
    "_cell_guid": "ff4b9944-30d2-834a-de2f-6ee1b54aefc6",
    "_uuid": "83b610acd7caee0f0ac5e82856bbeb17fb54ceee"
   },
   "source": [
    "いくつかの観測値（たとえばTotalBsmtSF> 3000）を排除したいと思うかもしれませんが、その価値はないと思います"
   ]
  },
  {
   "cell_type": "markdown",
   "metadata": {
    "_cell_guid": "a0b5def9-2709-a643-0ade-2689b6b36dae",
    "_uuid": "283f857f9ac2e1510cd238f59d937132a5492da6"
   },
   "source": [
    "# ハードコアを得る"
   ]
  },
  {
   "cell_type": "markdown",
   "metadata": {
    "_cell_guid": "1b997f3f-c28f-6029-64c9-2d2bfc01077c",
    "_uuid": "f8e75e15ed7cba60c64c44b4fa3ec6737414e218"
   },
   "source": [
    "\n",
    "Ayn Randの小説「Atlas Shrugged」では、John Galtは誰ですか？この本の大きな部分は、この質問に対する答えを見つけるための探求についてです。\n",
    "\n",
    "私は今、ランディアンを感じる。 「SalePrice」は誰ですか？\n",
    "\n",
    "この質問に対する答えは、多変量解析のための統計的根拠の基礎となる仮定をテストすることにある。私たちはすでにデータクリーニングを行い、「SalePrice」について多くのことを発見しました。今度は、「SalePrice」が多変量解析技術を適用するための統計的前提条件をどのように遵守しているかを深く理解しましょう。\n",
    "\n",
    "4つの前提条件がテストされる必要があります。\n",
    "\n",
    "* <b>正常性</ b>  - 正常性について言えば、データは正規分布のように見えるということです。これはいくつかの統計テストがこれに依存しているため重要です（e.g. t-statistics）。この練習では、「SalePrice」の単変量正規性をチェックします（これは限定的なアプローチです）。単変量正規性は多変量正規性（私たちが望むもの）を保証するものではありませんが、それが役に立ちます。考慮すべきもう一つの詳細は、大きなサンプル（> 200回の観測）では、正常性はそのような問題ではないということです。しかし、正規性を解くと、他の多くの問題（例えば、異質性）を避けることができ、それがこの分析を行う主な理由です。\n",
    "\n",
    "* <b>均質性</ b>  - 私はそれが正しいと思っています。均質忠実度とは、従属変数が予測変数の範囲全体で均等な分散レベルを示すという仮定をいう。独立変数のすべての値にわたって誤差項を同じにしたいので、均質忠実度が望ましい。\n",
    "\n",
    "* <b>直線性</ b>  - 直線性を評価する最も一般的な方法は、散布図を調べて線形パターンを検索することです。パターンが線形でない場合、データ変換を探索する価値があります。しかし、私たちが見た散布図のほとんどは線形関係を持っているように見えるので、これには取り込まれません。\n",
    "\n",
    "* <b>相関エラーの不在</ b>  - 定義されているような相関エラーは、あるエラーが別のエラーと関連している場合に発生します。例えば、ある正のエラーが体系的に負のエラーを起こすと、これらの変数間に関係があることを意味します。これは、いくつかのパターンが時間に関連する時系列で頻繁に発生します。私たちはこれにも関わらないでしょう。ただし、何かを検出した場合は、その効果を説明できる変数を追加してみてください。これは相関エラーの最も一般的な解決策です。\n",
    "\n",
    "\n"
   ]
  },
  {
   "cell_type": "markdown",
   "metadata": {
    "_cell_guid": "0f1a301d-0c06-548f-540d-124975931e70",
    "_uuid": "2497351eca10510469b27ca8518c5c1510932dc1"
   },
   "source": [
    "### ポイントを削除する"
   ]
  },
  {
   "cell_type": "markdown",
   "metadata": {
    "_cell_guid": "0d4f4ca7-3d4f-99e2-2aa7-1a6a6fc9e62e",
    "_uuid": "b408f24ef2b8fe26e44243fd7b0931a169789cc1"
   },
   "source": [
    "ここでのポイントは、無駄のない方法で 'SalePrice'をテストすることです。私たちはこれに注意を払って行います：\n",
    "\n",
    "* <b>ヒストグラム</ b>  - 尖度と歪度。\n",
    "* <b>正規確率プロット</ b>  - データ分布は、正規分布を表す対角線に厳密に従う必要があります。"
   ]
  },
  {
   "cell_type": "code",
   "execution_count": null,
   "metadata": {
    "_cell_guid": "99ca9885-9335-411e-9b35-21ff69d312e6",
    "_execution_state": "idle",
    "_uuid": "ad844362305f49c0e199ffe276dd119563d46a72",
    "collapsed": false
   },
   "outputs": [],
   "source": [
    "#ヒストグラムと正規確率プロット\n",
    "#正規確率プロットとはプロットが直線状に分布していればデータが正規分布していることを表します。\n",
    "\n",
    "#黒い線はノルム,最尤推定値（大きさ、力の強さを表している。）\n",
    "#*最尤法とは統計学において、与えられたデータからそれが従う確率分布の母数を点推定する方法である。\n",
    "#青い線はカーネル密度分布の曲線（全体の分布を推定）\n",
    "sns.distplot(df_train['SalePrice'], fit=norm);\n",
    "\n",
    "#plt.figure() メソッドは何も描画されていない新しいウィンドウを描画します。\n",
    "fig = plt.figure()\n",
    "\n",
    "#正規確率プロットの出力\n",
    "res = stats.probplot(df_train['SalePrice'], plot=plt)"
   ]
  },
  {
   "cell_type": "markdown",
   "metadata": {
    "_cell_guid": "ad84e765-4e47-2f00-dc09-474bf24c1dee",
    "_uuid": "eb8588ce1dd5cfcdd62a943268fa7d252ca7c447"
   },
   "source": [
    "「SalePrice」は正常ではありません。 「ピーク」、正の歪度を示し、対角線に沿っていません。(青い線と黒い線の天辺）\n",
    "\n",
    "しかし、すべてが失われません。簡単なデータ変換で問題を解決できます。これは統計的な本で学ぶことができるすばらしいものの1つです。正の歪度の場合、通常はログ変換がうまくいきます。"
   ]
  },
  {
   "cell_type": "code",
   "execution_count": null,
   "metadata": {
    "_cell_guid": "cced5b14-c39d-c847-6dc9-93af3f4b6e6d",
    "_execution_state": "idle",
    "_uuid": "f578838e98e9996b09abbec058200cb18aa38869",
    "collapsed": true
   },
   "outputs": [],
   "source": [
    "#ログ変換を適用する\n",
    "df_train['SalePrice'] = np.log(df_train['SalePrice'])"
   ]
  },
  {
   "cell_type": "code",
   "execution_count": null,
   "metadata": {
    "_cell_guid": "0e17fba2-3ff2-d6f1-841d-bc2a9746bcc2",
    "_execution_state": "idle",
    "_uuid": "de8366b3ad71c7cb398644766a412bee1d05642f",
    "collapsed": false
   },
   "outputs": [],
   "source": [
    "#変換ヒストグラムと正規確率プロット\n",
    "sns.distplot(df_train['SalePrice'], fit=norm);\n",
    "fig = plt.figure()\n",
    "res = stats.probplot(df_train['SalePrice'], plot=plt)"
   ]
  },
  {
   "cell_type": "markdown",
   "metadata": {
    "_cell_guid": "74131161-b766-8b08-5ae3-0b70688a198a",
    "_uuid": "19b172dfedfef5330c53cc34837d47641a3cf135"
   },
   "source": [
    "出来ました！次は'GrLivArea'で何が起こっているのか調べてみましょう。"
   ]
  },
  {
   "cell_type": "code",
   "execution_count": null,
   "metadata": {
    "_cell_guid": "bda5d77e-07ea-1d16-644c-a850487cc35d",
    "_execution_state": "idle",
    "_uuid": "aa29a3612ee861c42e5d6022ac3a8ad75266b0ee",
    "collapsed": false
   },
   "outputs": [],
   "source": [
    "#ヒストグラムと正規確率プロット\n",
    "sns.distplot(df_train['GrLivArea'], fit=norm);\n",
    "fig = plt.figure()\n",
    "res = stats.probplot(df_train['GrLivArea'], plot=plt)"
   ]
  },
  {
   "cell_type": "code",
   "execution_count": null,
   "metadata": {
    "_cell_guid": "c0fe3abe-cc32-6f2e-0e79-1afd9b49c7ad",
    "_execution_state": "idle",
    "_uuid": "aa428f580e39e498dc06747423955fa714d97952",
    "collapsed": true
   },
   "outputs": [],
   "source": [
    "#log変換\n",
    "df_train['GrLivArea'] = np.log(df_train['GrLivArea'])"
   ]
  },
  {
   "cell_type": "code",
   "execution_count": null,
   "metadata": {
    "_cell_guid": "0171b317-885d-7092-ade9-d2332b8ea796",
    "_execution_state": "idle",
    "_uuid": "bb004d70d1f260289f864c2ecb5c5dceedc2d6fa",
    "collapsed": false
   },
   "outputs": [],
   "source": [
    "#ヒストグラムと正規確率プロット\n",
    "sns.distplot(df_train['GrLivArea'], fit=norm);\n",
    "fig = plt.figure()\n",
    "res = stats.probplot(df_train['GrLivArea'], plot=plt)"
   ]
  },
  {
   "cell_type": "markdown",
   "metadata": {
    "_cell_guid": "1686254a-4391-a744-b8ae-653364e216d4",
    "_uuid": "bdd45521276779b330af14f279bf578a9457dac0"
   },
   "source": [
    "次はTotalBsmtSF"
   ]
  },
  {
   "cell_type": "code",
   "execution_count": null,
   "metadata": {
    "_cell_guid": "4cec452c-ccfd-e65e-2e8b-6c601d3664cd",
    "_execution_state": "idle",
    "_uuid": "b9b1528dcb2a5d1a85c469c69f9df08149fe5ff0",
    "collapsed": false,
    "scrolled": true
   },
   "outputs": [],
   "source": [
    "#ヒストグラムと正規確率プロット\n",
    "sns.distplot(df_train['TotalBsmtSF'], fit=norm);\n",
    "fig = plt.figure()\n",
    "res = stats.probplot(df_train['TotalBsmtSF'], plot=plt)"
   ]
  },
  {
   "cell_type": "markdown",
   "metadata": {
    "_cell_guid": "8212aea1-70b8-5cdb-1d54-ebad40f3d73e",
    "_uuid": "317120e4f6469692db40bfb8c9c450cf2dc91938"
   },
   "source": [
    "さて、私たちは大きなボスを扱っています。ここには何がありますか？\n",
    "\n",
    "*　線は、一般に、歪度を提示するものです。\n",
    "*　価値ゼロの観測（地下のない住宅）がかなり多い\n",
    "*　大きな問題は、ゼロという値ではログの変換を実行できないためです。\n",
    "\n",
    "ここでログ変換を適用するには、基底（バイナリ変数）を持つか持っていないかの効果を得るための変数を作成します。次に、ゼロ以外のすべての観測値に対してログ変換を行い、値ゼロの観測値は無視します。このようにして、私たちは地下を持つかどうかの影響を失うことなく、データを変換することができます。\n",
    "\n",
    "このアプローチが正しいかどうかはわかりません。それはちょうど私にとって正しいと思われました。それが私が「高リスク工学」と呼ぶものです。"
   ]
  },
  {
   "cell_type": "code",
   "execution_count": null,
   "metadata": {
    "_cell_guid": "a025f96a-c537-92d5-9187-355cb4f0a520",
    "_execution_state": "idle",
    "_uuid": "5cb8e327f4fd2e4714ec522bdd64c6ed81781652",
    "collapsed": false
   },
   "outputs": [],
   "source": [
    "#新しい変数のための特徴を作成します（1つはバイナリカテゴリの機能なので十分です）\n",
    "\n",
    "#if area>0 it gets 1, for area==0 it gets 0\n",
    "\n",
    "#新しくHasBsmtという特徴を作る\n",
    "df_train['HasBsmt'] = pd.Series(len(df_train['TotalBsmtSF']), index=df_train.index)\n",
    "\n",
    "#'HasBsmt'の値を０にする。\n",
    "df_train['HasBsmt'] = 0 \n",
    "\n",
    "#df.locで値の変更（もしTotalBsmtSFが１異常なら１を代入、０ならそのまま０が代入されている）\n",
    "df_train.loc[df_train['TotalBsmtSF']>0,'HasBsmt'] = 1\n"
   ]
  },
  {
   "cell_type": "code",
   "execution_count": null,
   "metadata": {
    "_cell_guid": "9933a45e-93f0-b43f-e7ad-2cb1986570d8",
    "_execution_state": "idle",
    "_uuid": "a7b15dd8a8163ab753ca2aa9e16ed38616bd2d03",
    "collapsed": true
   },
   "outputs": [],
   "source": [
    "#データの変換\n",
    "\n",
    "#もしHasBsmtが１であればTotalBsmtSFをlog変換\n",
    "df_train.loc[df_train['HasBsmt']==1,'TotalBsmtSF'] = np.log(df_train['TotalBsmtSF'])"
   ]
  },
  {
   "cell_type": "code",
   "execution_count": null,
   "metadata": {
    "_cell_guid": "8a2dc1c6-162d-4b42-8687-046b1ca47511",
    "_execution_state": "idle",
    "_uuid": "f8b1b53558610f9623617fd71a6440439a47e48e",
    "collapsed": false
   },
   "outputs": [],
   "source": [
    "#ヒストグラムと正規確率プロット\n",
    "sns.distplot(df_train[df_train['TotalBsmtSF']>0]['TotalBsmtSF'], fit=norm);\n",
    "fig = plt.figure()\n",
    "res = stats.probplot(df_train[df_train['TotalBsmtSF']>0]['TotalBsmtSF'], plot=plt)"
   ]
  },
  {
   "cell_type": "markdown",
   "metadata": {
    "_cell_guid": "78c3c8e5-4ddd-e9ba-6ea8-a23b9d2b21a5",
    "_uuid": "f6f0988bbc48a298177ecc7ec70f2706c72fc1db"
   },
   "source": [
    "### 最初の試行で「等分散性」を書くための検索"
   ]
  },
  {
   "cell_type": "markdown",
   "metadata": {
    "_cell_guid": "14a0ff01-0d6d-4f3e-c959-0b1039b06439",
    "_uuid": "469987c7961cd885cc4233626426777e2b675466"
   },
   "source": [
    "2つのメトリック変数の等分散性をテストする最良の方法は、グラフィカルに表示されます。均等分散からの逸脱は、円錐（グラフの一方の側に小さな分散、反対側に大きな分散）またはダイヤモンド（分布の中心に多数の点）のような形状によって示される。\n",
    "\n",
    "\n",
    "* メトリック変数とは（計量的、順位付け）\n",
    "* 等分散性(homoscedasticity)とは、誤差（残差）の分散が一定であることを言う"
   ]
  },
  {
   "cell_type": "code",
   "execution_count": null,
   "metadata": {
    "_cell_guid": "a5f13ea7-70af-6a3d-bff1-84a696972e59",
    "_execution_state": "busy",
    "_uuid": "d6db45dbc22abfcdaf49be23f70e6b8f4ca4c13b",
    "collapsed": false
   },
   "outputs": [],
   "source": [
    "#scatter plot\n",
    "plt.scatter(df_train['GrLivArea'], df_train['SalePrice']);"
   ]
  },
  {
   "cell_type": "markdown",
   "metadata": {
    "_cell_guid": "522a6dc2-291a-807b-8fe9-3aa335dbd79d",
    "_uuid": "aed0d40afac41960d6409e9ea4ff9cd3d484ae86"
   },
   "source": [
    "この散布図の以前のバージョン（ログ変換の前）は円錐形をしていました（ 'SalePriceと相関変数の間の散布図を確認してください（ジャガースタイルのように動く）'）。ご覧のように、現在の散布図はもはや円錐形をしていません。それが正常の力です！いくつかの変数の正規性を保証するだけで、我々は均等分散問題を解決しました。\n",
    "\n",
    "では、 'SalePrice'と 'TotalBsmtSF'を確認しましょう。"
   ]
  },
  {
   "cell_type": "code",
   "execution_count": null,
   "metadata": {
    "_cell_guid": "d5a6cecd-4f33-5afe-2c95-9459da03091f",
    "_execution_state": "idle",
    "_uuid": "45cdf80ae7cf8bf1d5d62ff09f6e9b106047cafb",
    "collapsed": false
   },
   "outputs": [],
   "source": [
    "#scatter plot\n",
    "plt.scatter(df_train[df_train['TotalBsmtSF']>0]['TotalBsmtSF'], df_train[df_train['TotalBsmtSF']>0]['SalePrice']);"
   ]
  },
  {
   "cell_type": "markdown",
   "metadata": {
    "_cell_guid": "38a2af07-61d9-bc63-e78d-f88fd8bd03dc",
    "_uuid": "612394fe6ca03c21a96019cb72bd64966d05066e"
   },
   "source": [
    "一般的に、「SalePrice」は、「TotalBsmtSF」の範囲で均等な分散レベルを示すと言えます"
   ]
  },
  {
   "cell_type": "markdown",
   "metadata": {
    "_cell_guid": "56d7b15d-aaa1-0aaf-875b-8d914f4983dd",
    "_uuid": "9957d2bc81d7c1f694314495b923469be3428bbf"
   },
   "source": [
    "# 最後に、ダミー変数"
   ]
  },
  {
   "cell_type": "code",
   "execution_count": null,
   "metadata": {
    "_cell_guid": "06dfd6a2-f613-01e8-b7d0-2672dfd41db8",
    "_execution_state": "idle",
    "_uuid": "0f697a3a1949c3d9b86e9c38b11628d3f8bdc138",
    "collapsed": false
   },
   "outputs": [],
   "source": [
    "#カテゴリ変数をダミーに変換する\n",
    "\n",
    "#ダミー変数とは文字列でカテゴリー分けされた性別などのデータを、男を0, 女を1のように変換したり、\n",
    "#多クラスの特徴量をone-hot表現に変換したりすることができる。\n",
    "#機械学習の前処理として行うことが多い。\n",
    "\n",
    "df_train = pd.get_dummies(df_train)"
   ]
  },
  {
   "cell_type": "markdown",
   "metadata": {
    "_cell_guid": "92018f8f-4782-5a0c-9fee-f657b6331ffd",
    "_uuid": "38631001da379277b3ae8cbc78504546a23a810d"
   },
   "source": [
    "# 結論"
   ]
  },
  {
   "cell_type": "markdown",
   "metadata": {
    "_cell_guid": "95c93455-85f4-e0a4-3d3a-8365bcf750e0",
    "_uuid": "c05bfefad3b6084b9a7314ab87e5d9ae54af5ba1"
   },
   "source": [
    "それでおしまい！私たちは私たちの運動の終わりに達しました。\n",
    "\n",
    "このカーネルで、我々は、「SalePrice」のみを分析し、最も相関のある変数を用いて欠損データと外れ値を処理し、いくつかの基本的な統計的仮説を検証し、カテゴリー変数をダミー変数に変換した。これは、Pythonが私たちをより簡単にするのに役立つ多くの作業です。\n"
   ]
  }
 ],
 "metadata": {
  "_change_revision": 0,
  "_is_fork": false,
  "kernelspec": {
   "display_name": "Python 3",
   "language": "python",
   "name": "python3"
  },
  "language_info": {
   "codemirror_mode": {
    "name": "ipython",
    "version": 3
   },
   "file_extension": ".py",
   "mimetype": "text/x-python",
   "name": "python",
   "nbconvert_exporter": "python",
   "pygments_lexer": "ipython3",
   "version": "3.6.0"
  }
 },
 "nbformat": 4,
 "nbformat_minor": 1
}
