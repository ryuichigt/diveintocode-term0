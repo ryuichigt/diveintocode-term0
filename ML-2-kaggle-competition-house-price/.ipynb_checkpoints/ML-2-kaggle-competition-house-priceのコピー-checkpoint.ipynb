{
 "cells": [
  {
   "cell_type": "markdown",
   "metadata": {},
   "source": [
    "# HousePricesEDA"
   ]
  },
  {
   "cell_type": "code",
   "execution_count": 3,
   "metadata": {
    "collapsed": false
   },
   "outputs": [],
   "source": [
    "import pandas as pd\n",
    "import numpy as np\n",
    "import seaborn as sns\n",
    "import matplotlib.pyplot as plt\n",
    "%matplotlib inline "
   ]
  },
  {
   "cell_type": "code",
   "execution_count": 117,
   "metadata": {
    "collapsed": false
   },
   "outputs": [],
   "source": [
    "train = pd.read_csv(\"input/all/train.csv\")\n",
    "test = pd.read_csv(\"input/all/test.csv\")"
   ]
  },
  {
   "cell_type": "code",
   "execution_count": 118,
   "metadata": {
    "collapsed": false
   },
   "outputs": [
    {
     "data": {
      "text/html": [
       "<div>\n",
       "<table border=\"1\" class=\"dataframe\">\n",
       "  <thead>\n",
       "    <tr style=\"text-align: right;\">\n",
       "      <th></th>\n",
       "      <th>Id</th>\n",
       "      <th>MSSubClass</th>\n",
       "      <th>MSZoning</th>\n",
       "      <th>LotFrontage</th>\n",
       "      <th>LotArea</th>\n",
       "      <th>Street</th>\n",
       "      <th>Alley</th>\n",
       "      <th>LotShape</th>\n",
       "      <th>LandContour</th>\n",
       "      <th>Utilities</th>\n",
       "      <th>...</th>\n",
       "      <th>PoolArea</th>\n",
       "      <th>PoolQC</th>\n",
       "      <th>Fence</th>\n",
       "      <th>MiscFeature</th>\n",
       "      <th>MiscVal</th>\n",
       "      <th>MoSold</th>\n",
       "      <th>YrSold</th>\n",
       "      <th>SaleType</th>\n",
       "      <th>SaleCondition</th>\n",
       "      <th>SalePrice</th>\n",
       "    </tr>\n",
       "  </thead>\n",
       "  <tbody>\n",
       "    <tr>\n",
       "      <th>0</th>\n",
       "      <td>1</td>\n",
       "      <td>60</td>\n",
       "      <td>RL</td>\n",
       "      <td>65.0</td>\n",
       "      <td>8450</td>\n",
       "      <td>Pave</td>\n",
       "      <td>NaN</td>\n",
       "      <td>Reg</td>\n",
       "      <td>Lvl</td>\n",
       "      <td>AllPub</td>\n",
       "      <td>...</td>\n",
       "      <td>0</td>\n",
       "      <td>NaN</td>\n",
       "      <td>NaN</td>\n",
       "      <td>NaN</td>\n",
       "      <td>0</td>\n",
       "      <td>2</td>\n",
       "      <td>2008</td>\n",
       "      <td>WD</td>\n",
       "      <td>Normal</td>\n",
       "      <td>208500</td>\n",
       "    </tr>\n",
       "    <tr>\n",
       "      <th>1</th>\n",
       "      <td>2</td>\n",
       "      <td>20</td>\n",
       "      <td>RL</td>\n",
       "      <td>80.0</td>\n",
       "      <td>9600</td>\n",
       "      <td>Pave</td>\n",
       "      <td>NaN</td>\n",
       "      <td>Reg</td>\n",
       "      <td>Lvl</td>\n",
       "      <td>AllPub</td>\n",
       "      <td>...</td>\n",
       "      <td>0</td>\n",
       "      <td>NaN</td>\n",
       "      <td>NaN</td>\n",
       "      <td>NaN</td>\n",
       "      <td>0</td>\n",
       "      <td>5</td>\n",
       "      <td>2007</td>\n",
       "      <td>WD</td>\n",
       "      <td>Normal</td>\n",
       "      <td>181500</td>\n",
       "    </tr>\n",
       "    <tr>\n",
       "      <th>2</th>\n",
       "      <td>3</td>\n",
       "      <td>60</td>\n",
       "      <td>RL</td>\n",
       "      <td>68.0</td>\n",
       "      <td>11250</td>\n",
       "      <td>Pave</td>\n",
       "      <td>NaN</td>\n",
       "      <td>IR1</td>\n",
       "      <td>Lvl</td>\n",
       "      <td>AllPub</td>\n",
       "      <td>...</td>\n",
       "      <td>0</td>\n",
       "      <td>NaN</td>\n",
       "      <td>NaN</td>\n",
       "      <td>NaN</td>\n",
       "      <td>0</td>\n",
       "      <td>9</td>\n",
       "      <td>2008</td>\n",
       "      <td>WD</td>\n",
       "      <td>Normal</td>\n",
       "      <td>223500</td>\n",
       "    </tr>\n",
       "    <tr>\n",
       "      <th>3</th>\n",
       "      <td>4</td>\n",
       "      <td>70</td>\n",
       "      <td>RL</td>\n",
       "      <td>60.0</td>\n",
       "      <td>9550</td>\n",
       "      <td>Pave</td>\n",
       "      <td>NaN</td>\n",
       "      <td>IR1</td>\n",
       "      <td>Lvl</td>\n",
       "      <td>AllPub</td>\n",
       "      <td>...</td>\n",
       "      <td>0</td>\n",
       "      <td>NaN</td>\n",
       "      <td>NaN</td>\n",
       "      <td>NaN</td>\n",
       "      <td>0</td>\n",
       "      <td>2</td>\n",
       "      <td>2006</td>\n",
       "      <td>WD</td>\n",
       "      <td>Abnorml</td>\n",
       "      <td>140000</td>\n",
       "    </tr>\n",
       "    <tr>\n",
       "      <th>4</th>\n",
       "      <td>5</td>\n",
       "      <td>60</td>\n",
       "      <td>RL</td>\n",
       "      <td>84.0</td>\n",
       "      <td>14260</td>\n",
       "      <td>Pave</td>\n",
       "      <td>NaN</td>\n",
       "      <td>IR1</td>\n",
       "      <td>Lvl</td>\n",
       "      <td>AllPub</td>\n",
       "      <td>...</td>\n",
       "      <td>0</td>\n",
       "      <td>NaN</td>\n",
       "      <td>NaN</td>\n",
       "      <td>NaN</td>\n",
       "      <td>0</td>\n",
       "      <td>12</td>\n",
       "      <td>2008</td>\n",
       "      <td>WD</td>\n",
       "      <td>Normal</td>\n",
       "      <td>250000</td>\n",
       "    </tr>\n",
       "  </tbody>\n",
       "</table>\n",
       "<p>5 rows × 81 columns</p>\n",
       "</div>"
      ],
      "text/plain": [
       "   Id  MSSubClass MSZoning  LotFrontage  LotArea Street Alley LotShape  \\\n",
       "0   1          60       RL         65.0     8450   Pave   NaN      Reg   \n",
       "1   2          20       RL         80.0     9600   Pave   NaN      Reg   \n",
       "2   3          60       RL         68.0    11250   Pave   NaN      IR1   \n",
       "3   4          70       RL         60.0     9550   Pave   NaN      IR1   \n",
       "4   5          60       RL         84.0    14260   Pave   NaN      IR1   \n",
       "\n",
       "  LandContour Utilities    ...     PoolArea PoolQC Fence MiscFeature MiscVal  \\\n",
       "0         Lvl    AllPub    ...            0    NaN   NaN         NaN       0   \n",
       "1         Lvl    AllPub    ...            0    NaN   NaN         NaN       0   \n",
       "2         Lvl    AllPub    ...            0    NaN   NaN         NaN       0   \n",
       "3         Lvl    AllPub    ...            0    NaN   NaN         NaN       0   \n",
       "4         Lvl    AllPub    ...            0    NaN   NaN         NaN       0   \n",
       "\n",
       "  MoSold YrSold  SaleType  SaleCondition  SalePrice  \n",
       "0      2   2008        WD         Normal     208500  \n",
       "1      5   2007        WD         Normal     181500  \n",
       "2      9   2008        WD         Normal     223500  \n",
       "3      2   2006        WD        Abnorml     140000  \n",
       "4     12   2008        WD         Normal     250000  \n",
       "\n",
       "[5 rows x 81 columns]"
      ]
     },
     "execution_count": 118,
     "metadata": {},
     "output_type": "execute_result"
    }
   ],
   "source": [
    "train.head()"
   ]
  },
  {
   "cell_type": "code",
   "execution_count": 119,
   "metadata": {
    "collapsed": false
   },
   "outputs": [
    {
     "data": {
      "text/html": [
       "<div>\n",
       "<table border=\"1\" class=\"dataframe\">\n",
       "  <thead>\n",
       "    <tr style=\"text-align: right;\">\n",
       "      <th></th>\n",
       "      <th>Id</th>\n",
       "      <th>MSSubClass</th>\n",
       "      <th>MSZoning</th>\n",
       "      <th>LotFrontage</th>\n",
       "      <th>LotArea</th>\n",
       "      <th>Street</th>\n",
       "      <th>Alley</th>\n",
       "      <th>LotShape</th>\n",
       "      <th>LandContour</th>\n",
       "      <th>Utilities</th>\n",
       "      <th>...</th>\n",
       "      <th>ScreenPorch</th>\n",
       "      <th>PoolArea</th>\n",
       "      <th>PoolQC</th>\n",
       "      <th>Fence</th>\n",
       "      <th>MiscFeature</th>\n",
       "      <th>MiscVal</th>\n",
       "      <th>MoSold</th>\n",
       "      <th>YrSold</th>\n",
       "      <th>SaleType</th>\n",
       "      <th>SaleCondition</th>\n",
       "    </tr>\n",
       "  </thead>\n",
       "  <tbody>\n",
       "    <tr>\n",
       "      <th>0</th>\n",
       "      <td>1461</td>\n",
       "      <td>20</td>\n",
       "      <td>RH</td>\n",
       "      <td>80.0</td>\n",
       "      <td>11622</td>\n",
       "      <td>Pave</td>\n",
       "      <td>NaN</td>\n",
       "      <td>Reg</td>\n",
       "      <td>Lvl</td>\n",
       "      <td>AllPub</td>\n",
       "      <td>...</td>\n",
       "      <td>120</td>\n",
       "      <td>0</td>\n",
       "      <td>NaN</td>\n",
       "      <td>MnPrv</td>\n",
       "      <td>NaN</td>\n",
       "      <td>0</td>\n",
       "      <td>6</td>\n",
       "      <td>2010</td>\n",
       "      <td>WD</td>\n",
       "      <td>Normal</td>\n",
       "    </tr>\n",
       "    <tr>\n",
       "      <th>1</th>\n",
       "      <td>1462</td>\n",
       "      <td>20</td>\n",
       "      <td>RL</td>\n",
       "      <td>81.0</td>\n",
       "      <td>14267</td>\n",
       "      <td>Pave</td>\n",
       "      <td>NaN</td>\n",
       "      <td>IR1</td>\n",
       "      <td>Lvl</td>\n",
       "      <td>AllPub</td>\n",
       "      <td>...</td>\n",
       "      <td>0</td>\n",
       "      <td>0</td>\n",
       "      <td>NaN</td>\n",
       "      <td>NaN</td>\n",
       "      <td>Gar2</td>\n",
       "      <td>12500</td>\n",
       "      <td>6</td>\n",
       "      <td>2010</td>\n",
       "      <td>WD</td>\n",
       "      <td>Normal</td>\n",
       "    </tr>\n",
       "    <tr>\n",
       "      <th>2</th>\n",
       "      <td>1463</td>\n",
       "      <td>60</td>\n",
       "      <td>RL</td>\n",
       "      <td>74.0</td>\n",
       "      <td>13830</td>\n",
       "      <td>Pave</td>\n",
       "      <td>NaN</td>\n",
       "      <td>IR1</td>\n",
       "      <td>Lvl</td>\n",
       "      <td>AllPub</td>\n",
       "      <td>...</td>\n",
       "      <td>0</td>\n",
       "      <td>0</td>\n",
       "      <td>NaN</td>\n",
       "      <td>MnPrv</td>\n",
       "      <td>NaN</td>\n",
       "      <td>0</td>\n",
       "      <td>3</td>\n",
       "      <td>2010</td>\n",
       "      <td>WD</td>\n",
       "      <td>Normal</td>\n",
       "    </tr>\n",
       "    <tr>\n",
       "      <th>3</th>\n",
       "      <td>1464</td>\n",
       "      <td>60</td>\n",
       "      <td>RL</td>\n",
       "      <td>78.0</td>\n",
       "      <td>9978</td>\n",
       "      <td>Pave</td>\n",
       "      <td>NaN</td>\n",
       "      <td>IR1</td>\n",
       "      <td>Lvl</td>\n",
       "      <td>AllPub</td>\n",
       "      <td>...</td>\n",
       "      <td>0</td>\n",
       "      <td>0</td>\n",
       "      <td>NaN</td>\n",
       "      <td>NaN</td>\n",
       "      <td>NaN</td>\n",
       "      <td>0</td>\n",
       "      <td>6</td>\n",
       "      <td>2010</td>\n",
       "      <td>WD</td>\n",
       "      <td>Normal</td>\n",
       "    </tr>\n",
       "    <tr>\n",
       "      <th>4</th>\n",
       "      <td>1465</td>\n",
       "      <td>120</td>\n",
       "      <td>RL</td>\n",
       "      <td>43.0</td>\n",
       "      <td>5005</td>\n",
       "      <td>Pave</td>\n",
       "      <td>NaN</td>\n",
       "      <td>IR1</td>\n",
       "      <td>HLS</td>\n",
       "      <td>AllPub</td>\n",
       "      <td>...</td>\n",
       "      <td>144</td>\n",
       "      <td>0</td>\n",
       "      <td>NaN</td>\n",
       "      <td>NaN</td>\n",
       "      <td>NaN</td>\n",
       "      <td>0</td>\n",
       "      <td>1</td>\n",
       "      <td>2010</td>\n",
       "      <td>WD</td>\n",
       "      <td>Normal</td>\n",
       "    </tr>\n",
       "  </tbody>\n",
       "</table>\n",
       "<p>5 rows × 80 columns</p>\n",
       "</div>"
      ],
      "text/plain": [
       "     Id  MSSubClass MSZoning  LotFrontage  LotArea Street Alley LotShape  \\\n",
       "0  1461          20       RH         80.0    11622   Pave   NaN      Reg   \n",
       "1  1462          20       RL         81.0    14267   Pave   NaN      IR1   \n",
       "2  1463          60       RL         74.0    13830   Pave   NaN      IR1   \n",
       "3  1464          60       RL         78.0     9978   Pave   NaN      IR1   \n",
       "4  1465         120       RL         43.0     5005   Pave   NaN      IR1   \n",
       "\n",
       "  LandContour Utilities      ...       ScreenPorch PoolArea PoolQC  Fence  \\\n",
       "0         Lvl    AllPub      ...               120        0    NaN  MnPrv   \n",
       "1         Lvl    AllPub      ...                 0        0    NaN    NaN   \n",
       "2         Lvl    AllPub      ...                 0        0    NaN  MnPrv   \n",
       "3         Lvl    AllPub      ...                 0        0    NaN    NaN   \n",
       "4         HLS    AllPub      ...               144        0    NaN    NaN   \n",
       "\n",
       "  MiscFeature MiscVal MoSold  YrSold  SaleType  SaleCondition  \n",
       "0         NaN       0      6    2010        WD         Normal  \n",
       "1        Gar2   12500      6    2010        WD         Normal  \n",
       "2         NaN       0      3    2010        WD         Normal  \n",
       "3         NaN       0      6    2010        WD         Normal  \n",
       "4         NaN       0      1    2010        WD         Normal  \n",
       "\n",
       "[5 rows x 80 columns]"
      ]
     },
     "execution_count": 119,
     "metadata": {},
     "output_type": "execute_result"
    }
   ],
   "source": [
    "test.head()"
   ]
  },
  {
   "cell_type": "code",
   "execution_count": 120,
   "metadata": {
    "collapsed": false
   },
   "outputs": [
    {
     "data": {
      "text/plain": [
       "((1460, 81), (1459, 80))"
      ]
     },
     "execution_count": 120,
     "metadata": {},
     "output_type": "execute_result"
    }
   ],
   "source": [
    "train.shape,test.shape"
   ]
  },
  {
   "cell_type": "markdown",
   "metadata": {},
   "source": [
    "欠損値がどのくらいあるのか調べるために、欠損が多い特徴量から上位20個を取得。"
   ]
  },
  {
   "cell_type": "code",
   "execution_count": 121,
   "metadata": {
    "collapsed": false
   },
   "outputs": [
    {
     "data": {
      "text/plain": [
       "Index(['PoolQC', 'MiscFeature', 'Alley', 'Fence', 'FireplaceQu', 'LotFrontage',\n",
       "       'GarageCond', 'GarageType', 'GarageYrBlt', 'GarageFinish', 'GarageQual',\n",
       "       'BsmtExposure', 'BsmtFinType2', 'BsmtFinType1', 'BsmtCond', 'BsmtQual',\n",
       "       'MasVnrArea', 'MasVnrType', 'Electrical', 'Utilities'],\n",
       "      dtype='object')"
      ]
     },
     "execution_count": 121,
     "metadata": {},
     "output_type": "execute_result"
    }
   ],
   "source": [
    "train_nulltrain_nu  = train.isnull().sum().sort_values()[::-1]\n",
    "train_nulltrain_nu[:20].index"
   ]
  },
  {
   "cell_type": "markdown",
   "metadata": {},
   "source": [
    "欠損値が「多い順」とはいっても、どのように分布しているのかをもう少し詳細にみてみる。"
   ]
  },
  {
   "cell_type": "code",
   "execution_count": 122,
   "metadata": {
    "collapsed": false
   },
   "outputs": [
    {
     "data": {
      "text/plain": [
       "<matplotlib.axes._subplots.AxesSubplot at 0x113acb9e8>"
      ]
     },
     "execution_count": 122,
     "metadata": {},
     "output_type": "execute_result"
    },
    {
     "data": {
      "image/png": "[encoded data removed]",
      "text/plain": [
       "<matplotlib.figure.Figure at 0x113ac5cf8>"
      ]
     },
     "metadata": {},
     "output_type": "display_data"
    }
   ],
   "source": [
    "train_null = pd.DataFrame(train_nulltrain_nu)\n",
    "train_null[\"count_data\"] = 1459\n",
    "train_null\n",
    "train_null.columns=[\"sum_null\",\"count_data\"]\n",
    "train_null_sorted=train_null.sort_values(by=\"sum_null\",ascending=False)\n",
    "train_null_sorted[:20].plot.barh()"
   ]
  },
  {
   "cell_type": "code",
   "execution_count": 123,
   "metadata": {
    "collapsed": false
   },
   "outputs": [
    {
     "data": {
      "text/html": [
       "<div>\n",
       "<table border=\"1\" class=\"dataframe\">\n",
       "  <thead>\n",
       "    <tr style=\"text-align: right;\">\n",
       "      <th></th>\n",
       "      <th>sum_null</th>\n",
       "      <th>count_data</th>\n",
       "    </tr>\n",
       "  </thead>\n",
       "  <tbody>\n",
       "    <tr>\n",
       "      <th>PoolQC</th>\n",
       "      <td>1453</td>\n",
       "      <td>1459</td>\n",
       "    </tr>\n",
       "    <tr>\n",
       "      <th>MiscFeature</th>\n",
       "      <td>1406</td>\n",
       "      <td>1459</td>\n",
       "    </tr>\n",
       "    <tr>\n",
       "      <th>Alley</th>\n",
       "      <td>1369</td>\n",
       "      <td>1459</td>\n",
       "    </tr>\n",
       "    <tr>\n",
       "      <th>Fence</th>\n",
       "      <td>1179</td>\n",
       "      <td>1459</td>\n",
       "    </tr>\n",
       "    <tr>\n",
       "      <th>FireplaceQu</th>\n",
       "      <td>690</td>\n",
       "      <td>1459</td>\n",
       "    </tr>\n",
       "    <tr>\n",
       "      <th>LotFrontage</th>\n",
       "      <td>259</td>\n",
       "      <td>1459</td>\n",
       "    </tr>\n",
       "    <tr>\n",
       "      <th>GarageCond</th>\n",
       "      <td>81</td>\n",
       "      <td>1459</td>\n",
       "    </tr>\n",
       "    <tr>\n",
       "      <th>GarageType</th>\n",
       "      <td>81</td>\n",
       "      <td>1459</td>\n",
       "    </tr>\n",
       "    <tr>\n",
       "      <th>GarageYrBlt</th>\n",
       "      <td>81</td>\n",
       "      <td>1459</td>\n",
       "    </tr>\n",
       "    <tr>\n",
       "      <th>GarageFinish</th>\n",
       "      <td>81</td>\n",
       "      <td>1459</td>\n",
       "    </tr>\n",
       "    <tr>\n",
       "      <th>GarageQual</th>\n",
       "      <td>81</td>\n",
       "      <td>1459</td>\n",
       "    </tr>\n",
       "    <tr>\n",
       "      <th>BsmtExposure</th>\n",
       "      <td>38</td>\n",
       "      <td>1459</td>\n",
       "    </tr>\n",
       "    <tr>\n",
       "      <th>BsmtFinType2</th>\n",
       "      <td>38</td>\n",
       "      <td>1459</td>\n",
       "    </tr>\n",
       "    <tr>\n",
       "      <th>BsmtFinType1</th>\n",
       "      <td>37</td>\n",
       "      <td>1459</td>\n",
       "    </tr>\n",
       "    <tr>\n",
       "      <th>BsmtCond</th>\n",
       "      <td>37</td>\n",
       "      <td>1459</td>\n",
       "    </tr>\n",
       "    <tr>\n",
       "      <th>BsmtQual</th>\n",
       "      <td>37</td>\n",
       "      <td>1459</td>\n",
       "    </tr>\n",
       "    <tr>\n",
       "      <th>MasVnrArea</th>\n",
       "      <td>8</td>\n",
       "      <td>1459</td>\n",
       "    </tr>\n",
       "    <tr>\n",
       "      <th>MasVnrType</th>\n",
       "      <td>8</td>\n",
       "      <td>1459</td>\n",
       "    </tr>\n",
       "    <tr>\n",
       "      <th>Electrical</th>\n",
       "      <td>1</td>\n",
       "      <td>1459</td>\n",
       "    </tr>\n",
       "    <tr>\n",
       "      <th>Utilities</th>\n",
       "      <td>0</td>\n",
       "      <td>1459</td>\n",
       "    </tr>\n",
       "    <tr>\n",
       "      <th>YearRemodAdd</th>\n",
       "      <td>0</td>\n",
       "      <td>1459</td>\n",
       "    </tr>\n",
       "    <tr>\n",
       "      <th>MSSubClass</th>\n",
       "      <td>0</td>\n",
       "      <td>1459</td>\n",
       "    </tr>\n",
       "    <tr>\n",
       "      <th>Foundation</th>\n",
       "      <td>0</td>\n",
       "      <td>1459</td>\n",
       "    </tr>\n",
       "    <tr>\n",
       "      <th>ExterCond</th>\n",
       "      <td>0</td>\n",
       "      <td>1459</td>\n",
       "    </tr>\n",
       "    <tr>\n",
       "      <th>ExterQual</th>\n",
       "      <td>0</td>\n",
       "      <td>1459</td>\n",
       "    </tr>\n",
       "    <tr>\n",
       "      <th>Exterior2nd</th>\n",
       "      <td>0</td>\n",
       "      <td>1459</td>\n",
       "    </tr>\n",
       "    <tr>\n",
       "      <th>Exterior1st</th>\n",
       "      <td>0</td>\n",
       "      <td>1459</td>\n",
       "    </tr>\n",
       "    <tr>\n",
       "      <th>RoofMatl</th>\n",
       "      <td>0</td>\n",
       "      <td>1459</td>\n",
       "    </tr>\n",
       "    <tr>\n",
       "      <th>RoofStyle</th>\n",
       "      <td>0</td>\n",
       "      <td>1459</td>\n",
       "    </tr>\n",
       "    <tr>\n",
       "      <th>YearBuilt</th>\n",
       "      <td>0</td>\n",
       "      <td>1459</td>\n",
       "    </tr>\n",
       "    <tr>\n",
       "      <th>...</th>\n",
       "      <td>...</td>\n",
       "      <td>...</td>\n",
       "    </tr>\n",
       "    <tr>\n",
       "      <th>GarageArea</th>\n",
       "      <td>0</td>\n",
       "      <td>1459</td>\n",
       "    </tr>\n",
       "    <tr>\n",
       "      <th>PavedDrive</th>\n",
       "      <td>0</td>\n",
       "      <td>1459</td>\n",
       "    </tr>\n",
       "    <tr>\n",
       "      <th>WoodDeckSF</th>\n",
       "      <td>0</td>\n",
       "      <td>1459</td>\n",
       "    </tr>\n",
       "    <tr>\n",
       "      <th>OpenPorchSF</th>\n",
       "      <td>0</td>\n",
       "      <td>1459</td>\n",
       "    </tr>\n",
       "    <tr>\n",
       "      <th>3SsnPorch</th>\n",
       "      <td>0</td>\n",
       "      <td>1459</td>\n",
       "    </tr>\n",
       "    <tr>\n",
       "      <th>BsmtUnfSF</th>\n",
       "      <td>0</td>\n",
       "      <td>1459</td>\n",
       "    </tr>\n",
       "    <tr>\n",
       "      <th>ScreenPorch</th>\n",
       "      <td>0</td>\n",
       "      <td>1459</td>\n",
       "    </tr>\n",
       "    <tr>\n",
       "      <th>PoolArea</th>\n",
       "      <td>0</td>\n",
       "      <td>1459</td>\n",
       "    </tr>\n",
       "    <tr>\n",
       "      <th>MiscVal</th>\n",
       "      <td>0</td>\n",
       "      <td>1459</td>\n",
       "    </tr>\n",
       "    <tr>\n",
       "      <th>MoSold</th>\n",
       "      <td>0</td>\n",
       "      <td>1459</td>\n",
       "    </tr>\n",
       "    <tr>\n",
       "      <th>YrSold</th>\n",
       "      <td>0</td>\n",
       "      <td>1459</td>\n",
       "    </tr>\n",
       "    <tr>\n",
       "      <th>SaleType</th>\n",
       "      <td>0</td>\n",
       "      <td>1459</td>\n",
       "    </tr>\n",
       "    <tr>\n",
       "      <th>Functional</th>\n",
       "      <td>0</td>\n",
       "      <td>1459</td>\n",
       "    </tr>\n",
       "    <tr>\n",
       "      <th>TotRmsAbvGrd</th>\n",
       "      <td>0</td>\n",
       "      <td>1459</td>\n",
       "    </tr>\n",
       "    <tr>\n",
       "      <th>KitchenQual</th>\n",
       "      <td>0</td>\n",
       "      <td>1459</td>\n",
       "    </tr>\n",
       "    <tr>\n",
       "      <th>KitchenAbvGr</th>\n",
       "      <td>0</td>\n",
       "      <td>1459</td>\n",
       "    </tr>\n",
       "    <tr>\n",
       "      <th>BedroomAbvGr</th>\n",
       "      <td>0</td>\n",
       "      <td>1459</td>\n",
       "    </tr>\n",
       "    <tr>\n",
       "      <th>HalfBath</th>\n",
       "      <td>0</td>\n",
       "      <td>1459</td>\n",
       "    </tr>\n",
       "    <tr>\n",
       "      <th>FullBath</th>\n",
       "      <td>0</td>\n",
       "      <td>1459</td>\n",
       "    </tr>\n",
       "    <tr>\n",
       "      <th>BsmtHalfBath</th>\n",
       "      <td>0</td>\n",
       "      <td>1459</td>\n",
       "    </tr>\n",
       "    <tr>\n",
       "      <th>BsmtFullBath</th>\n",
       "      <td>0</td>\n",
       "      <td>1459</td>\n",
       "    </tr>\n",
       "    <tr>\n",
       "      <th>GrLivArea</th>\n",
       "      <td>0</td>\n",
       "      <td>1459</td>\n",
       "    </tr>\n",
       "    <tr>\n",
       "      <th>LowQualFinSF</th>\n",
       "      <td>0</td>\n",
       "      <td>1459</td>\n",
       "    </tr>\n",
       "    <tr>\n",
       "      <th>2ndFlrSF</th>\n",
       "      <td>0</td>\n",
       "      <td>1459</td>\n",
       "    </tr>\n",
       "    <tr>\n",
       "      <th>1stFlrSF</th>\n",
       "      <td>0</td>\n",
       "      <td>1459</td>\n",
       "    </tr>\n",
       "    <tr>\n",
       "      <th>CentralAir</th>\n",
       "      <td>0</td>\n",
       "      <td>1459</td>\n",
       "    </tr>\n",
       "    <tr>\n",
       "      <th>SaleCondition</th>\n",
       "      <td>0</td>\n",
       "      <td>1459</td>\n",
       "    </tr>\n",
       "    <tr>\n",
       "      <th>Heating</th>\n",
       "      <td>0</td>\n",
       "      <td>1459</td>\n",
       "    </tr>\n",
       "    <tr>\n",
       "      <th>TotalBsmtSF</th>\n",
       "      <td>0</td>\n",
       "      <td>1459</td>\n",
       "    </tr>\n",
       "    <tr>\n",
       "      <th>Id</th>\n",
       "      <td>0</td>\n",
       "      <td>1459</td>\n",
       "    </tr>\n",
       "  </tbody>\n",
       "</table>\n",
       "<p>81 rows × 2 columns</p>\n",
       "</div>"
      ],
      "text/plain": [
       "               sum_null  count_data\n",
       "PoolQC             1453        1459\n",
       "MiscFeature        1406        1459\n",
       "Alley              1369        1459\n",
       "Fence              1179        1459\n",
       "FireplaceQu         690        1459\n",
       "LotFrontage         259        1459\n",
       "GarageCond           81        1459\n",
       "GarageType           81        1459\n",
       "GarageYrBlt          81        1459\n",
       "GarageFinish         81        1459\n",
       "GarageQual           81        1459\n",
       "BsmtExposure         38        1459\n",
       "BsmtFinType2         38        1459\n",
       "BsmtFinType1         37        1459\n",
       "BsmtCond             37        1459\n",
       "BsmtQual             37        1459\n",
       "MasVnrArea            8        1459\n",
       "MasVnrType            8        1459\n",
       "Electrical            1        1459\n",
       "Utilities             0        1459\n",
       "YearRemodAdd          0        1459\n",
       "MSSubClass            0        1459\n",
       "Foundation            0        1459\n",
       "ExterCond             0        1459\n",
       "ExterQual             0        1459\n",
       "Exterior2nd           0        1459\n",
       "Exterior1st           0        1459\n",
       "RoofMatl              0        1459\n",
       "RoofStyle             0        1459\n",
       "YearBuilt             0        1459\n",
       "...                 ...         ...\n",
       "GarageArea            0        1459\n",
       "PavedDrive            0        1459\n",
       "WoodDeckSF            0        1459\n",
       "OpenPorchSF           0        1459\n",
       "3SsnPorch             0        1459\n",
       "BsmtUnfSF             0        1459\n",
       "ScreenPorch           0        1459\n",
       "PoolArea              0        1459\n",
       "MiscVal               0        1459\n",
       "MoSold                0        1459\n",
       "YrSold                0        1459\n",
       "SaleType              0        1459\n",
       "Functional            0        1459\n",
       "TotRmsAbvGrd          0        1459\n",
       "KitchenQual           0        1459\n",
       "KitchenAbvGr          0        1459\n",
       "BedroomAbvGr          0        1459\n",
       "HalfBath              0        1459\n",
       "FullBath              0        1459\n",
       "BsmtHalfBath          0        1459\n",
       "BsmtFullBath          0        1459\n",
       "GrLivArea             0        1459\n",
       "LowQualFinSF          0        1459\n",
       "2ndFlrSF              0        1459\n",
       "1stFlrSF              0        1459\n",
       "CentralAir            0        1459\n",
       "SaleCondition         0        1459\n",
       "Heating               0        1459\n",
       "TotalBsmtSF           0        1459\n",
       "Id                    0        1459\n",
       "\n",
       "[81 rows x 2 columns]"
      ]
     },
     "execution_count": 123,
     "metadata": {},
     "output_type": "execute_result"
    }
   ],
   "source": [
    "train_null\n",
    "# train=train.drop((train_null[train_null[0]>691]).index,1)\n",
    "# test=test.drop((train_null[train_null[0]>691]).index,1)"
   ]
  },
  {
   "cell_type": "code",
   "execution_count": 124,
   "metadata": {
    "collapsed": false
   },
   "outputs": [
    {
     "data": {
      "text/plain": [
       "index     int64\n",
       "Fence    object\n",
       "dtype: object"
      ]
     },
     "execution_count": 124,
     "metadata": {},
     "output_type": "execute_result"
    }
   ],
   "source": [
    "train_Fence=train[\"Fence\"].reset_index()\n",
    "train_Fence.dtypes"
   ]
  },
  {
   "cell_type": "code",
   "execution_count": 125,
   "metadata": {
    "collapsed": false
   },
   "outputs": [
    {
     "data": {
      "text/plain": [
       "array([nan, 'MnPrv', 'GdWo', 'GdPrv', 'MnWw'], dtype=object)"
      ]
     },
     "execution_count": 125,
     "metadata": {},
     "output_type": "execute_result"
    }
   ],
   "source": [
    "train_Fence[\"Fence\"].unique()"
   ]
  },
  {
   "cell_type": "markdown",
   "metadata": {},
   "source": [
    "FenceのカラムにはFenceがある場合にはそのランクが入っている。\n",
    "\n",
    "- nan : そもそもFenceがない。\n",
    "- MnWw : 最低限の木材だけ\n",
    "- GdWo: 木材ではあるが、それなりにまともな木材\n",
    "- MnPrv : 最低限のプライバシーやセキュリティは確保されている\n",
    "- GdPrv : 最上級\n",
    "\n",
    "これらをそれぞれ1〜4のランクで数値化する。"
   ]
  },
  {
   "cell_type": "code",
   "execution_count": 153,
   "metadata": {
    "collapsed": false
   },
   "outputs": [
    {
     "data": {
      "text/plain": [
       "0       3\n",
       "1       0\n",
       "2       3\n",
       "3       0\n",
       "4       0\n",
       "5       0\n",
       "6       4\n",
       "7       0\n",
       "8       0\n",
       "9       3\n",
       "10      0\n",
       "11      0\n",
       "12      0\n",
       "13      0\n",
       "14      0\n",
       "15      0\n",
       "16      0\n",
       "17      0\n",
       "18      0\n",
       "19      0\n",
       "20      0\n",
       "21      0\n",
       "22      0\n",
       "23      0\n",
       "24      0\n",
       "25      0\n",
       "26      0\n",
       "27      0\n",
       "28      0\n",
       "29      0\n",
       "       ..\n",
       "1429    3\n",
       "1430    0\n",
       "1431    0\n",
       "1432    0\n",
       "1433    0\n",
       "1434    0\n",
       "1435    0\n",
       "1436    0\n",
       "1437    0\n",
       "1438    0\n",
       "1439    0\n",
       "1440    0\n",
       "1441    0\n",
       "1442    0\n",
       "1443    0\n",
       "1444    0\n",
       "1445    0\n",
       "1446    0\n",
       "1447    0\n",
       "1448    0\n",
       "1449    0\n",
       "1450    0\n",
       "1451    0\n",
       "1452    0\n",
       "1453    4\n",
       "1454    0\n",
       "1455    0\n",
       "1456    0\n",
       "1457    3\n",
       "1458    0\n",
       "Name: Fence, dtype: int64"
      ]
     },
     "execution_count": 153,
     "metadata": {},
     "output_type": "execute_result"
    }
   ],
   "source": [
    "train[\"Fence\"].map({np.nan:0,\"MnWw\":1,\"GdWo\":2,\"MnPrv\":3,\"GdPrv\":4})\n",
    "test[\"Fence\"].map({np.nan:0,\"MnWw\":1,\"GdWo\":2,\"MnPrv\":3,\"GdPrv\":4})"
   ]
  },
  {
   "cell_type": "code",
   "execution_count": 106,
   "metadata": {
    "collapsed": false
   },
   "outputs": [
    {
     "data": {
      "text/plain": [
       "array([nan, 'Ex', 'Fa', 'Gd'], dtype=object)"
      ]
     },
     "execution_count": 106,
     "metadata": {},
     "output_type": "execute_result"
    }
   ],
   "source": [
    "train[\"PoolQC\"].unique()"
   ]
  },
  {
   "cell_type": "markdown",
   "metadata": {},
   "source": [
    "PoolQCにはプールがついている場合には、そのランクが入っている。それも置き換える。"
   ]
  },
  {
   "cell_type": "code",
   "execution_count": 154,
   "metadata": {
    "collapsed": false
   },
   "outputs": [
    {
     "data": {
      "text/plain": [
       "0       0\n",
       "1       0\n",
       "2       0\n",
       "3       0\n",
       "4       0\n",
       "5       0\n",
       "6       0\n",
       "7       0\n",
       "8       0\n",
       "9       0\n",
       "10      0\n",
       "11      0\n",
       "12      0\n",
       "13      0\n",
       "14      0\n",
       "15      0\n",
       "16      0\n",
       "17      0\n",
       "18      0\n",
       "19      0\n",
       "20      0\n",
       "21      0\n",
       "22      0\n",
       "23      0\n",
       "24      0\n",
       "25      0\n",
       "26      0\n",
       "27      0\n",
       "28      0\n",
       "29      0\n",
       "       ..\n",
       "1429    0\n",
       "1430    0\n",
       "1431    0\n",
       "1432    0\n",
       "1433    0\n",
       "1434    0\n",
       "1435    0\n",
       "1436    0\n",
       "1437    0\n",
       "1438    0\n",
       "1439    0\n",
       "1440    0\n",
       "1441    0\n",
       "1442    0\n",
       "1443    0\n",
       "1444    0\n",
       "1445    0\n",
       "1446    0\n",
       "1447    0\n",
       "1448    0\n",
       "1449    0\n",
       "1450    0\n",
       "1451    0\n",
       "1452    0\n",
       "1453    0\n",
       "1454    0\n",
       "1455    0\n",
       "1456    0\n",
       "1457    0\n",
       "1458    0\n",
       "Name: PoolQC, dtype: int64"
      ]
     },
     "execution_count": 154,
     "metadata": {},
     "output_type": "execute_result"
    }
   ],
   "source": [
    "train[\"PoolQC\"].map({np.nan:0,\"Fa\":1,\"Gd\":2,\"Ex\":3})\n",
    "test[\"PoolQC\"].map({np.nan:0,\"Fa\":1,\"Gd\":2,\"Ex\":3})"
   ]
  },
  {
   "cell_type": "code",
   "execution_count": 107,
   "metadata": {
    "collapsed": false
   },
   "outputs": [
    {
     "data": {
      "text/plain": [
       "array([nan, 'Grvl', 'Pave'], dtype=object)"
      ]
     },
     "execution_count": 107,
     "metadata": {},
     "output_type": "execute_result"
    }
   ],
   "source": [
    "train[\"Alley\"].unique()"
   ]
  },
  {
   "cell_type": "markdown",
   "metadata": {},
   "source": [
    "Alleyも何かわからないがランクが入っているので数値化する。"
   ]
  },
  {
   "cell_type": "code",
   "execution_count": 155,
   "metadata": {
    "collapsed": false
   },
   "outputs": [
    {
     "data": {
      "text/plain": [
       "0       0\n",
       "1       0\n",
       "2       0\n",
       "3       0\n",
       "4       0\n",
       "5       0\n",
       "6       0\n",
       "7       0\n",
       "8       0\n",
       "9       0\n",
       "10      0\n",
       "11      0\n",
       "12      0\n",
       "13      0\n",
       "14      0\n",
       "15      0\n",
       "16      0\n",
       "17      0\n",
       "18      0\n",
       "19      0\n",
       "20      0\n",
       "21      0\n",
       "22      0\n",
       "23      0\n",
       "24      0\n",
       "25      0\n",
       "26      0\n",
       "27      0\n",
       "28      0\n",
       "29      0\n",
       "       ..\n",
       "1429    0\n",
       "1430    0\n",
       "1431    0\n",
       "1432    0\n",
       "1433    0\n",
       "1434    0\n",
       "1435    0\n",
       "1436    0\n",
       "1437    0\n",
       "1438    0\n",
       "1439    0\n",
       "1440    0\n",
       "1441    0\n",
       "1442    0\n",
       "1443    0\n",
       "1444    0\n",
       "1445    0\n",
       "1446    0\n",
       "1447    0\n",
       "1448    0\n",
       "1449    0\n",
       "1450    0\n",
       "1451    0\n",
       "1452    0\n",
       "1453    0\n",
       "1454    0\n",
       "1455    0\n",
       "1456    0\n",
       "1457    0\n",
       "1458    0\n",
       "Name: Alley, dtype: int64"
      ]
     },
     "execution_count": 155,
     "metadata": {},
     "output_type": "execute_result"
    }
   ],
   "source": [
    "train[\"Alley\"].map({np.nan:0,\"Pave\":1,\"Grvl\":1})\n",
    "test[\"Alley\"].map({np.nan:0,\"Pave\":1,\"Grvl\":1})"
   ]
  },
  {
   "cell_type": "code",
   "execution_count": 133,
   "metadata": {
    "collapsed": false
   },
   "outputs": [
    {
     "data": {
      "text/plain": [
       "array([nan, 'Shed', 'Gar2', 'Othr', 'TenC'], dtype=object)"
      ]
     },
     "execution_count": 133,
     "metadata": {},
     "output_type": "execute_result"
    }
   ],
   "source": [
    "train[\"MiscFeature\"].unique()"
   ]
  },
  {
   "cell_type": "code",
   "execution_count": 137,
   "metadata": {
    "collapsed": false
   },
   "outputs": [
    {
     "data": {
      "text/plain": [
       "Id                 int64\n",
       "MSSubClass         int64\n",
       "MSZoning          object\n",
       "LotFrontage      float64\n",
       "LotArea            int64\n",
       "Street            object\n",
       "Alley             object\n",
       "LotShape          object\n",
       "LandContour       object\n",
       "Utilities         object\n",
       "LotConfig         object\n",
       "LandSlope         object\n",
       "Neighborhood      object\n",
       "Condition1        object\n",
       "Condition2        object\n",
       "BldgType          object\n",
       "HouseStyle        object\n",
       "OverallQual        int64\n",
       "OverallCond        int64\n",
       "YearBuilt          int64\n",
       "YearRemodAdd       int64\n",
       "RoofStyle         object\n",
       "RoofMatl          object\n",
       "Exterior1st       object\n",
       "Exterior2nd       object\n",
       "MasVnrType        object\n",
       "MasVnrArea       float64\n",
       "ExterQual         object\n",
       "ExterCond         object\n",
       "Foundation        object\n",
       "                  ...   \n",
       "BedroomAbvGr       int64\n",
       "KitchenAbvGr       int64\n",
       "KitchenQual       object\n",
       "TotRmsAbvGrd       int64\n",
       "Functional        object\n",
       "Fireplaces         int64\n",
       "FireplaceQu       object\n",
       "GarageType        object\n",
       "GarageYrBlt      float64\n",
       "GarageFinish      object\n",
       "GarageCars         int64\n",
       "GarageArea         int64\n",
       "GarageQual        object\n",
       "GarageCond        object\n",
       "PavedDrive        object\n",
       "WoodDeckSF         int64\n",
       "OpenPorchSF        int64\n",
       "EnclosedPorch      int64\n",
       "3SsnPorch          int64\n",
       "ScreenPorch        int64\n",
       "PoolArea           int64\n",
       "PoolQC            object\n",
       "Fence             object\n",
       "MiscFeature       object\n",
       "MiscVal            int64\n",
       "MoSold             int64\n",
       "YrSold             int64\n",
       "SaleType          object\n",
       "SaleCondition     object\n",
       "SalePrice          int64\n",
       "dtype: object"
      ]
     },
     "execution_count": 137,
     "metadata": {},
     "output_type": "execute_result"
    }
   ],
   "source": [
    "train.dtypes"
   ]
  },
  {
   "cell_type": "code",
   "execution_count": 139,
   "metadata": {
    "collapsed": false
   },
   "outputs": [
    {
     "data": {
      "text/plain": [
       "0"
      ]
     },
     "execution_count": 139,
     "metadata": {},
     "output_type": "execute_result"
    }
   ],
   "source": [
    "train[\"MSZoning\"].isnull().sum()   #ランクづけ不可"
   ]
  },
  {
   "cell_type": "code",
   "execution_count": 140,
   "metadata": {
    "collapsed": false
   },
   "outputs": [
    {
     "data": {
      "text/plain": [
       "0"
      ]
     },
     "execution_count": 140,
     "metadata": {},
     "output_type": "execute_result"
    }
   ],
   "source": [
    "train[\"LotShape\"].isnull().sum()"
   ]
  },
  {
   "cell_type": "code",
   "execution_count": 141,
   "metadata": {
    "collapsed": false
   },
   "outputs": [
    {
     "data": {
      "text/plain": [
       "array(['Reg', 'IR1', 'IR2', 'IR3'], dtype=object)"
      ]
     },
     "execution_count": 141,
     "metadata": {},
     "output_type": "execute_result"
    }
   ],
   "source": [
    "train[\"LotShape\"].unique()"
   ]
  },
  {
   "cell_type": "code",
   "execution_count": 156,
   "metadata": {
    "collapsed": false
   },
   "outputs": [
    {
     "data": {
      "text/plain": [
       "0       0\n",
       "1       1\n",
       "2       1\n",
       "3       1\n",
       "4       1\n",
       "5       1\n",
       "6       1\n",
       "7       1\n",
       "8       0\n",
       "9       0\n",
       "10      1\n",
       "11      0\n",
       "12      0\n",
       "13      0\n",
       "14      0\n",
       "15      1\n",
       "16      1\n",
       "17      0\n",
       "18      1\n",
       "19      0\n",
       "20      0\n",
       "21      1\n",
       "22      1\n",
       "23      0\n",
       "24      1\n",
       "25      1\n",
       "26      2\n",
       "27      0\n",
       "28      0\n",
       "29      0\n",
       "       ..\n",
       "1429    0\n",
       "1430    0\n",
       "1431    0\n",
       "1432    0\n",
       "1433    0\n",
       "1434    1\n",
       "1435    1\n",
       "1436    1\n",
       "1437    0\n",
       "1438    0\n",
       "1439    0\n",
       "1440    1\n",
       "1441    1\n",
       "1442    0\n",
       "1443    0\n",
       "1444    0\n",
       "1445    0\n",
       "1446    0\n",
       "1447    1\n",
       "1448    1\n",
       "1449    0\n",
       "1450    0\n",
       "1451    0\n",
       "1452    0\n",
       "1453    0\n",
       "1454    0\n",
       "1455    0\n",
       "1456    0\n",
       "1457    0\n",
       "1458    0\n",
       "Name: LotShape, dtype: int64"
      ]
     },
     "execution_count": 156,
     "metadata": {},
     "output_type": "execute_result"
    }
   ],
   "source": [
    "train[\"LotShape\"].map({\"Reg\":0,\"IR1\":1,\"IR2\":2,\"IR3\":3})\n",
    "test[\"LotShape\"].map({\"Reg\":0,\"IR1\":1,\"IR2\":2,\"IR3\":3})"
   ]
  },
  {
   "cell_type": "code",
   "execution_count": null,
   "metadata": {
    "collapsed": true
   },
   "outputs": [],
   "source": [
    "# train[\"LandContour\"]                 #　ランク付けできなくない？\n",
    "#  \"Utilities\"\n",
    "#   \"LotConfig\"   立地条件？\n",
    "#   \n",
    "#\n",
    "#"
   ]
  },
  {
   "cell_type": "code",
   "execution_count": 144,
   "metadata": {
    "collapsed": false
   },
   "outputs": [
    {
     "data": {
      "text/plain": [
       "0"
      ]
     },
     "execution_count": 144,
     "metadata": {},
     "output_type": "execute_result"
    }
   ],
   "source": [
    "train[\"LandSlope\"].isnull().sum()"
   ]
  },
  {
   "cell_type": "code",
   "execution_count": 145,
   "metadata": {
    "collapsed": false
   },
   "outputs": [
    {
     "data": {
      "text/plain": [
       "array(['Gtl', 'Mod', 'Sev'], dtype=object)"
      ]
     },
     "execution_count": 145,
     "metadata": {},
     "output_type": "execute_result"
    }
   ],
   "source": [
    "train[\"LandSlope\"].unique()"
   ]
  },
  {
   "cell_type": "code",
   "execution_count": 157,
   "metadata": {
    "collapsed": false
   },
   "outputs": [
    {
     "data": {
      "text/plain": [
       "0       2\n",
       "1       2\n",
       "2       2\n",
       "3       2\n",
       "4       2\n",
       "5       2\n",
       "6       2\n",
       "7       2\n",
       "8       2\n",
       "9       2\n",
       "10      2\n",
       "11      2\n",
       "12      2\n",
       "13      2\n",
       "14      2\n",
       "15      2\n",
       "16      2\n",
       "17      2\n",
       "18      2\n",
       "19      1\n",
       "20      2\n",
       "21      2\n",
       "22      2\n",
       "23      2\n",
       "24      2\n",
       "25      2\n",
       "26      2\n",
       "27      2\n",
       "28      2\n",
       "29      2\n",
       "       ..\n",
       "1429    2\n",
       "1430    2\n",
       "1431    2\n",
       "1432    2\n",
       "1433    2\n",
       "1434    1\n",
       "1435    1\n",
       "1436    1\n",
       "1437    2\n",
       "1438    2\n",
       "1439    2\n",
       "1440    1\n",
       "1441    2\n",
       "1442    2\n",
       "1443    2\n",
       "1444    2\n",
       "1445    2\n",
       "1446    2\n",
       "1447    2\n",
       "1448    2\n",
       "1449    2\n",
       "1450    2\n",
       "1451    1\n",
       "1452    2\n",
       "1453    2\n",
       "1454    2\n",
       "1455    2\n",
       "1456    2\n",
       "1457    2\n",
       "1458    1\n",
       "Name: LandSlope, dtype: int64"
      ]
     },
     "execution_count": 157,
     "metadata": {},
     "output_type": "execute_result"
    }
   ],
   "source": [
    "train[\"LandSlope\"].map({\"Sev\":0,\"Mod\":1,\"Gtl\":2})\n",
    "test[\"LandSlope\"].map({\"Sev\":0,\"Mod\":1,\"Gtl\":2})"
   ]
  },
  {
   "cell_type": "code",
   "execution_count": 148,
   "metadata": {
    "collapsed": false
   },
   "outputs": [
    {
     "data": {
      "text/plain": [
       "array([ 7,  6,  8,  5,  9,  4, 10,  3,  1,  2])"
      ]
     },
     "execution_count": 148,
     "metadata": {},
     "output_type": "execute_result"
    }
   ],
   "source": [
    "train[\"OverallQual\"].unique()"
   ]
  },
  {
   "cell_type": "code",
   "execution_count": 150,
   "metadata": {
    "collapsed": false
   },
   "outputs": [
    {
     "data": {
      "text/plain": [
       "0"
      ]
     },
     "execution_count": 150,
     "metadata": {},
     "output_type": "execute_result"
    }
   ],
   "source": [
    "train[\"ExterQual\"].isnull().sum()"
   ]
  },
  {
   "cell_type": "code",
   "execution_count": 151,
   "metadata": {
    "collapsed": false
   },
   "outputs": [
    {
     "data": {
      "text/plain": [
       "array(['Gd', 'TA', 'Ex', 'Fa'], dtype=object)"
      ]
     },
     "execution_count": 151,
     "metadata": {},
     "output_type": "execute_result"
    }
   ],
   "source": [
    "train[\"ExterQual\"].unique()"
   ]
  },
  {
   "cell_type": "code",
   "execution_count": 158,
   "metadata": {
    "collapsed": false
   },
   "outputs": [
    {
     "data": {
      "text/plain": [
       "0       1\n",
       "1       1\n",
       "2       1\n",
       "3       1\n",
       "4       2\n",
       "5       1\n",
       "6       1\n",
       "7       1\n",
       "8       1\n",
       "9       1\n",
       "10      2\n",
       "11      1\n",
       "12      1\n",
       "13      1\n",
       "14      1\n",
       "15      3\n",
       "16      2\n",
       "17      2\n",
       "18      2\n",
       "19      3\n",
       "20      2\n",
       "21      2\n",
       "22      2\n",
       "23      2\n",
       "24      2\n",
       "25      2\n",
       "26      2\n",
       "27      2\n",
       "28      2\n",
       "29      2\n",
       "       ..\n",
       "1429    1\n",
       "1430    1\n",
       "1431    1\n",
       "1432    0\n",
       "1433    1\n",
       "1434    2\n",
       "1435    2\n",
       "1436    1\n",
       "1437    1\n",
       "1438    2\n",
       "1439    1\n",
       "1440    1\n",
       "1441    2\n",
       "1442    2\n",
       "1443    3\n",
       "1444    1\n",
       "1445    1\n",
       "1446    1\n",
       "1447    1\n",
       "1448    1\n",
       "1449    1\n",
       "1450    1\n",
       "1451    1\n",
       "1452    1\n",
       "1453    1\n",
       "1454    1\n",
       "1455    1\n",
       "1456    1\n",
       "1457    1\n",
       "1458    1\n",
       "Name: ExterQual, dtype: int64"
      ]
     },
     "execution_count": 158,
     "metadata": {},
     "output_type": "execute_result"
    }
   ],
   "source": [
    "train[\"ExterQual\"].map({\"Po\":0,\"Fa\":1,\"TA\":2,\"Gd\":3,\"Ex\":4})\n",
    "test[\"ExterQual\"].map({\"Po\":0,\"Fa\":1,\"TA\":2,\"Gd\":3,\"Ex\":4})"
   ]
  },
  {
   "cell_type": "code",
   "execution_count": 168,
   "metadata": {
    "collapsed": false
   },
   "outputs": [
    {
     "data": {
      "text/plain": [
       "0"
      ]
     },
     "execution_count": 168,
     "metadata": {},
     "output_type": "execute_result"
    }
   ],
   "source": [
    "train[\"ExterCond\"].isnull().sum()"
   ]
  },
  {
   "cell_type": "code",
   "execution_count": 164,
   "metadata": {
    "collapsed": false
   },
   "outputs": [
    {
     "data": {
      "text/plain": [
       "array(['TA', 'Gd', 'Fa', 'Po', 'Ex'], dtype=object)"
      ]
     },
     "execution_count": 164,
     "metadata": {},
     "output_type": "execute_result"
    }
   ],
   "source": [
    "train[\"ExterCond\"].unique()"
   ]
  },
  {
   "cell_type": "code",
   "execution_count": 169,
   "metadata": {
    "collapsed": false
   },
   "outputs": [
    {
     "data": {
      "text/plain": [
       "0       2\n",
       "1       2\n",
       "2       2\n",
       "3       2\n",
       "4       2\n",
       "5       2\n",
       "6       3\n",
       "7       2\n",
       "8       2\n",
       "9       2\n",
       "10      2\n",
       "11      2\n",
       "12      2\n",
       "13      2\n",
       "14      2\n",
       "15      2\n",
       "16      2\n",
       "17      2\n",
       "18      2\n",
       "19      2\n",
       "20      2\n",
       "21      2\n",
       "22      2\n",
       "23      2\n",
       "24      2\n",
       "25      2\n",
       "26      2\n",
       "27      2\n",
       "28      2\n",
       "29      2\n",
       "       ..\n",
       "1429    2\n",
       "1430    2\n",
       "1431    2\n",
       "1432    1\n",
       "1433    2\n",
       "1434    2\n",
       "1435    2\n",
       "1436    2\n",
       "1437    2\n",
       "1438    2\n",
       "1439    2\n",
       "1440    2\n",
       "1441    2\n",
       "1442    2\n",
       "1443    2\n",
       "1444    1\n",
       "1445    3\n",
       "1446    2\n",
       "1447    2\n",
       "1448    2\n",
       "1449    2\n",
       "1450    2\n",
       "1451    2\n",
       "1452    2\n",
       "1453    2\n",
       "1454    2\n",
       "1455    2\n",
       "1456    2\n",
       "1457    2\n",
       "1458    2\n",
       "Name: ExterCond, dtype: int64"
      ]
     },
     "execution_count": 169,
     "metadata": {},
     "output_type": "execute_result"
    }
   ],
   "source": [
    "train[\"ExterCond\"].map({\"Po\":0,\"Fa\":1,\"TA\":2,\"Gd\":3,\"Ex\":4})\n",
    "test[\"ExterCond\"].map({\"Po\":0,\"Fa\":1,\"TA\":2,\"Gd\":3,\"Ex\":4})"
   ]
  },
  {
   "cell_type": "code",
   "execution_count": 170,
   "metadata": {
    "collapsed": false
   },
   "outputs": [
    {
     "data": {
      "text/plain": [
       "array(['TA', 'Gd', nan, 'Fa', 'Po'], dtype=object)"
      ]
     },
     "execution_count": 170,
     "metadata": {},
     "output_type": "execute_result"
    }
   ],
   "source": [
    "train[\"BsmtCond\"].unique()"
   ]
  },
  {
   "cell_type": "code",
   "execution_count": 172,
   "metadata": {
    "collapsed": false
   },
   "outputs": [
    {
     "data": {
      "text/plain": [
       "0       3\n",
       "1       3\n",
       "2       3\n",
       "3       3\n",
       "4       3\n",
       "5       3\n",
       "6       3\n",
       "7       3\n",
       "8       3\n",
       "9       3\n",
       "10      3\n",
       "11      3\n",
       "12      3\n",
       "13      3\n",
       "14      3\n",
       "15      3\n",
       "16      3\n",
       "17      3\n",
       "18      3\n",
       "19      3\n",
       "20      3\n",
       "21      3\n",
       "22      3\n",
       "23      3\n",
       "24      3\n",
       "25      3\n",
       "26      3\n",
       "27      3\n",
       "28      3\n",
       "29      3\n",
       "       ..\n",
       "1429    3\n",
       "1430    3\n",
       "1431    0\n",
       "1432    3\n",
       "1433    2\n",
       "1434    3\n",
       "1435    3\n",
       "1436    3\n",
       "1437    3\n",
       "1438    3\n",
       "1439    3\n",
       "1440    3\n",
       "1441    3\n",
       "1442    4\n",
       "1443    3\n",
       "1444    0\n",
       "1445    3\n",
       "1446    3\n",
       "1447    3\n",
       "1448    3\n",
       "1449    3\n",
       "1450    3\n",
       "1451    3\n",
       "1452    3\n",
       "1453    3\n",
       "1454    3\n",
       "1455    3\n",
       "1456    3\n",
       "1457    3\n",
       "1458    3\n",
       "Name: BsmtCond, dtype: int64"
      ]
     },
     "execution_count": 172,
     "metadata": {},
     "output_type": "execute_result"
    }
   ],
   "source": [
    "train[\"BsmtCond\"].map({np.nan:0,\"Po\":1,\"Fa\":2,\"TA\":3,\"Gd\":4})\n",
    "test[\"BsmtCond\"].map({np.nan:0,\"Po\":1,\"Fa\":2,\"TA\":3,\"Gd\":4})"
   ]
  },
  {
   "cell_type": "code",
   "execution_count": 173,
   "metadata": {
    "collapsed": false
   },
   "outputs": [
    {
     "data": {
      "text/plain": [
       "0       3\n",
       "1       5\n",
       "2       6\n",
       "3       6\n",
       "4       5\n",
       "5       1\n",
       "6       5\n",
       "7       1\n",
       "8       6\n",
       "9       5\n",
       "10      6\n",
       "11      3\n",
       "12      3\n",
       "13      5\n",
       "14      1\n",
       "15      1\n",
       "16      1\n",
       "17      6\n",
       "18      6\n",
       "19      6\n",
       "20      6\n",
       "21      6\n",
       "22      1\n",
       "23      6\n",
       "24      6\n",
       "25      1\n",
       "26      1\n",
       "27      1\n",
       "28      1\n",
       "29      6\n",
       "       ..\n",
       "1429    1\n",
       "1430    1\n",
       "1431    0\n",
       "1432    1\n",
       "1433    1\n",
       "1434    6\n",
       "1435    6\n",
       "1436    6\n",
       "1437    1\n",
       "1438    1\n",
       "1439    6\n",
       "1440    4\n",
       "1441    6\n",
       "1442    6\n",
       "1443    6\n",
       "1444    0\n",
       "1445    6\n",
       "1446    1\n",
       "1447    5\n",
       "1448    4\n",
       "1449    6\n",
       "1450    3\n",
       "1451    3\n",
       "1452    3\n",
       "1453    1\n",
       "1454    1\n",
       "1455    3\n",
       "1456    5\n",
       "1457    6\n",
       "1458    2\n",
       "Name: BsmtFinType1, dtype: int64"
      ]
     },
     "execution_count": 173,
     "metadata": {},
     "output_type": "execute_result"
    }
   ],
   "source": [
    "train[\"BsmtFinType1\"].map({np.nan:0,\"Unf\":1,\"LwQ\":2,\"Rec\":3,\"BLQ\":4,\"ALQ\":5,\"GLQ\":6})\n",
    "test[\"BsmtFinType1\"].map({np.nan:0,\"Unf\":1,\"LwQ\":2,\"Rec\":3,\"BLQ\":4,\"ALQ\":5,\"GLQ\":6})"
   ]
  },
  {
   "cell_type": "code",
   "execution_count": 174,
   "metadata": {
    "collapsed": false
   },
   "outputs": [
    {
     "data": {
      "text/plain": [
       "0       2\n",
       "1       1\n",
       "2       1\n",
       "3       1\n",
       "4       1\n",
       "5       1\n",
       "6       1\n",
       "7       1\n",
       "8       1\n",
       "9       3\n",
       "10      4\n",
       "11      1\n",
       "12      1\n",
       "13      1\n",
       "14      1\n",
       "15      1\n",
       "16      1\n",
       "17      1\n",
       "18      1\n",
       "19      1\n",
       "20      1\n",
       "21      1\n",
       "22      1\n",
       "23      1\n",
       "24      1\n",
       "25      1\n",
       "26      1\n",
       "27      1\n",
       "28      1\n",
       "29      1\n",
       "       ..\n",
       "1429    1\n",
       "1430    1\n",
       "1431    0\n",
       "1432    1\n",
       "1433    1\n",
       "1434    1\n",
       "1435    1\n",
       "1436    1\n",
       "1437    1\n",
       "1438    1\n",
       "1439    1\n",
       "1440    1\n",
       "1441    4\n",
       "1442    1\n",
       "1443    1\n",
       "1444    0\n",
       "1445    1\n",
       "1446    1\n",
       "1447    1\n",
       "1448    1\n",
       "1449    1\n",
       "1450    1\n",
       "1451    4\n",
       "1452    1\n",
       "1453    1\n",
       "1454    1\n",
       "1455    1\n",
       "1456    1\n",
       "1457    1\n",
       "1458    1\n",
       "Name: BsmtFinType2, dtype: int64"
      ]
     },
     "execution_count": 174,
     "metadata": {},
     "output_type": "execute_result"
    }
   ],
   "source": [
    "train[\"BsmtFinType2\"].map({np.nan:0,\"Unf\":1,\"LwQ\":2,\"Rec\":3,\"BLQ\":4,\"ALQ\":5,\"GLQ\":6})\n",
    "test[\"BsmtFinType2\"].map({np.nan:0,\"Unf\":1,\"LwQ\":2,\"Rec\":3,\"BLQ\":4,\"ALQ\":5,\"GLQ\":6})"
   ]
  },
  {
   "cell_type": "code",
   "execution_count": 176,
   "metadata": {
    "collapsed": false
   },
   "outputs": [
    {
     "data": {
      "text/plain": [
       "0       2\n",
       "1       2\n",
       "2       3\n",
       "3       4\n",
       "4       4\n",
       "5       3\n",
       "6       4\n",
       "7       3\n",
       "8       3\n",
       "9       2\n",
       "10      4\n",
       "11      2\n",
       "12      2\n",
       "13      2\n",
       "14      4\n",
       "15      4\n",
       "16      4\n",
       "17      4\n",
       "18      4\n",
       "19      4\n",
       "20      4\n",
       "21      4\n",
       "22      4\n",
       "23      4\n",
       "24      4\n",
       "25      4\n",
       "26      4\n",
       "27      4\n",
       "28      4\n",
       "29      4\n",
       "       ..\n",
       "1429    3\n",
       "1430    3\n",
       "1431    2\n",
       "1432    2\n",
       "1433    1\n",
       "1434    4\n",
       "1435    4\n",
       "1436    2\n",
       "1437    2\n",
       "1438    4\n",
       "1439    2\n",
       "1440    2\n",
       "1441    4\n",
       "1442    4\n",
       "1443    4\n",
       "1444    2\n",
       "1445    3\n",
       "1446    2\n",
       "1447    4\n",
       "1448    2\n",
       "1449    2\n",
       "1450    2\n",
       "1451    1\n",
       "1452    2\n",
       "1453    2\n",
       "1454    3\n",
       "1455    2\n",
       "1456    4\n",
       "1457    2\n",
       "1458    4\n",
       "Name: HeatingQC, dtype: int64"
      ]
     },
     "execution_count": 176,
     "metadata": {},
     "output_type": "execute_result"
    }
   ],
   "source": [
    "train[\"HeatingQC\"].map({\"Po\":0,\"Fa\":1,\"TA\":2,\"Gd\":3,\"Ex\":4})\n",
    "test[\"HeatingQC\"].map({\"Po\":0,\"Fa\":1,\"TA\":2,\"Gd\":3,\"Ex\":4})"
   ]
  },
  {
   "cell_type": "code",
   "execution_count": 177,
   "metadata": {
    "collapsed": false
   },
   "outputs": [
    {
     "data": {
      "text/plain": [
       "0       2.0\n",
       "1       3.0\n",
       "2       2.0\n",
       "3       3.0\n",
       "4       3.0\n",
       "5       2.0\n",
       "6       2.0\n",
       "7       2.0\n",
       "8       3.0\n",
       "9       2.0\n",
       "10      3.0\n",
       "11      2.0\n",
       "12      2.0\n",
       "13      3.0\n",
       "14      2.0\n",
       "15      4.0\n",
       "16      3.0\n",
       "17      4.0\n",
       "18      4.0\n",
       "19      4.0\n",
       "20      3.0\n",
       "21      3.0\n",
       "22      3.0\n",
       "23      3.0\n",
       "24      3.0\n",
       "25      3.0\n",
       "26      3.0\n",
       "27      3.0\n",
       "28      3.0\n",
       "29      3.0\n",
       "       ... \n",
       "1429    1.0\n",
       "1430    3.0\n",
       "1431    2.0\n",
       "1432    2.0\n",
       "1433    2.0\n",
       "1434    4.0\n",
       "1435    3.0\n",
       "1436    1.0\n",
       "1437    2.0\n",
       "1438    3.0\n",
       "1439    2.0\n",
       "1440    2.0\n",
       "1441    3.0\n",
       "1442    3.0\n",
       "1443    4.0\n",
       "1444    2.0\n",
       "1445    2.0\n",
       "1446    2.0\n",
       "1447    2.0\n",
       "1448    2.0\n",
       "1449    2.0\n",
       "1450    2.0\n",
       "1451    2.0\n",
       "1452    2.0\n",
       "1453    2.0\n",
       "1454    2.0\n",
       "1455    2.0\n",
       "1456    2.0\n",
       "1457    2.0\n",
       "1458    2.0\n",
       "Name: KitchenQual, dtype: float64"
      ]
     },
     "execution_count": 177,
     "metadata": {},
     "output_type": "execute_result"
    }
   ],
   "source": [
    "train[\"KitchenQual\"].map({\"Po\":0,\"Fa\":1,\"TA\":2,\"Gd\":3,\"Ex\":4})\n",
    "test[\"KitchenQual\"].map({\"Po\":0,\"Fa\":1,\"TA\":2,\"Gd\":3,\"Ex\":4})"
   ]
  },
  {
   "cell_type": "code",
   "execution_count": 178,
   "metadata": {
    "collapsed": false
   },
   "outputs": [
    {
     "data": {
      "text/plain": [
       "0       0\n",
       "1       0\n",
       "2       3\n",
       "3       4\n",
       "4       0\n",
       "5       3\n",
       "6       0\n",
       "7       4\n",
       "8       1\n",
       "9       0\n",
       "10      2\n",
       "11      0\n",
       "12      0\n",
       "13      3\n",
       "14      0\n",
       "15      4\n",
       "16      0\n",
       "17      4\n",
       "18      4\n",
       "19      4\n",
       "20      5\n",
       "21      4\n",
       "22      0\n",
       "23      0\n",
       "24      4\n",
       "25      4\n",
       "26      3\n",
       "27      4\n",
       "28      0\n",
       "29      4\n",
       "       ..\n",
       "1429    0\n",
       "1430    0\n",
       "1431    0\n",
       "1432    0\n",
       "1433    0\n",
       "1434    4\n",
       "1435    4\n",
       "1436    3\n",
       "1437    0\n",
       "1438    0\n",
       "1439    0\n",
       "1440    4\n",
       "1441    0\n",
       "1442    4\n",
       "1443    4\n",
       "1444    0\n",
       "1445    0\n",
       "1446    3\n",
       "1447    0\n",
       "1448    0\n",
       "1449    0\n",
       "1450    0\n",
       "1451    3\n",
       "1452    0\n",
       "1453    0\n",
       "1454    0\n",
       "1455    0\n",
       "1456    3\n",
       "1457    0\n",
       "1458    3\n",
       "Name: FireplaceQu, dtype: int64"
      ]
     },
     "execution_count": 178,
     "metadata": {},
     "output_type": "execute_result"
    }
   ],
   "source": [
    "train[\"FireplaceQu\"].map({np.nan:0,\"Po\":1,\"Fa\":2,\"TA\":3,\"Gd\":4,\"Ex\":5})\n",
    "test[\"FireplaceQu\"].map({np.nan:0,\"Po\":1,\"Fa\":2,\"TA\":3,\"Gd\":4,\"Ex\":5})"
   ]
  },
  {
   "cell_type": "code",
   "execution_count": 179,
   "metadata": {
    "collapsed": false
   },
   "outputs": [
    {
     "data": {
      "text/plain": [
       "0       1\n",
       "1       1\n",
       "2       3\n",
       "3       3\n",
       "4       2\n",
       "5       3\n",
       "6       3\n",
       "7       3\n",
       "8       1\n",
       "9       3\n",
       "10      3\n",
       "11      1\n",
       "12      1\n",
       "13      1\n",
       "14      1\n",
       "15      3\n",
       "16      2\n",
       "17      3\n",
       "18      2\n",
       "19      3\n",
       "20      3\n",
       "21      2\n",
       "22      3\n",
       "23      3\n",
       "24      3\n",
       "25      3\n",
       "26      3\n",
       "27      2\n",
       "28      2\n",
       "29      3\n",
       "       ..\n",
       "1429    1\n",
       "1430    1\n",
       "1431    0\n",
       "1432    0\n",
       "1433    0\n",
       "1434    3\n",
       "1435    3\n",
       "1436    3\n",
       "1437    1\n",
       "1438    2\n",
       "1439    1\n",
       "1440    1\n",
       "1441    1\n",
       "1442    3\n",
       "1443    3\n",
       "1444    1\n",
       "1445    3\n",
       "1446    2\n",
       "1447    2\n",
       "1448    1\n",
       "1449    0\n",
       "1450    1\n",
       "1451    2\n",
       "1452    1\n",
       "1453    0\n",
       "1454    0\n",
       "1455    1\n",
       "1456    1\n",
       "1457    0\n",
       "1458    3\n",
       "Name: GarageFinish, dtype: int64"
      ]
     },
     "execution_count": 179,
     "metadata": {},
     "output_type": "execute_result"
    }
   ],
   "source": [
    "train[\"GarageFinish\"].map({np.nan:0,\"Unf\":1,\"RFn\":2,\"Fin\":3})\n",
    "test[\"GarageFinish\"].map({np.nan:0,\"Unf\":1,\"RFn\":2,\"Fin\":3})"
   ]
  },
  {
   "cell_type": "code",
   "execution_count": 180,
   "metadata": {
    "collapsed": false
   },
   "outputs": [
    {
     "data": {
      "text/plain": [
       "0       3\n",
       "1       3\n",
       "2       3\n",
       "3       3\n",
       "4       3\n",
       "5       3\n",
       "6       3\n",
       "7       3\n",
       "8       3\n",
       "9       3\n",
       "10      3\n",
       "11      3\n",
       "12      3\n",
       "13      3\n",
       "14      3\n",
       "15      3\n",
       "16      3\n",
       "17      3\n",
       "18      3\n",
       "19      3\n",
       "20      3\n",
       "21      3\n",
       "22      3\n",
       "23      3\n",
       "24      3\n",
       "25      3\n",
       "26      3\n",
       "27      3\n",
       "28      3\n",
       "29      3\n",
       "       ..\n",
       "1429    3\n",
       "1430    3\n",
       "1431    0\n",
       "1432    0\n",
       "1433    0\n",
       "1434    3\n",
       "1435    3\n",
       "1436    3\n",
       "1437    3\n",
       "1438    3\n",
       "1439    3\n",
       "1440    3\n",
       "1441    3\n",
       "1442    3\n",
       "1443    3\n",
       "1444    2\n",
       "1445    3\n",
       "1446    3\n",
       "1447    3\n",
       "1448    3\n",
       "1449    0\n",
       "1450    3\n",
       "1451    3\n",
       "1452    3\n",
       "1453    0\n",
       "1454    0\n",
       "1455    3\n",
       "1456    3\n",
       "1457    0\n",
       "1458    3\n",
       "Name: GarageQual, dtype: int64"
      ]
     },
     "execution_count": 180,
     "metadata": {},
     "output_type": "execute_result"
    }
   ],
   "source": [
    "train[\"GarageQual\"].map({np.nan:0,\"Po\":1,\"Fa\":2,\"TA\":3,\"Gd\":4,\"Ex\":5})\n",
    "test[\"GarageQual\"].map({np.nan:0,\"Po\":1,\"Fa\":2,\"TA\":3,\"Gd\":4,\"Ex\":5})"
   ]
  },
  {
   "cell_type": "code",
   "execution_count": 183,
   "metadata": {
    "collapsed": false
   },
   "outputs": [
    {
     "data": {
      "text/plain": [
       "0       3\n",
       "1       3\n",
       "2       3\n",
       "3       3\n",
       "4       3\n",
       "5       3\n",
       "6       3\n",
       "7       3\n",
       "8       3\n",
       "9       3\n",
       "10      3\n",
       "11      3\n",
       "12      3\n",
       "13      3\n",
       "14      3\n",
       "15      3\n",
       "16      3\n",
       "17      3\n",
       "18      3\n",
       "19      3\n",
       "20      3\n",
       "21      3\n",
       "22      3\n",
       "23      3\n",
       "24      3\n",
       "25      3\n",
       "26      3\n",
       "27      3\n",
       "28      3\n",
       "29      3\n",
       "       ..\n",
       "1429    3\n",
       "1430    3\n",
       "1431    0\n",
       "1432    0\n",
       "1433    0\n",
       "1434    3\n",
       "1435    3\n",
       "1436    3\n",
       "1437    3\n",
       "1438    3\n",
       "1439    3\n",
       "1440    3\n",
       "1441    3\n",
       "1442    3\n",
       "1443    3\n",
       "1444    3\n",
       "1445    3\n",
       "1446    3\n",
       "1447    3\n",
       "1448    3\n",
       "1449    0\n",
       "1450    2\n",
       "1451    3\n",
       "1452    3\n",
       "1453    0\n",
       "1454    0\n",
       "1455    3\n",
       "1456    3\n",
       "1457    0\n",
       "1458    3\n",
       "Name: GarageCond, dtype: int64"
      ]
     },
     "execution_count": 183,
     "metadata": {},
     "output_type": "execute_result"
    }
   ],
   "source": [
    "train[\"GarageCond\"].map({np.nan:0,\"Po\":1,\"Fa\":2,\"TA\":3,\"Gd\":4,\"Ex\":5})\n",
    "test[\"GarageCond\"].map({np.nan:0,\"Po\":1,\"Fa\":2,\"TA\":3,\"Gd\":4,\"Ex\":5})"
   ]
  },
  {
   "cell_type": "code",
   "execution_count": null,
   "metadata": {
    "collapsed": true
   },
   "outputs": [],
   "source": []
  }
 ],
 "metadata": {
  "kernelspec": {
   "display_name": "Python 3",
   "language": "python",
   "name": "python3"
  },
  "language_info": {
   "codemirror_mode": {
    "name": "ipython",
    "version": 3
   },
   "file_extension": ".py",
   "mimetype": "text/x-python",
   "name": "python",
   "nbconvert_exporter": "python",
   "pygments_lexer": "ipython3",
   "version": "3.6.0"
  }
 },
 "nbformat": 4,
 "nbformat_minor": 2
}
